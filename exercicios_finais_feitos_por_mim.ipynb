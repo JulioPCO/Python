{
 "cells": [
  {
   "cell_type": "markdown",
   "metadata": {
    "colab_type": "text",
    "id": "sDO_P7ciDAMV"
   },
   "source": [
    "## 10. Aplicando e adquirindo conhecimentos"
   ]
  },
  {
   "cell_type": "markdown",
   "metadata": {
    "colab_type": "text",
    "id": "T3_UNsQ0LB1W"
   },
   "source": [
    "## Exercício 1"
   ]
  },
  {
   "cell_type": "markdown",
   "metadata": {
    "colab_type": "text",
    "id": "CFwtO8v0DVNB"
   },
   "source": [
    "### Questao 1\n",
    "\n",
    "*   Crie uma **lista** usando o **for** que armazene apenas os quadrados dos números pares de 1 a 10.\n",
    "\n"
   ]
  },
  {
   "cell_type": "code",
   "execution_count": 195,
   "metadata": {
    "colab": {},
    "colab_type": "code",
    "id": "0kl2pmuzDLPY"
   },
   "outputs": [
    {
     "data": {
      "text/plain": [
       "[0, 4, 16, 36, 64, 100]"
      ]
     },
     "execution_count": 195,
     "metadata": {},
     "output_type": "execute_result"
    }
   ],
   "source": [
    "lista =[]\n",
    "for i in range(11):\n",
    "    if i%2 ==0:\n",
    "        lista.append(i**2)\n",
    "        \n",
    "lista"
   ]
  },
  {
   "cell_type": "code",
   "execution_count": 8,
   "metadata": {
    "colab": {
     "base_uri": "https://localhost:8080/",
     "height": 34
    },
    "colab_type": "code",
    "id": "5BjxMh-zDTNW",
    "outputId": "b9a97d8c-fb8c-433c-a2f7-9e16bd8019bf"
   },
   "outputs": [
    {
     "data": {
      "text/plain": [
       "[0, 4, 16, 36, 64]"
      ]
     },
     "execution_count": 8,
     "metadata": {},
     "output_type": "execute_result"
    }
   ],
   "source": []
  },
  {
   "cell_type": "markdown",
   "metadata": {
    "colab_type": "text",
    "id": "IcxMTPRqW_hk"
   },
   "source": [
    "\n",
    "\n",
    "*   Para o mesmo problema, faça usando o **list comprehension**\n",
    "\n"
   ]
  },
  {
   "cell_type": "code",
   "execution_count": 196,
   "metadata": {
    "colab": {
     "base_uri": "https://localhost:8080/",
     "height": 34
    },
    "colab_type": "code",
    "id": "nD9YsFTnDTDG",
    "outputId": "90c2ab2a-c766-40c7-febe-35979033a681"
   },
   "outputs": [
    {
     "data": {
      "text/plain": [
       "[0, 4, 16, 36, 64, 100]"
      ]
     },
     "execution_count": 196,
     "metadata": {},
     "output_type": "execute_result"
    }
   ],
   "source": [
    "\n",
    "listaa = [i**2 for i in range(11) if i%2 ==0]\n",
    "listaa"
   ]
  },
  {
   "cell_type": "markdown",
   "metadata": {
    "colab_type": "text",
    "id": "L5x-YBL4HL9M"
   },
   "source": [
    "### Questão 2:"
   ]
  },
  {
   "cell_type": "markdown",
   "metadata": {
    "colab_type": "text",
    "id": "n4SNnGViYAqN"
   },
   "source": [
    "Crie uma função **def** que receba como parâmetros: \n",
    "\n",
    "*   uma **lista** de 10 números de 10 a 20\n",
    "*   uma função **lambda** que calcula a raiz quadrada.\n",
    "\n",
    "Por fim, a função **def** deve retornar uma lista com os resultados das raízes de cada um dos números da lista passada por parâmetro."
   ]
  },
  {
   "cell_type": "code",
   "execution_count": 40,
   "metadata": {
    "colab": {},
    "colab_type": "code",
    "id": "La83TMQtIMyd"
   },
   "outputs": [],
   "source": [
    "def funcao(listaNum, f):\n",
    "    a = [f(i) for i in (listaNum)]\n",
    "    return a"
   ]
  },
  {
   "cell_type": "code",
   "execution_count": 41,
   "metadata": {
    "colab": {
     "base_uri": "https://localhost:8080/",
     "height": 54
    },
    "colab_type": "code",
    "id": "mYApMl6bIRyJ",
    "outputId": "b72d9491-74a4-4d7f-c0e0-37700adb4869"
   },
   "outputs": [
    {
     "data": {
      "text/plain": [
       "[3.1622776601683795,\n",
       " 3.3166247903554,\n",
       " 3.4641016151377544,\n",
       " 3.605551275463989,\n",
       " 3.7416573867739413,\n",
       " 3.872983346207417,\n",
       " 4.0,\n",
       " 4.123105625617661,\n",
       " 4.242640687119285,\n",
       " 4.358898943540674,\n",
       " 4.47213595499958]"
      ]
     },
     "execution_count": 41,
     "metadata": {},
     "output_type": "execute_result"
    }
   ],
   "source": [
    "listaNum = list(range(10,21))\n",
    "listaNum\n",
    "\n",
    "f = lambda x: x**0.5\n",
    "\n",
    "funcao(listaNum,f)"
   ]
  },
  {
   "cell_type": "markdown",
   "metadata": {
    "colab_type": "text",
    "id": "OkIv9aiFKTip"
   },
   "source": [
    "Perceba que não importa o tipo de função que é passada como parâmetro. \n",
    "\n",
    "Pode ser um **lambda**, **def** ou uma funcao de alguma biblioteca, desde que essa tenha a mesma assinatura (ex. mesmo número de parâmetros). \n"
   ]
  },
  {
   "cell_type": "markdown",
   "metadata": {
    "colab_type": "text",
    "id": "pXzsASFlzQv-"
   },
   "source": [
    "**Soluções Alternativas**  "
   ]
  },
  {
   "cell_type": "code",
   "execution_count": null,
   "metadata": {
    "colab": {},
    "colab_type": "code",
    "id": "7sgKO66JIRh6"
   },
   "outputs": [],
   "source": []
  },
  {
   "cell_type": "code",
   "execution_count": null,
   "metadata": {
    "colab": {},
    "colab_type": "code",
    "id": "Dzd7XfkNzkn7"
   },
   "outputs": [],
   "source": []
  },
  {
   "cell_type": "code",
   "execution_count": null,
   "metadata": {
    "colab": {
     "base_uri": "https://localhost:8080/",
     "height": 34
    },
    "colab_type": "code",
    "id": "oVwX3q8BHkZE",
    "outputId": "7b6ef3d3-f280-4a95-8999-93286b4f718b"
   },
   "outputs": [],
   "source": []
  },
  {
   "cell_type": "code",
   "execution_count": null,
   "metadata": {
    "colab": {},
    "colab_type": "code",
    "id": "TNxVSvRkIA7e"
   },
   "outputs": [],
   "source": []
  },
  {
   "cell_type": "code",
   "execution_count": null,
   "metadata": {
    "colab": {
     "base_uri": "https://localhost:8080/",
     "height": 34
    },
    "colab_type": "code",
    "id": "r0WFtx6RI38V",
    "outputId": "3537e49c-d2ce-410e-c818-3a8b6bff331c"
   },
   "outputs": [],
   "source": []
  },
  {
   "cell_type": "markdown",
   "metadata": {
    "colab_type": "text",
    "id": "p3xr0QmG03sK"
   },
   "source": [
    "Para facilitar a sua visualização, você poderia pensar em criar um dicionário no interior da função **def**.\n",
    "\n",
    "Depois, retornar esse dicionário. "
   ]
  },
  {
   "cell_type": "code",
   "execution_count": 43,
   "metadata": {
    "colab": {},
    "colab_type": "code",
    "id": "-Q-YScihJQQ5"
   },
   "outputs": [],
   "source": [
    "def funcao(listaNum, f):\n",
    "    a = {i:f(i) for i in (listaNum)}\n",
    "    return a"
   ]
  },
  {
   "cell_type": "code",
   "execution_count": 44,
   "metadata": {
    "colab": {},
    "colab_type": "code",
    "id": "_nefPTXOJSd3"
   },
   "outputs": [
    {
     "data": {
      "text/plain": [
       "{10: 3.1622776601683795,\n",
       " 11: 3.3166247903554,\n",
       " 12: 3.4641016151377544,\n",
       " 13: 3.605551275463989,\n",
       " 14: 3.7416573867739413,\n",
       " 15: 3.872983346207417,\n",
       " 16: 4.0,\n",
       " 17: 4.123105625617661,\n",
       " 18: 4.242640687119285,\n",
       " 19: 4.358898943540674,\n",
       " 20: 4.47213595499958}"
      ]
     },
     "execution_count": 44,
     "metadata": {},
     "output_type": "execute_result"
    }
   ],
   "source": [
    "listaNum = list(range(10,21))\n",
    "listaNum\n",
    "\n",
    "f = lambda x: x**0.5\n",
    "\n",
    "funcao(listaNum,f)"
   ]
  },
  {
   "cell_type": "code",
   "execution_count": null,
   "metadata": {
    "colab": {
     "base_uri": "https://localhost:8080/",
     "height": 34
    },
    "colab_type": "code",
    "id": "V0NyyU6F1lY_",
    "outputId": "7811b161-ef32-4b43-f44e-5c8634c9687d"
   },
   "outputs": [],
   "source": []
  },
  {
   "cell_type": "code",
   "execution_count": null,
   "metadata": {
    "colab": {
     "base_uri": "https://localhost:8080/",
     "height": 208
    },
    "colab_type": "code",
    "id": "8lFiZ6aI1mYy",
    "outputId": "977fb3de-5fd9-4367-cb30-1ba16c97ac2d"
   },
   "outputs": [],
   "source": []
  },
  {
   "cell_type": "markdown",
   "metadata": {
    "colab_type": "text",
    "id": "aDy0Kbf0ISeS"
   },
   "source": [
    "### Questão 3: "
   ]
  },
  {
   "cell_type": "markdown",
   "metadata": {
    "colab_type": "text",
    "id": "zhyN71WOY_xp"
   },
   "source": [
    "*   Escreva uma função **def** que receba como parâmetro o início e o fim de um intervalo e crie uma lista com os valores dentro desse intervalo (incluindo o valor final). \n",
    "\n",
    "*   Dentro dessa mesma função **def** crie outra lista contendo os quadrados dos valores da primeira lista. \n",
    "\n",
    "*   Retorne essas duas listas.\n",
    "\n",
    "\n"
   ]
  },
  {
   "cell_type": "code",
   "execution_count": 49,
   "metadata": {
    "colab": {},
    "colab_type": "code",
    "id": "ct36wACII176"
   },
   "outputs": [],
   "source": [
    "def func(inicio,fim):\n",
    "    listaaa = [i for i in range(inicio,fim)]\n",
    "    listaaa2 = [i**2 for i in listaaa]\n",
    "    return listaaa,listaaa2"
   ]
  },
  {
   "cell_type": "code",
   "execution_count": 50,
   "metadata": {
    "colab": {
     "base_uri": "https://localhost:8080/",
     "height": 34
    },
    "colab_type": "code",
    "id": "WaCQeYe5K7ra",
    "outputId": "901b3785-e68a-4fc5-d4b5-85afefdfd1d1"
   },
   "outputs": [
    {
     "name": "stdout",
     "output_type": "stream",
     "text": [
      "[1, 2, 3, 4]\n",
      "[1, 4, 9, 16]\n"
     ]
    }
   ],
   "source": [
    "lista1,lista2 = func(1,5)\n",
    "print(lista1)\n",
    "print(lista2)"
   ]
  },
  {
   "cell_type": "markdown",
   "metadata": {
    "colab_type": "text",
    "id": "4gl7yZZwfaR_"
   },
   "source": [
    "\n",
    "*   Com as listas criadas anteriormente, crie um gráfico e veja como os dados da lista ficam distribuídos. \n",
    "\n",
    "*   Em seguida, save o gráfico criado"
   ]
  },
  {
   "cell_type": "markdown",
   "metadata": {
    "colab_type": "text",
    "id": "5HVIviSkI2sc"
   },
   "source": [
    "Para criar um gráfico siga as seguintes instruções:\n",
    "\n",
    "1. Importe a biblioteca **matplotlib** da seguinte forma: import matplotlib.pyplot as plt\n",
    "2. Digite a seguinte linha de comando a seguir: plt.plot(nome_da_lista1), plt.plot(nome_lista2) e, em baixo, plt.show()\n",
    "3. Para salvar a figura digite: plt.savefig(\"nome_da_figura.png\")\n",
    "\n",
    "Para mais informações acesse a [documentação oficial](https://matplotlib.org/tutorials/introductory/usage.html#sphx-glr-tutorials-introductory-usage-py)"
   ]
  },
  {
   "cell_type": "code",
   "execution_count": 52,
   "metadata": {
    "colab": {},
    "colab_type": "code",
    "id": "qKfNqJbmK7dK"
   },
   "outputs": [
    {
     "data": {
      "image/png": "[encoded data removed]",
      "text/plain": [
       "<Figure size 432x288 with 1 Axes>"
      ]
     },
     "metadata": {
      "needs_background": "light"
     },
     "output_type": "display_data"
    }
   ],
   "source": [
    "import matplotlib.pyplot as plt\n",
    "plt.plot(lista1)\n",
    "plt.plot(lista2)\n",
    "plt.show()\n"
   ]
  },
  {
   "cell_type": "code",
   "execution_count": null,
   "metadata": {
    "colab": {
     "base_uri": "https://localhost:8080/",
     "height": 282
    },
    "colab_type": "code",
    "id": "6vBIV2frbrtJ",
    "outputId": "4b4101e0-0ed7-4cd7-dcd5-72543ae4e405"
   },
   "outputs": [],
   "source": []
  },
  {
   "cell_type": "markdown",
   "metadata": {
    "colab_type": "text",
    "id": "QeXp_hMwLEy4"
   },
   "source": [
    "## Exercíco 2"
   ]
  },
  {
   "cell_type": "markdown",
   "metadata": {
    "colab_type": "text",
    "id": "pIVhBA2TPA9l"
   },
   "source": [
    "### Questão 1: "
   ]
  },
  {
   "cell_type": "markdown",
   "metadata": {
    "colab_type": "text",
    "id": "cOAa6WpYcfIH"
   },
   "source": [
    "*   Crie uma lista de 30 valores aleatórios entre 1 e 50 usando a biblioteca **random** \n",
    "\n",
    "\n"
   ]
  },
  {
   "cell_type": "markdown",
   "metadata": {
    "colab_type": "text",
    "id": "m0EVuv6hJ6q-"
   },
   "source": [
    "Para criar uma lista de números aleatórios você poderá usar a biblioteca **random**. \n",
    "\n",
    "Para isso importe a biblioteca da seguinte forma: \n",
    "\n",
    "**import random** \n",
    "\n",
    "Em seguinda crie a lista usando a linha de comando **random.randint(inicio, final)** dentro da construção da lista. \n",
    "\n",
    "Exemplo:\n",
    "\n",
    "nome_da_lista = [random.randint(1, 10) for i in range(10)]\n",
    "\n",
    "Para mais informações sobre a biblioteca acesse a [documentação oficial](https://docs.python.org/3/library/random.html)"
   ]
  },
  {
   "cell_type": "code",
   "execution_count": 53,
   "metadata": {
    "colab": {},
    "colab_type": "code",
    "id": "m72yfgBrLGGo"
   },
   "outputs": [],
   "source": [
    "import random as rd"
   ]
  },
  {
   "cell_type": "code",
   "execution_count": 56,
   "metadata": {
    "colab": {},
    "colab_type": "code",
    "collapsed": true,
    "id": "s59I6-BkOMNF"
   },
   "outputs": [
    {
     "data": {
      "text/plain": [
       "[49,\n",
       " 27,\n",
       " 22,\n",
       " 12,\n",
       " 5,\n",
       " 36,\n",
       " 41,\n",
       " 48,\n",
       " 20,\n",
       " 25,\n",
       " 26,\n",
       " 36,\n",
       " 12,\n",
       " 50,\n",
       " 36,\n",
       " 2,\n",
       " 12,\n",
       " 34,\n",
       " 35,\n",
       " 40,\n",
       " 12,\n",
       " 39,\n",
       " 47,\n",
       " 50,\n",
       " 18,\n",
       " 26,\n",
       " 6,\n",
       " 36,\n",
       " 45,\n",
       " 24]"
      ]
     },
     "execution_count": 56,
     "metadata": {},
     "output_type": "execute_result"
    }
   ],
   "source": [
    "listarandomica = [rd.randint(1,50) for i in range(1,31)]\n",
    "listarandomica"
   ]
  },
  {
   "cell_type": "code",
   "execution_count": null,
   "metadata": {
    "colab": {
     "base_uri": "https://localhost:8080/",
     "height": 34
    },
    "colab_type": "code",
    "id": "x9THQNimOtUk",
    "outputId": "82033f80-3b56-495b-afe1-56442a5cacdb"
   },
   "outputs": [],
   "source": []
  },
  {
   "cell_type": "markdown",
   "metadata": {
    "colab_type": "text",
    "id": "tBv00rm8cl4q"
   },
   "source": [
    "*   Crie uma cópia da lista criada acima\n",
    "\n",
    "Observação: Atribuir a lista antiga a uma nova variável **NÃO** é uma solução para esse problema de cópia. Vamos discutir isso a seguir.\n"
   ]
  },
  {
   "cell_type": "markdown",
   "metadata": {
    "colab_type": "text",
    "id": "rppNJ9Np8CSU"
   },
   "source": [
    "> * Usando **for** para copiar item a item"
   ]
  },
  {
   "cell_type": "code",
   "execution_count": 57,
   "metadata": {
    "colab": {
     "base_uri": "https://localhost:8080/",
     "height": 34
    },
    "colab_type": "code",
    "collapsed": true,
    "id": "Y1W55Bej3yuu",
    "outputId": "686e93c0-10d3-4b3a-92b4-6dfec64b1167"
   },
   "outputs": [
    {
     "data": {
      "text/plain": [
       "[49,\n",
       " 27,\n",
       " 22,\n",
       " 12,\n",
       " 5,\n",
       " 36,\n",
       " 41,\n",
       " 48,\n",
       " 20,\n",
       " 25,\n",
       " 26,\n",
       " 36,\n",
       " 12,\n",
       " 50,\n",
       " 36,\n",
       " 2,\n",
       " 12,\n",
       " 34,\n",
       " 35,\n",
       " 40,\n",
       " 12,\n",
       " 39,\n",
       " 47,\n",
       " 50,\n",
       " 18,\n",
       " 26,\n",
       " 6,\n",
       " 36,\n",
       " 45,\n",
       " 24]"
      ]
     },
     "execution_count": 57,
     "metadata": {},
     "output_type": "execute_result"
    }
   ],
   "source": [
    "nova_lista = [i for i in listarandomica]\n",
    "nova_lista"
   ]
  },
  {
   "cell_type": "code",
   "execution_count": null,
   "metadata": {
    "colab": {
     "base_uri": "https://localhost:8080/",
     "height": 34
    },
    "colab_type": "code",
    "id": "Zjf5TKYF4Jzm",
    "outputId": "d00105f5-3419-42f1-8977-8a08f77c5b03"
   },
   "outputs": [],
   "source": []
  },
  {
   "cell_type": "markdown",
   "metadata": {
    "colab_type": "text",
    "id": "U0CYwlK9w4XU"
   },
   "source": [
    "> * Usando o método **copy()**"
   ]
  },
  {
   "cell_type": "code",
   "execution_count": 63,
   "metadata": {
    "colab": {},
    "colab_type": "code",
    "collapsed": true,
    "id": "tEROu5hAThQX"
   },
   "outputs": [
    {
     "data": {
      "text/plain": [
       "[49,\n",
       " 27,\n",
       " 22,\n",
       " 12,\n",
       " 5,\n",
       " 36,\n",
       " 41,\n",
       " 48,\n",
       " 20,\n",
       " 25,\n",
       " 26,\n",
       " 36,\n",
       " 12,\n",
       " 50,\n",
       " 36,\n",
       " 2,\n",
       " 12,\n",
       " 34,\n",
       " 35,\n",
       " 40,\n",
       " 12,\n",
       " 39,\n",
       " 47,\n",
       " 50,\n",
       " 18,\n",
       " 26,\n",
       " 6,\n",
       " 36,\n",
       " 45,\n",
       " 24]"
      ]
     },
     "execution_count": 63,
     "metadata": {},
     "output_type": "execute_result"
    }
   ],
   "source": [
    "import copy\n",
    "nova_lista2 = copy.copy(listarandomica)\n",
    "nova_lista2"
   ]
  },
  {
   "cell_type": "code",
   "execution_count": null,
   "metadata": {
    "colab": {
     "base_uri": "https://localhost:8080/",
     "height": 52
    },
    "colab_type": "code",
    "id": "RwcNkFo7ThBA",
    "outputId": "6a58fe87-d8f2-4c0e-ac3d-385cf95e3fef"
   },
   "outputs": [],
   "source": []
  },
  {
   "cell_type": "markdown",
   "metadata": {
    "colab_type": "text",
    "id": "4ILSOLbi4JYV"
   },
   "source": [
    "**DISCUSSÃO IMPORTANTE:** "
   ]
  },
  {
   "cell_type": "markdown",
   "metadata": {
    "colab_type": "text",
    "id": "5s1f90u54PGy"
   },
   "source": [
    "Repare que atribuir a lista antiga a uma nova variável **NÃO** é uma solução para esse problema de cópia.\n",
    "\n",
    "Exemplo:"
   ]
  },
  {
   "cell_type": "code",
   "execution_count": 64,
   "metadata": {
    "colab": {
     "base_uri": "https://localhost:8080/",
     "height": 52
    },
    "colab_type": "code",
    "id": "Im_qgWip4g_C",
    "outputId": "824e05b4-a3f9-4cf4-8727-28252693495c"
   },
   "outputs": [],
   "source": [
    "listarandomica2 = listarandomica"
   ]
  },
  {
   "cell_type": "markdown",
   "metadata": {
    "colab_type": "text",
    "id": "rp8Evvs14p-0"
   },
   "source": [
    "Apesar de parecerem cópias, as duas listas são o mesmo objeto.\n",
    "\n",
    "Ou seja, **se eu tentar mudar um, o outro também será alterado!!**"
   ]
  },
  {
   "cell_type": "code",
   "execution_count": 66,
   "metadata": {
    "colab": {
     "base_uri": "https://localhost:8080/",
     "height": 52
    },
    "colab_type": "code",
    "collapsed": true,
    "id": "kIAEPeAV44YJ",
    "outputId": "76394684-6140-4ee9-8f21-c0be00ce0e79"
   },
   "outputs": [
    {
     "data": {
      "text/plain": [
       "[49,\n",
       " 27,\n",
       " 22,\n",
       " 12,\n",
       " 5,\n",
       " 36,\n",
       " 41,\n",
       " 48,\n",
       " 20,\n",
       " 25,\n",
       " 26,\n",
       " 36,\n",
       " 12,\n",
       " 50,\n",
       " 36,\n",
       " 2,\n",
       " 12,\n",
       " 34,\n",
       " 35,\n",
       " 40,\n",
       " 12,\n",
       " 39,\n",
       " 47,\n",
       " 50,\n",
       " 18,\n",
       " 26,\n",
       " 6,\n",
       " 36,\n",
       " 45,\n",
       " 24]"
      ]
     },
     "execution_count": 66,
     "metadata": {},
     "output_type": "execute_result"
    }
   ],
   "source": [
    "listarandomica.append(2)\n",
    "listarandomica2\n",
    "nova_lista\n",
    "nova_lista2"
   ]
  },
  {
   "cell_type": "markdown",
   "metadata": {
    "colab_type": "text",
    "id": "OMndPSjk5Y4o"
   },
   "source": [
    "Isso não acontece quando copiamos elemento a elemento no **for** ou quando utilizamos o método **copy()**. Verifique! "
   ]
  },
  {
   "cell_type": "markdown",
   "metadata": {
    "colab_type": "text",
    "id": "9aQ0XB3YPHCE"
   },
   "source": [
    "### Questão 2: "
   ]
  },
  {
   "cell_type": "markdown",
   "metadata": {
    "colab_type": "text",
    "id": "mr16zqfNdowS"
   },
   "source": [
    "*   Plote um histograma do vetor aleatório criado"
   ]
  },
  {
   "cell_type": "markdown",
   "metadata": {
    "colab_type": "text",
    "id": "T9myvPtSVDBw"
   },
   "source": [
    "Para criar o histograma use a mesma biblioteca **matplotlib.pyplot** usada no exercício anterior: **import matplotlib.pyplot as plt** \n",
    "\n",
    "Porém, com um método diferente: **plt.hist(nome_lista)**. \n",
    "\n",
    "Em seguida use o comando **plt.show()**"
   ]
  },
  {
   "cell_type": "code",
   "execution_count": 67,
   "metadata": {
    "colab": {},
    "colab_type": "code",
    "id": "l9TbCCdp8F_6"
   },
   "outputs": [
    {
     "data": {
      "text/plain": [
       "<function matplotlib.pyplot.show(*args, **kw)>"
      ]
     },
     "execution_count": 67,
     "metadata": {},
     "output_type": "execute_result"
    },
    {
     "data": {
      "image/png": "[encoded data removed]",
      "text/plain": [
       "<Figure size 432x288 with 1 Axes>"
      ]
     },
     "metadata": {
      "needs_background": "light"
     },
     "output_type": "display_data"
    }
   ],
   "source": [
    "import matplotlib.pyplot as plt\n",
    "plt.hist(nova_lista)\n",
    "plt.show"
   ]
  },
  {
   "cell_type": "code",
   "execution_count": null,
   "metadata": {
    "colab": {
     "base_uri": "https://localhost:8080/",
     "height": 265
    },
    "colab_type": "code",
    "id": "nDkgh-mLPJvo",
    "outputId": "413b3c01-565e-496c-f0f9-cb1422ede9f0"
   },
   "outputs": [],
   "source": []
  },
  {
   "cell_type": "markdown",
   "metadata": {
    "colab_type": "text",
    "id": "E-g380ivYk-Z"
   },
   "source": [
    "### Questão 3:  "
   ]
  },
  {
   "cell_type": "markdown",
   "metadata": {
    "colab_type": "text",
    "id": "c9GzLz2OiLHU"
   },
   "source": [
    "Usando a cópia feita do vetor na questão 1:\n",
    "\n",
    "* Crie uma função chamada ordenaLista() que recebe uma lista como parâmetro e retorna uma lista em ordem crescente "
   ]
  },
  {
   "cell_type": "markdown",
   "metadata": {
    "colab_type": "text",
    "id": "h5qkP3Co7PxL"
   },
   "source": [
    "**APOIO TEÓRICO**"
   ]
  },
  {
   "cell_type": "markdown",
   "metadata": {
    "colab_type": "text",
    "id": "tSvW0KXxlHX-"
   },
   "source": [
    "Muitas vezes quando estamos programando precisamos de um conjunto de dados que esteja ordenado. Para isso, temos uma gama de algoritmos que podemos usar. Dentre os mais simples, podemos citar:\n",
    "\n",
    "* **Bubble sort**:\n",
    "\n",
    "A ordenação por flutuação, ou bubble sort, é o algoritmo de ordenação mais simples. A ideia é sempre iterar toda a lista de itens quantas vezes forem necessário até que os itens estejam na ordem correta. Ele compara itens adjacentes e troca aqueles que estão fora de ordem. Cada passagem pela lista coloca o próximo maior valor na sua posição correta.\n",
    "\n",
    "Veja o vídeo a seguir para entender melhor: [vídeo bubble sort](https://www.youtube.com/watch?v=lyZQPjUT5B4)\n",
    "\n",
    "Para construir seu código, siga o pseudocódigo a seguir:\n",
    "\n",
    "\n",
    "\n",
    "```\n",
    "procedimento BubbleSort(A : lista, N: tamanho): \n",
    "     para j → 1 até N-1 faça\n",
    "        para i → 1 até N-1 faça\n",
    "            se A[i] > A[i+1] então\n",
    "                aux → A[i];\n",
    "                A[i] → A[i+1];\n",
    "                A[i+1] → aux;\n",
    "            fim-se\n",
    "        fim-para\n",
    "    fim-para\n",
    "```"
   ]
  },
  {
   "cell_type": "markdown",
   "metadata": {
    "colab_type": "text",
    "id": "QUXvLc06w4YT"
   },
   "source": [
    "* **Insertion sort**: \n",
    "\n",
    "É o método que percorre um vetor de elementos da esquerda para a direita e à medida que avança vai ordenando os elementos à esquerda. O algoritmo consiste em a cada passo da iteraçã, a partir do segundo elemento, selecionar o próximo item da sequência e colocá-lo no local apropriado de acordo com o critério de ordenação.\n",
    "\n",
    "Veja o vídeo a seguir para entender melhor: [vídeo insertion sort](https://www.youtube.com/watch?v=ROalU379l3U)\n",
    "\n",
    "Para entender melhor como funciona o algoritmo do insertioin sort veja o pseudocódigo:\n",
    "\n",
    "```\n",
    "procedimento Insertion_sort (A: lista, N: tamanho)\n",
    "        para j -> 1 até N - 1 faça\n",
    "                eleito <- A[i];\n",
    "                j <- i-1;\n",
    "                enquanto ((j>=0) e (eleito < A[j])) faça\n",
    "                          A[j+1]-> A[j]; # Elemento de lista numerada\n",
    "                          j -> j-1;\n",
    "                fim enquanto\n",
    "                A[j+1] <- eleito;\n",
    "        fim para\n",
    "```"
   ]
  },
  {
   "cell_type": "code",
   "execution_count": 75,
   "metadata": {
    "colab": {},
    "colab_type": "code",
    "id": "hW2RHFL9ZuZN"
   },
   "outputs": [],
   "source": [
    "def bubbleSort(A,tamanho):\n",
    "    j=0\n",
    "    while j < tamanho-1:\n",
    "        i=0\n",
    "        while i < tamanho-1:\n",
    "            if A[i]>A[i+1]:\n",
    "                aux = A[i]\n",
    "                A[i] = A[i+1]\n",
    "                A[i+1] = aux\n",
    "            i=i+1\n",
    "        j=j+1\n",
    "    return A\n",
    "        "
   ]
  },
  {
   "cell_type": "code",
   "execution_count": 77,
   "metadata": {
    "colab": {
     "base_uri": "https://localhost:8080/",
     "height": 34
    },
    "colab_type": "code",
    "collapsed": true,
    "id": "tb6B-QvAZuE5",
    "outputId": "fb794ae1-b0e9-43a7-a997-42cf98a984c9"
   },
   "outputs": [
    {
     "data": {
      "text/plain": [
       "[2,\n",
       " 5,\n",
       " 6,\n",
       " 12,\n",
       " 12,\n",
       " 12,\n",
       " 12,\n",
       " 18,\n",
       " 20,\n",
       " 22,\n",
       " 24,\n",
       " 25,\n",
       " 26,\n",
       " 26,\n",
       " 27,\n",
       " 34,\n",
       " 35,\n",
       " 36,\n",
       " 36,\n",
       " 36,\n",
       " 36,\n",
       " 39,\n",
       " 40,\n",
       " 41,\n",
       " 45,\n",
       " 47,\n",
       " 48,\n",
       " 49,\n",
       " 50,\n",
       " 50]"
      ]
     },
     "execution_count": 77,
     "metadata": {},
     "output_type": "execute_result"
    }
   ],
   "source": [
    "Listaord = bubbleSort(nova_lista,len(nova_lista))\n",
    "Listaord"
   ]
  },
  {
   "cell_type": "code",
   "execution_count": 86,
   "metadata": {
    "colab": {
     "base_uri": "https://localhost:8080/",
     "height": 34
    },
    "colab_type": "code",
    "id": "_CW4pmfIvwe-",
    "outputId": "2a08e8ad-b7be-4fad-de45-fe69276c4474"
   },
   "outputs": [],
   "source": [
    "def insertion_sort(A,N):\n",
    "    for i in range(N):\n",
    "        eleito = A[i]\n",
    "        j = i-1\n",
    "        while (j>=0 and eleito < A[j]):\n",
    "            A[j+1] = A[j]\n",
    "            j = j-1\n",
    "        A[j+1] = eleito\n",
    "    return A"
   ]
  },
  {
   "cell_type": "code",
   "execution_count": 87,
   "metadata": {
    "collapsed": true
   },
   "outputs": [
    {
     "data": {
      "text/plain": [
       "[2,\n",
       " 5,\n",
       " 6,\n",
       " 12,\n",
       " 12,\n",
       " 12,\n",
       " 12,\n",
       " 18,\n",
       " 20,\n",
       " 22,\n",
       " 24,\n",
       " 25,\n",
       " 26,\n",
       " 26,\n",
       " 27,\n",
       " 34,\n",
       " 35,\n",
       " 36,\n",
       " 36,\n",
       " 36,\n",
       " 36,\n",
       " 39,\n",
       " 40,\n",
       " 41,\n",
       " 45,\n",
       " 47,\n",
       " 48,\n",
       " 49,\n",
       " 50,\n",
       " 50]"
      ]
     },
     "execution_count": 87,
     "metadata": {},
     "output_type": "execute_result"
    }
   ],
   "source": [
    "Listaord = insertion_sort(nova_lista,len(nova_lista))\n",
    "Listaord"
   ]
  },
  {
   "cell_type": "code",
   "execution_count": 81,
   "metadata": {},
   "outputs": [],
   "source": []
  },
  {
   "cell_type": "markdown",
   "metadata": {
    "colab_type": "text",
    "id": "FDa8pJpkPLog"
   },
   "source": [
    "### Questão 4: "
   ]
  },
  {
   "cell_type": "markdown",
   "metadata": {
    "colab_type": "text",
    "id": "Cv6QicXPd1tA"
   },
   "source": [
    "Sobre o vetor aleatório criado na Questão 1.\n",
    "\n",
    "Vamos trabalhar com cálculo de **medidas de tendência central**.\n",
    "\n"
   ]
  },
  {
   "cell_type": "markdown",
   "metadata": {
    "colab_type": "text",
    "id": "2oDFX84f-WXt"
   },
   "source": [
    "*   Calcule a média\n",
    "\n",
    "A média é uma medida de tendência central dada pela divisão do somatório dos números dados pela quantidade de números somados. Sua fórmula é dada por: \n",
    "\n",
    "\\begin{align}\n",
    "Média =\\frac{x_{1} + x_{2} + \\cdots + x_{n}}{n}\n",
    "\\end{align}\n",
    "\n",
    "Em que n é a quantidade total de números "
   ]
  },
  {
   "cell_type": "code",
   "execution_count": 89,
   "metadata": {
    "colab": {
     "base_uri": "https://localhost:8080/",
     "height": 34
    },
    "colab_type": "code",
    "id": "THTtWAtyPOqk",
    "outputId": "76aba892-8d1a-491c-eb6b-293838d51305"
   },
   "outputs": [
    {
     "data": {
      "text/plain": [
       "29.033333333333335"
      ]
     },
     "execution_count": 89,
     "metadata": {},
     "output_type": "execute_result"
    }
   ],
   "source": [
    "a=0\n",
    "for i in nova_lista:\n",
    "    a = a+i\n",
    "\n",
    "med = a/len(nova_lista)\n",
    "med"
   ]
  },
  {
   "cell_type": "code",
   "execution_count": null,
   "metadata": {
    "colab": {},
    "colab_type": "code",
    "id": "HRBptM-TUUGl",
    "outputId": "ea84905b-5836-4e06-b4c9-7b092ec7ac53"
   },
   "outputs": [],
   "source": []
  },
  {
   "cell_type": "markdown",
   "metadata": {},
   "source": [
    "No dia a dia de trabalho, podemos utilizar o método **mean()** da biblioteca **statistics**"
   ]
  },
  {
   "cell_type": "code",
   "execution_count": 92,
   "metadata": {},
   "outputs": [
    {
     "data": {
      "text/plain": [
       "29.033333333333335"
      ]
     },
     "execution_count": 92,
     "metadata": {},
     "output_type": "execute_result"
    }
   ],
   "source": [
    "import statistics as st\n",
    "med = st.mean(nova_lista)\n",
    "\n",
    "med"
   ]
  },
  {
   "cell_type": "code",
   "execution_count": null,
   "metadata": {},
   "outputs": [],
   "source": []
  },
  {
   "cell_type": "markdown",
   "metadata": {
    "colab_type": "text",
    "id": "BsS8654rdP9I"
   },
   "source": [
    "*   Calcule a mediana\n",
    "\n",
    "Quando nosso conjunto de números estiver organizado em ordem crescente ou decrescente, a mediana será o número que ocupa a posição central da lista. Se a lista possuir um número par de informações, para encontrar a mediana, devemos encontrar os dois valores centrais (a1 e a2) da lista, somá-los e dividir o resultado por 2. \n",
    "\n"
   ]
  },
  {
   "cell_type": "code",
   "execution_count": 181,
   "metadata": {
    "colab": {
     "base_uri": "https://localhost:8080/",
     "height": 34
    },
    "colab_type": "code",
    "id": "twqXvv9wYkiD",
    "outputId": "f9589162-d609-4a90-b6a6-054446f6aeb1"
   },
   "outputs": [
    {
     "data": {
      "text/plain": [
       "30.5"
      ]
     },
     "execution_count": 181,
     "metadata": {},
     "output_type": "execute_result"
    }
   ],
   "source": [
    "a=0\n",
    "for i in range(len(nova_lista)):\n",
    "    if (len(nova_lista))%2 != 0:\n",
    "        if (i==len(nova_lista)/2):\n",
    "            a = nova_lista[i]\n",
    "    else:\n",
    "        if (i == round(len(nova_lista)/2)):\n",
    "            a = (nova_lista[i]+nova_lista[i-1])/2\n",
    "mediana = a\n",
    "\n",
    "mediana"
   ]
  },
  {
   "cell_type": "code",
   "execution_count": 115,
   "metadata": {
    "colab": {
     "base_uri": "https://localhost:8080/",
     "height": 34
    },
    "colab_type": "code",
    "collapsed": true,
    "id": "zQDXL846VQoS",
    "outputId": "14cd006b-0459-4fa8-e00e-06b495248884"
   },
   "outputs": [
    {
     "data": {
      "text/plain": [
       "[2,\n",
       " 5,\n",
       " 6,\n",
       " 12,\n",
       " 12,\n",
       " 12,\n",
       " 12,\n",
       " 18,\n",
       " 20,\n",
       " 22,\n",
       " 24,\n",
       " 25,\n",
       " 26,\n",
       " 26,\n",
       " 27,\n",
       " 34,\n",
       " 35,\n",
       " 36,\n",
       " 36,\n",
       " 36,\n",
       " 36,\n",
       " 39,\n",
       " 40,\n",
       " 41,\n",
       " 45,\n",
       " 47,\n",
       " 48,\n",
       " 49,\n",
       " 50,\n",
       " 50]"
      ]
     },
     "execution_count": 115,
     "metadata": {},
     "output_type": "execute_result"
    }
   ],
   "source": [
    "listona = list(range(len(nova_lista)))\n",
    "listona\n",
    "round((1+len(nova_lista))/2)\n",
    "nova_lista"
   ]
  },
  {
   "cell_type": "markdown",
   "metadata": {},
   "source": [
    "No dia a dia de trabalho, podemos utilizar o método **mean()** da biblioteca **statistics**"
   ]
  },
  {
   "cell_type": "code",
   "execution_count": 94,
   "metadata": {},
   "outputs": [
    {
     "data": {
      "text/plain": [
       "30.5"
      ]
     },
     "execution_count": 94,
     "metadata": {},
     "output_type": "execute_result"
    }
   ],
   "source": [
    "st.median(nova_lista)"
   ]
  },
  {
   "cell_type": "markdown",
   "metadata": {
    "colab_type": "text",
    "id": "MRvliDVJelGE"
   },
   "source": [
    "*  Calcule a moda\n",
    "\n",
    "Chamamos de moda o valor mais frequente dentro do nosso conjunto de dados. Podemos ter conjuntos numéricos bimodais, ou seja, com **duas** modas, e amodais, com **nenhuma** moda."
   ]
  },
  {
   "cell_type": "code",
   "execution_count": 182,
   "metadata": {
    "colab": {
     "base_uri": "https://localhost:8080/",
     "height": 34
    },
    "colab_type": "code",
    "id": "UtMgzHvjepPj",
    "outputId": "32dd583b-1798-48b5-e5cf-59325e98b687"
   },
   "outputs": [
    {
     "data": {
      "text/plain": [
       "[12, 36]"
      ]
     },
     "execution_count": 182,
     "metadata": {},
     "output_type": "execute_result"
    }
   ],
   "source": [
    "dictionary={}\n",
    "count=1\n",
    "for i in range(len(nova_lista)-1):\n",
    "    if nova_lista[i+1]==nova_lista[i]:\n",
    "        count= count+1\n",
    "    else:\n",
    "        dictiona = {nova_lista[i]:count}\n",
    "        dictionary.update(dictiona)\n",
    "        count=1\n",
    "dictionary   \n",
    "\n",
    "mx = max(dictionary.values())\n",
    "moda = [k for k, v in dictionary.items() if v == mx]\n",
    "\n",
    "moda"
   ]
  },
  {
   "cell_type": "markdown",
   "metadata": {},
   "source": [
    "No dia a dia de trabalho, podemos utilizar a função **Counter()** da biblioteca **collections** para nos auxiliar nesse calculo de moda."
   ]
  },
  {
   "cell_type": "markdown",
   "metadata": {},
   "source": [
    "Perceba que como o nosso cunjunto é muito pequeno e a variabilidade de valores pode ser grade, a propabilidade de termos uma situação com mais de uma moda pode ser mais comum. \n",
    "\n",
    "Com essa função, a gente pode calcular a frequencia da ocorrencia de cada valor e identificar situações multimodais. "
   ]
  },
  {
   "cell_type": "code",
   "execution_count": 183,
   "metadata": {},
   "outputs": [
    {
     "data": {
      "text/plain": [
       "[12, 36]"
      ]
     },
     "execution_count": 183,
     "metadata": {},
     "output_type": "execute_result"
    }
   ],
   "source": [
    "from collections import Counter\n",
    "dictionay = Counter(nova_lista)\n",
    "\n",
    "mx = max(dictionary.values())\n",
    "moda = [k for k, v in dictionary.items() if v == mx]\n",
    "\n",
    "moda"
   ]
  },
  {
   "cell_type": "markdown",
   "metadata": {
    "colab_type": "text",
    "id": "vpQjwpAJepwZ"
   },
   "source": [
    "* Calcule o desvio padrão \n",
    "\n",
    "O desvio padrão é uma medida mostra o grau de dispersão de um conjunto de dados. Ou seja, ele indica o quanto um conjunto de dados é uniforme. Quanto mais próximo de 0 for o desvio padrão, mais homogêneo são os dados. Sua fórmula é dada por: \n",
    "\n",
    "\\begin{align}\n",
    "DP = \\sqrt{ \\frac{\\sum |{x - \\mu}|^2 } {n}}\n",
    "\\end{align}\n",
    "\n",
    "que significa o somatório do valor absoluto de valores x de um conjunto de dados menos a média do conjunto de dados dividido pelo número de dados da população\n",
    "\n",
    "O desvio padrão pode ser calculado da seguinte forma:\n",
    "\n",
    "* Etapa 1: calcular a média;\n",
    "* Etapa 2: calcular o quadrado da distância entre cada ponto e a média;\n",
    "* Etapa 3: somar os valores da Etapa 2;\n",
    "* Etapa 4: dividir pelo número de pontos.\n",
    "* Etapa 5: calcular a raiz quadrada."
   ]
  },
  {
   "cell_type": "code",
   "execution_count": 177,
   "metadata": {
    "colab": {
     "base_uri": "https://localhost:8080/",
     "height": 34
    },
    "colab_type": "code",
    "id": "Re1jMQ9heuyN",
    "outputId": "a2cf554b-637e-473f-e410-f21a0f690a11"
   },
   "outputs": [
    {
     "data": {
      "text/plain": [
       "14.316618160569748"
      ]
     },
     "execution_count": 177,
     "metadata": {},
     "output_type": "execute_result"
    }
   ],
   "source": [
    "a=0\n",
    "for i in nova_lista:\n",
    "    a = a+i\n",
    "\n",
    "med = a/len(nova_lista)\n",
    "med\n",
    "\n",
    "quad = [ (i-med)**2 for i in nova_lista]\n",
    "\n",
    "b=0\n",
    "for i in quad:\n",
    "    b= b+i\n",
    "    \n",
    "variancia = b/len(quad) \n",
    "dp = (variancia)**0.5\n",
    "dp\n"
   ]
  },
  {
   "cell_type": "markdown",
   "metadata": {},
   "source": [
    "No dia a dia de trabalho, podemos utilizar a função **pstdev()** da biblioteca **statistics**"
   ]
  },
  {
   "cell_type": "code",
   "execution_count": 172,
   "metadata": {},
   "outputs": [
    {
     "data": {
      "text/plain": [
       "14.31661816056975"
      ]
     },
     "execution_count": 172,
     "metadata": {},
     "output_type": "execute_result"
    }
   ],
   "source": [
    "from statistics import pstdev\n",
    "pstdev(nova_lista)"
   ]
  },
  {
   "cell_type": "markdown",
   "metadata": {
    "colab_type": "text",
    "id": "VeVJzSpYevJa"
   },
   "source": [
    "* Calcule a variância \n",
    "\n",
    "A variância é uma medida de dispersão que mostra o quão distante cada valor desse conjunto está do valor central. Quanto menor é a variância, mais próximos os valores estão da média; mas quanto maior ela é, mais os valores estão distantes da média.\n",
    "\n",
    "Essa medida é dada pelo quadrado do desvio padrão: \n",
    "\n",
    "\\begin{align}\n",
    "var = \\sigma ^2\n",
    "\\end{align}"
   ]
  },
  {
   "cell_type": "code",
   "execution_count": 178,
   "metadata": {
    "colab": {
     "base_uri": "https://localhost:8080/",
     "height": 34
    },
    "colab_type": "code",
    "id": "JRZviIBRe33f",
    "outputId": "d37b7b85-31bb-4bbd-9ca5-196925a5dc7c"
   },
   "outputs": [
    {
     "data": {
      "text/plain": [
       "204.9655555555555"
      ]
     },
     "execution_count": 178,
     "metadata": {},
     "output_type": "execute_result"
    }
   ],
   "source": [
    "variancia"
   ]
  },
  {
   "cell_type": "markdown",
   "metadata": {},
   "source": [
    "Podemos também utilizar a função **pvariance()** da biblioteca **statistics**"
   ]
  },
  {
   "cell_type": "code",
   "execution_count": 180,
   "metadata": {},
   "outputs": [
    {
     "data": {
      "text/plain": [
       "204.96555555555557"
      ]
     },
     "execution_count": 180,
     "metadata": {},
     "output_type": "execute_result"
    }
   ],
   "source": [
    "from statistics import pvariance\n",
    "pvariance(nova_lista)"
   ]
  },
  {
   "cell_type": "markdown",
   "metadata": {
    "colab_type": "text",
    "id": "j8jlHgMze5SJ"
   },
   "source": [
    "* Salve em um dicionário as informações obtidas\n"
   ]
  },
  {
   "cell_type": "code",
   "execution_count": 186,
   "metadata": {
    "colab": {
     "base_uri": "https://localhost:8080/",
     "height": 104
    },
    "colab_type": "code",
    "id": "SkCnJtyVfCz2",
    "outputId": "8b787f77-e677-42c6-d4e2-e320eb79738e"
   },
   "outputs": [
    {
     "data": {
      "text/plain": [
       "{'media': 29.033333333333335,\n",
       " 'mediana': 30.5,\n",
       " 'moda': [12, 36],\n",
       " 'varianca': 204.9655555555555,\n",
       " 'desvio padrão': 14.316618160569748}"
      ]
     },
     "execution_count": 186,
     "metadata": {},
     "output_type": "execute_result"
    }
   ],
   "source": [
    "dictionary_statistic = {'media':med,'mediana':mediana,'moda':moda,'varianca':variancia,'desvio padrão': dp}\n",
    "dictionary_statistic"
   ]
  },
  {
   "cell_type": "markdown",
   "metadata": {
    "colab_type": "text",
    "id": "qIS-LjkPfFrS"
   },
   "source": [
    "* Salve o dicionário em um arquivo"
   ]
  },
  {
   "cell_type": "markdown",
   "metadata": {
    "colab_type": "text",
    "id": "O8O8vFIUgq30"
   },
   "source": [
    "Para salvar o dicionário em um arquivo txt é preciso seguir os seguintes passos:\n",
    "\n",
    "1. Crie um arquivo **.txt** em branco na mesma pasta que este notebook está salvo\n",
    "2. Abra o arquivo com o comando **arquivo = open('nome_do_arquivo.txt','w')**\n",
    "3. Escreva o dicionario nesse arquivo com o comando **arquivo.write(str(dicionario))**\n",
    "4. Feche o arquivo com o comando **arquivo.close()**\n",
    "\n",
    "Depois, abra o seu bloco de notas e veja se o dicionário que foi escrito \u001c",
    "está correto\n",
    "\n"
   ]
  },
  {
   "cell_type": "code",
   "execution_count": 194,
   "metadata": {
    "colab": {},
    "colab_type": "code",
    "id": "O2X_UPjLfLvI"
   },
   "outputs": [],
   "source": [
    "arquivo = open('statistic.txt','w')\n",
    "arquivo.write(str(dictionary_statistic))\n",
    "arquivo.close()"
   ]
  },
  {
   "cell_type": "code",
   "execution_count": null,
   "metadata": {},
   "outputs": [],
   "source": []
  }
 ],
 "metadata": {
  "colab": {
   "collapsed_sections": [
    "T3_UNsQ0LB1W",
    "CFwtO8v0DVNB",
    "L5x-YBL4HL9M",
    "aDy0Kbf0ISeS",
    "9aQ0XB3YPHCE"
   ],
   "name": "exercicios_finais_(feito).ipynb",
   "provenance": []
  },
  "kernelspec": {
   "display_name": "Python 3",
   "language": "python",
   "name": "python3"
  },
  "language_info": {
   "codemirror_mode": {
    "name": "ipython",
    "version": 3
   },
   "file_extension": ".py",
   "mimetype": "text/x-python",
   "name": "python",
   "nbconvert_exporter": "python",
   "pygments_lexer": "ipython3",
   "version": "3.7.4"
  }
 },
 "nbformat": 4,
 "nbformat_minor": 1
}
