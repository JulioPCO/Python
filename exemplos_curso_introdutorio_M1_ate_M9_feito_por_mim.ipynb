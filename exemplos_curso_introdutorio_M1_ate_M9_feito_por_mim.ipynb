{
 "cells": [
  {
   "cell_type": "markdown",
   "metadata": {
    "colab_type": "text",
    "id": "PP6VCJPDE1yJ"
   },
   "source": [
    "# Fundamentos essenciais para Python"
   ]
  },
  {
   "cell_type": "markdown",
   "metadata": {
    "colab_type": "text",
    "id": "kt4Ua3ay29LM"
   },
   "source": [
    "## Teste da instalação \n",
    "### Conhecendo o Jupyter\n",
    "Mostrar utilização das células, edição, como rodar, etc. e mostrar o código inicial \"Hello World!\"\n"
   ]
  },
  {
   "cell_type": "code",
   "execution_count": 1,
   "metadata": {
    "colab": {
     "base_uri": "https://localhost:8080/",
     "height": 34
    },
    "colab_type": "code",
    "id": "Ud3rZkzb28NM",
    "outputId": "36c992c5-3f85-4f44-cd4e-22c50975dfcd"
   },
   "outputs": [
    {
     "name": "stdout",
     "output_type": "stream",
     "text": [
      "Olá Mundo\n"
     ]
    }
   ],
   "source": [
    "print(\"Olá Mundo\")"
   ]
  },
  {
   "cell_type": "markdown",
   "metadata": {
    "colab_type": "text",
    "id": "P8-WgBWEPzj2"
   },
   "source": [
    "## 2.Variáveis e comunicação com o usuário"
   ]
  },
  {
   "cell_type": "markdown",
   "metadata": {
    "colab_type": "text",
    "id": "5B4l0v9EPzj4"
   },
   "source": [
    "#### 2.2 Criando variáveis"
   ]
  },
  {
   "cell_type": "markdown",
   "metadata": {
    "colab_type": "text",
    "id": "iiPRge8GMaKv"
   },
   "source": [
    "As variáveis representam um dos recursos principais da programação. Elas servem para guardarmos diversos tipos de dados (como textos e números) na memória. Para criá-las basta escolhermos o nome, utilizarmos o comando de atribuição e escolhermos o tipo de dado que ela armazenará."
   ]
  },
  {
   "cell_type": "markdown",
   "metadata": {
    "colab_type": "text",
    "id": "X2ppm6xynXPd"
   },
   "source": [
    "Observe o exemplo abaixo em que fazemos a variável n1 guardar o número 10 (inteiro)"
   ]
  },
  {
   "cell_type": "code",
   "execution_count": 3,
   "metadata": {
    "colab": {
     "base_uri": "https://localhost:8080/",
     "height": 34
    },
    "colab_type": "code",
    "id": "Mj6wwujhnhg3",
    "outputId": "0e08f46d-cabe-4863-d8a6-272dff7d3650"
   },
   "outputs": [
    {
     "data": {
      "text/plain": [
       "10"
      ]
     },
     "execution_count": 3,
     "metadata": {},
     "output_type": "execute_result"
    }
   ],
   "source": [
    "n1 = 10\n",
    "n1"
   ]
  },
  {
   "cell_type": "markdown",
   "metadata": {
    "colab_type": "text",
    "id": "8UL6w_MznsEn"
   },
   "source": [
    "Podemos também guardar valores negativos, reais (floats), notações científicas, números complexos e textos"
   ]
  },
  {
   "cell_type": "code",
   "execution_count": 5,
   "metadata": {
    "colab": {
     "base_uri": "https://localhost:8080/",
     "height": 119
    },
    "colab_type": "code",
    "id": "z0T1ZtzoH7WY",
    "outputId": "954ff807-3eea-4fc2-dec4-0f533fa3a311"
   },
   "outputs": [
    {
     "name": "stdout",
     "output_type": "stream",
     "text": [
      "4.9 -3.89 -20 321000.0 (10+5j)\n"
     ]
    }
   ],
   "source": [
    "n2 = -20\n",
    "r1 = 4.9\n",
    "r2 = -3.89\n",
    "\n",
    "nc1 = 3.21e+5\n",
    "\n",
    "n_complexo = 10 + 5j\n",
    "\n",
    "mensagem = \"Olá mundo\"\n",
    "\n",
    "print(r1,r2,n2,nc1,n_complexo)"
   ]
  },
  {
   "cell_type": "code",
   "execution_count": 6,
   "metadata": {
    "colab": {
     "base_uri": "https://localhost:8080/",
     "height": 34
    },
    "colab_type": "code",
    "id": "UzNcTUyT1IMF",
    "outputId": "6ac5fdf5-b14b-4f2b-92ec-781afc8ba4c0"
   },
   "outputs": [
    {
     "data": {
      "text/plain": [
       "25"
      ]
     },
     "execution_count": 6,
     "metadata": {},
     "output_type": "execute_result"
    }
   ],
   "source": [
    "n1=25\n",
    "n1"
   ]
  },
  {
   "cell_type": "code",
   "execution_count": 7,
   "metadata": {
    "colab": {
     "base_uri": "https://localhost:8080/",
     "height": 34
    },
    "colab_type": "code",
    "id": "4H7qGFEo1O-K",
    "outputId": "7fab78fb-f026-413d-b682-79a4745a8956"
   },
   "outputs": [
    {
     "data": {
      "text/plain": [
       "-3.89"
      ]
     },
     "execution_count": 7,
     "metadata": {},
     "output_type": "execute_result"
    }
   ],
   "source": [
    "r2"
   ]
  },
  {
   "cell_type": "code",
   "execution_count": 8,
   "metadata": {
    "colab": {
     "base_uri": "https://localhost:8080/",
     "height": 34
    },
    "colab_type": "code",
    "id": "3W2pSnsG1io-",
    "outputId": "160c41be-17de-40a6-9c32-dd72482b8276"
   },
   "outputs": [
    {
     "data": {
      "text/plain": [
       "(321000.0, (10+5j))"
      ]
     },
     "execution_count": 8,
     "metadata": {},
     "output_type": "execute_result"
    }
   ],
   "source": [
    "nc1,n_complexo"
   ]
  },
  {
   "cell_type": "code",
   "execution_count": 9,
   "metadata": {
    "colab": {
     "base_uri": "https://localhost:8080/",
     "height": 34
    },
    "colab_type": "code",
    "id": "4rz87cv21ljO",
    "outputId": "835327c7-de38-451a-ec7a-7e45ca157f53"
   },
   "outputs": [
    {
     "data": {
      "text/plain": [
       "'Olá mundo'"
      ]
     },
     "execution_count": 9,
     "metadata": {},
     "output_type": "execute_result"
    }
   ],
   "source": [
    "mensagem"
   ]
  },
  {
   "cell_type": "markdown",
   "metadata": {
    "colab_type": "text",
    "id": "EzDFN6gso5Eg"
   },
   "source": [
    "É importante ressaltar que o Python **não permite** a criação de variáveis com caracteres especiais como $, #, ^, ~, %,etc. "
   ]
  },
  {
   "cell_type": "markdown",
   "metadata": {
    "colab_type": "text",
    "id": "94E4ewGBPzkK"
   },
   "source": [
    "#### 2.2.2 Declaração de múltiplas variáveis"
   ]
  },
  {
   "cell_type": "markdown",
   "metadata": {
    "colab_type": "text",
    "id": "_g1iFPjAp1xR"
   },
   "source": [
    "Além da atribuição uma por uma, o Python aceita que criemos diferentes variáveis que guardarão diferentes tipos de dados "
   ]
  },
  {
   "cell_type": "code",
   "execution_count": 10,
   "metadata": {
    "colab": {},
    "colab_type": "code",
    "id": "9KdmAS5zPzkL"
   },
   "outputs": [],
   "source": [
    "idade, altura, nome ,email = 18,1.73, \"Julio\", \"julio@gmail.com\""
   ]
  },
  {
   "cell_type": "code",
   "execution_count": 11,
   "metadata": {
    "colab": {
     "base_uri": "https://localhost:8080/",
     "height": 85
    },
    "colab_type": "code",
    "id": "JwpomYpJPzkR",
    "outputId": "3ba615fa-b6b3-420d-f4d2-9a6e43919312"
   },
   "outputs": [
    {
     "data": {
      "text/plain": [
       "(18, 1.73, 'Julio', 'julio@gmail.com')"
      ]
     },
     "execution_count": 11,
     "metadata": {},
     "output_type": "execute_result"
    }
   ],
   "source": [
    "idade,altura,nome,email"
   ]
  },
  {
   "cell_type": "markdown",
   "metadata": {
    "colab_type": "text",
    "id": "LaRp-ll3PzkY"
   },
   "source": [
    "#### 2.3 Funções impressão e captura de dados"
   ]
  },
  {
   "cell_type": "markdown",
   "metadata": {
    "colab_type": "text",
    "id": "W5Yy6ijMNPmD"
   },
   "source": [
    "Quando falamos de interação com o usuário, o Python possui duas funções nativas que realizam essa interação: **print** e **input**. A função print, já utilizada anteriormente, é utilizada para mostrar na tela o que o usuário deseja ver, já a função input é usada para ler entradas de dados que usuário pode oferecer"
   ]
  },
  {
   "cell_type": "markdown",
   "metadata": {
    "colab_type": "text",
    "id": "9whBzChxr_G4"
   },
   "source": [
    "A função print pode ser utilizada de várias formas. Ela pode conter apenas uma mensagem escrita, que deve ser colocada entre aspas, ou uma variável ou uma junção de variável com mensagem escrita"
   ]
  },
  {
   "cell_type": "code",
   "execution_count": 12,
   "metadata": {
    "colab": {
     "base_uri": "https://localhost:8080/",
     "height": 34
    },
    "colab_type": "code",
    "id": "Z3HZ57HvPzkj",
    "outputId": "41c62fe2-07ad-4395-db6f-e1517015dc17"
   },
   "outputs": [],
   "source": [
    "nome = \"João\"\n",
    "idade = 18"
   ]
  },
  {
   "cell_type": "code",
   "execution_count": 13,
   "metadata": {
    "colab": {
     "base_uri": "https://localhost:8080/",
     "height": 34
    },
    "colab_type": "code",
    "id": "W0I6IZ4LRfib",
    "outputId": "7d68e0c4-cbd4-44e3-daac-29d2302a3787"
   },
   "outputs": [
    {
     "name": "stdout",
     "output_type": "stream",
     "text": [
      "João\n"
     ]
    }
   ],
   "source": [
    "print(nome)"
   ]
  },
  {
   "cell_type": "code",
   "execution_count": 14,
   "metadata": {
    "colab": {
     "base_uri": "https://localhost:8080/",
     "height": 34
    },
    "colab_type": "code",
    "id": "WQyTKx3MRfsB",
    "outputId": "531a3eca-ba43-4caa-fdd0-6e2bd1c16bd2"
   },
   "outputs": [
    {
     "name": "stdout",
     "output_type": "stream",
     "text": [
      "João\n",
      "18\n"
     ]
    }
   ],
   "source": [
    "print(nome)\n",
    "print(idade)"
   ]
  },
  {
   "cell_type": "code",
   "execution_count": 15,
   "metadata": {
    "colab": {
     "base_uri": "https://localhost:8080/",
     "height": 34
    },
    "colab_type": "code",
    "id": "GswG0V_oRlwm",
    "outputId": "efde1520-1567-493c-be97-469813c14df1"
   },
   "outputs": [
    {
     "name": "stdout",
     "output_type": "stream",
     "text": [
      "João 18\n"
     ]
    }
   ],
   "source": [
    "print(nome, idade)"
   ]
  },
  {
   "cell_type": "code",
   "execution_count": 16,
   "metadata": {},
   "outputs": [
    {
     "name": "stdout",
     "output_type": "stream",
     "text": [
      "Meu nome é João\n"
     ]
    }
   ],
   "source": [
    "print(\"Meu nome é\", nome)"
   ]
  },
  {
   "cell_type": "code",
   "execution_count": 17,
   "metadata": {},
   "outputs": [
    {
     "name": "stdout",
     "output_type": "stream",
     "text": [
      "Meu nome é João e minha idade é 18\n"
     ]
    }
   ],
   "source": [
    "print(\"Meu nome é\", nome, \"e minha idade é\", idade)"
   ]
  },
  {
   "cell_type": "code",
   "execution_count": 18,
   "metadata": {},
   "outputs": [
    {
     "name": "stdout",
     "output_type": "stream",
     "text": [
      "Digite seu nome:José\n"
     ]
    }
   ],
   "source": [
    "nome = input(\"Digite seu nome:\")"
   ]
  },
  {
   "cell_type": "code",
   "execution_count": 19,
   "metadata": {},
   "outputs": [
    {
     "name": "stdout",
     "output_type": "stream",
     "text": [
      "Digite sua idade:22\n"
     ]
    }
   ],
   "source": [
    "idade = input(\"Digite sua idade:\")"
   ]
  },
  {
   "cell_type": "code",
   "execution_count": 20,
   "metadata": {},
   "outputs": [
    {
     "name": "stdout",
     "output_type": "stream",
     "text": [
      "José 22\n"
     ]
    }
   ],
   "source": [
    "print(nome,idade)"
   ]
  },
  {
   "cell_type": "markdown",
   "metadata": {
    "colab_type": "text",
    "id": "oHN676fiJkfI"
   },
   "source": [
    "No código acima, ao lermos a nota do João o Python salva a informação como texto (string) e não como número inteiro (int). É possível mudar esse tipo de dado com as _Funções nátivas para variáveis_ que serão vistas no próximo módulo."
   ]
  },
  {
   "cell_type": "markdown",
   "metadata": {
    "colab_type": "text",
    "id": "3QM-qpVSxezG"
   },
   "source": [
    "O Python também permite que seja mostrado na tela apenas alunos que obtiveram notas maiores que 6, por exemplo. Isso será visto nos próximos módulos do curso.\n",
    "\n"
   ]
  },
  {
   "cell_type": "markdown",
   "metadata": {
    "colab_type": "text",
    "id": "JqBeFVwOuax_"
   },
   "source": [
    "#### 2.4 - Funções nativas para variavéis"
   ]
  },
  {
   "cell_type": "markdown",
   "metadata": {
    "colab_type": "text",
    "id": "nde4ViEDLqNK"
   },
   "source": [
    "O Python apresenta diversos comandos nativos da própria linguagem. Eles podem ser utilizados em situações, como identificar o tipo de dado que uma variável guarda, mudar o tipo de dado de uma variável e muitas outras. O código abaixo mostra como identificar, modificar o tipo da variável e ver qul o tamanho da variável."
   ]
  },
  {
   "cell_type": "markdown",
   "metadata": {
    "colab_type": "text",
    "id": "ffzJhuSqNeTy"
   },
   "source": [
    "Neste exemplo, é possível perceber que as variáveis r1 e r2 criadas anteriormente como floats são transformadas em inteiros através do int()"
   ]
  },
  {
   "cell_type": "code",
   "execution_count": 23,
   "metadata": {
    "colab": {
     "base_uri": "https://localhost:8080/",
     "height": 51
    },
    "colab_type": "code",
    "id": "lTEO6Cu4uIPG",
    "outputId": "4eda87df-2810-4b22-a532-031fe90c85f1"
   },
   "outputs": [
    {
     "name": "stdout",
     "output_type": "stream",
     "text": [
      "3 5\n"
     ]
    }
   ],
   "source": [
    "r1=3.9\n",
    "r2=5.37\n",
    "\n",
    "i_r1 = int(r1)\n",
    "i_r2 = int(r2)\n",
    "\n",
    "print(i_r1,i_r2)"
   ]
  },
  {
   "cell_type": "markdown",
   "metadata": {
    "colab_type": "text",
    "id": "8LlOLxfzwyx9"
   },
   "source": [
    "Parecido com a função int(), temos a função **str()**, usada para mudar o tipo da variável para o tipo texto (string)."
   ]
  },
  {
   "cell_type": "code",
   "execution_count": 24,
   "metadata": {
    "colab": {
     "base_uri": "https://localhost:8080/",
     "height": 51
    },
    "colab_type": "code",
    "id": "_knoWiCaMGp8",
    "outputId": "10ae83cc-e502-48e6-860b-bf2c8f628916"
   },
   "outputs": [
    {
     "name": "stdout",
     "output_type": "stream",
     "text": [
      "3.9 5.37\n"
     ]
    }
   ],
   "source": [
    "s_r1 = str(r1)\n",
    "s_r2 = str(r2)\n",
    "\n",
    "print(s_r1,s_r2)"
   ]
  },
  {
   "cell_type": "markdown",
   "metadata": {
    "colab_type": "text",
    "id": "L_5DtVo61PSf"
   },
   "source": [
    "Assim como as funções int() e str() temos, também, a função **float()** que modifica o n1, criado anteriormente como inteiro, para real (float)"
   ]
  },
  {
   "cell_type": "code",
   "execution_count": 25,
   "metadata": {
    "colab": {
     "base_uri": "https://localhost:8080/",
     "height": 34
    },
    "colab_type": "code",
    "id": "x4tYfb1INII2",
    "outputId": "35a49102-a946-4d35-f668-138addf31d33"
   },
   "outputs": [
    {
     "data": {
      "text/plain": [
       "1.0"
      ]
     },
     "execution_count": 25,
     "metadata": {},
     "output_type": "execute_result"
    }
   ],
   "source": [
    "n1=1\n",
    "\n",
    "r_n1 = float(n1)\n",
    "\n",
    "r_n1"
   ]
  },
  {
   "cell_type": "markdown",
   "metadata": {
    "colab_type": "text",
    "id": "JAhwJUsmuX_x"
   },
   "source": [
    "Com a função type() podemos ver qual é o tipo de dados que a variável que temos guarda"
   ]
  },
  {
   "cell_type": "code",
   "execution_count": 26,
   "metadata": {
    "colab": {
     "base_uri": "https://localhost:8080/",
     "height": 68
    },
    "colab_type": "code",
    "id": "tNbrVpjWu8ok",
    "outputId": "af2a2285-f60f-45b2-bbfb-4eae76e96df7"
   },
   "outputs": [
    {
     "data": {
      "text/plain": [
       "float"
      ]
     },
     "execution_count": 26,
     "metadata": {},
     "output_type": "execute_result"
    }
   ],
   "source": [
    "type(r1)"
   ]
  },
  {
   "cell_type": "code",
   "execution_count": 27,
   "metadata": {},
   "outputs": [
    {
     "name": "stdout",
     "output_type": "stream",
     "text": [
      "<class 'int'>\n"
     ]
    }
   ],
   "source": [
    "print(type(i_r1))"
   ]
  },
  {
   "cell_type": "markdown",
   "metadata": {
    "colab_type": "text",
    "id": "UlWmd01HvWyX"
   },
   "source": [
    "Podemos, também, mudar brevemente o tipo de uma variável sem precisar realizar uma atribuição a uma nova variável"
   ]
  },
  {
   "cell_type": "code",
   "execution_count": 28,
   "metadata": {
    "colab": {
     "base_uri": "https://localhost:8080/",
     "height": 34
    },
    "colab_type": "code",
    "id": "7Xn49fCkvRfx",
    "outputId": "5192d848-1b17-421e-c993-a11f9478e66f"
   },
   "outputs": [
    {
     "name": "stdout",
     "output_type": "stream",
     "text": [
      "o valor de r1 é 3.9 e seu tipo é <class 'float'>\n"
     ]
    }
   ],
   "source": [
    "print(\"o valor de r1 é\", r1, \"e seu tipo é\", type(r1))"
   ]
  },
  {
   "cell_type": "markdown",
   "metadata": {
    "colab_type": "text",
    "id": "MLvaBtnav9zh"
   },
   "source": [
    "Além das funções citadas anteriormente, o Python também possui a função **len()**, usada para ver o tamanho de, por exemplo, uma variavel texto (string). Essa função conta quantos caracteres o texto possui."
   ]
  },
  {
   "cell_type": "code",
   "execution_count": 29,
   "metadata": {
    "colab": {
     "base_uri": "https://localhost:8080/",
     "height": 51
    },
    "colab_type": "code",
    "id": "yra65c6KwdS4",
    "outputId": "7bcab238-9e9d-405c-c2a2-3f7b16aed4dd"
   },
   "outputs": [
    {
     "data": {
      "text/plain": [
       "10"
      ]
     },
     "execution_count": 29,
     "metadata": {},
     "output_type": "execute_result"
    }
   ],
   "source": [
    "mensagem = \" Olá mundo\"\n",
    "len(mensagem)"
   ]
  },
  {
   "cell_type": "markdown",
   "metadata": {
    "colab_type": "text",
    "id": "ZxjBfeqVxRNt"
   },
   "source": [
    "Outras duas funções uteis são a **abs()**, que retorna o valor absoluto de uma operação ou variável, e a **round()**, que arredonda o valor de uma operação ou variável"
   ]
  },
  {
   "cell_type": "code",
   "execution_count": 30,
   "metadata": {
    "colab": {
     "base_uri": "https://localhost:8080/",
     "height": 51
    },
    "colab_type": "code",
    "id": "u_kibJZMNzev",
    "outputId": "32e9d7db-64a6-43e8-8bc5-441bae4d0b47"
   },
   "outputs": [
    {
     "name": "stdout",
     "output_type": "stream",
     "text": [
      "9\n",
      "2.37\n"
     ]
    }
   ],
   "source": [
    "i2=-9\n",
    "r2=2.36698\n",
    "\n",
    "print(abs(i2))\n",
    "print(round(r2,2))"
   ]
  },
  {
   "cell_type": "markdown",
   "metadata": {
    "colab_type": "text",
    "id": "Y8XQT1dp24R9"
   },
   "source": [
    "escrever um texto aqui que eu nao sei sobre o que"
   ]
  },
  {
   "cell_type": "code",
   "execution_count": null,
   "metadata": {
    "colab": {
     "base_uri": "https://localhost:8080/",
     "height": 51
    },
    "colab_type": "code",
    "id": "Rachfzx_PSK2",
    "outputId": "a96ce5cd-b259-4fb2-877b-3387ecc4cda4"
   },
   "outputs": [],
   "source": []
  },
  {
   "cell_type": "markdown",
   "metadata": {
    "colab_type": "text",
    "id": "iOtAtXNP3ANO"
   },
   "source": [
    "Na lição anterior, quando lemos a nota de uma pessoa, falamos que ela ficou guardada como string. Com a ajuda do int(), visto anteriormente, podemos fazer com que o número lido fique salvo como int e não como str"
   ]
  },
  {
   "cell_type": "code",
   "execution_count": 31,
   "metadata": {
    "colab": {
     "base_uri": "https://localhost:8080/",
     "height": 68
    },
    "colab_type": "code",
    "id": "PN25NsnfFcsy",
    "outputId": "d2c4ae3f-4364-4937-995e-1eeb444a0e1d"
   },
   "outputs": [
    {
     "name": "stdout",
     "output_type": "stream",
     "text": [
      "digite sua idade18\n",
      "A idade é 18 e seu tipe é <class 'str'>\n"
     ]
    }
   ],
   "source": [
    "idade = input(\"digite sua idade\")\n",
    "print(\"A idade é\", idade, \"e seu tipe é\", type(idade))"
   ]
  },
  {
   "cell_type": "code",
   "execution_count": 32,
   "metadata": {
    "colab": {
     "base_uri": "https://localhost:8080/",
     "height": 51
    },
    "colab_type": "code",
    "id": "XNRI7akeF2p9",
    "outputId": "aaabb08c-a24d-4ede-b137-93b3589cd513"
   },
   "outputs": [
    {
     "name": "stdout",
     "output_type": "stream",
     "text": [
      "digite sua idade18\n",
      "A idade é 18 e seu tipe é <class 'int'>\n"
     ]
    }
   ],
   "source": [
    "idade = int(input(\"digite sua idade\"))\n",
    "print(\"A idade é\", idade, \"e seu tipe é\", type(idade))"
   ]
  },
  {
   "cell_type": "markdown",
   "metadata": {
    "colab_type": "text",
    "id": "EOBtbPtrPzkn"
   },
   "source": [
    "#### 2.5 Operações aritméticas"
   ]
  },
  {
   "cell_type": "markdown",
   "metadata": {
    "colab_type": "text",
    "id": "LFnoNRbsScjW"
   },
   "source": [
    "A programção em geral é muito usada para resolver problemas matemáticos. Para isso o Python apresenta operações aritméticas básicas como soma, subtração, divisão e multiplicação, e outras mais complexas como divisão inteira, resto e potenciação."
   ]
  },
  {
   "cell_type": "code",
   "execution_count": 33,
   "metadata": {
    "colab": {
     "base_uri": "https://localhost:8080/",
     "height": 170
    },
    "colab_type": "code",
    "id": "gTstgVUyPzkx",
    "outputId": "9d31b845-a269-4dec-9d62-971895da5dad"
   },
   "outputs": [],
   "source": [
    "a=2.0\n",
    "b=7.0"
   ]
  },
  {
   "cell_type": "code",
   "execution_count": 34,
   "metadata": {},
   "outputs": [
    {
     "name": "stdout",
     "output_type": "stream",
     "text": [
      "soma= 9.0\n",
      "subtração= -5.0\n"
     ]
    }
   ],
   "source": [
    "print(\"soma=\", a+b)\n",
    "print(\"subtração=\", a-b)"
   ]
  },
  {
   "cell_type": "code",
   "execution_count": 38,
   "metadata": {},
   "outputs": [
    {
     "name": "stdout",
     "output_type": "stream",
     "text": [
      "Divisão inteira= 3.0\n",
      "Resto= 1.0\n",
      "Divisão e resto= (3.0, 1.0)\n",
      "potência 49.0\n"
     ]
    }
   ],
   "source": [
    "print(\"Divisão inteira=\", b//a)\n",
    "print(\"Resto=\", b%a)\n",
    "print(\"Divisão e resto=\", divmod(b,a))\n",
    "print(\"potência\", b**a)"
   ]
  },
  {
   "cell_type": "markdown",
   "metadata": {
    "colab_type": "text",
    "id": "geqE_XUngK2h"
   },
   "source": [
    "Uma variável é capaz de receber o resultado de uma operação, como mostra o código a seguir"
   ]
  },
  {
   "cell_type": "code",
   "execution_count": 39,
   "metadata": {
    "colab": {},
    "colab_type": "code",
    "id": "kJA6ORb_8wue"
   },
   "outputs": [],
   "source": [
    "c = a+b"
   ]
  },
  {
   "cell_type": "code",
   "execution_count": 40,
   "metadata": {
    "colab": {
     "base_uri": "https://localhost:8080/",
     "height": 34
    },
    "colab_type": "code",
    "id": "W9GRJrjsggxA",
    "outputId": "aabfb2d0-ba91-498b-bc8d-5fd9d004745b"
   },
   "outputs": [
    {
     "name": "stdout",
     "output_type": "stream",
     "text": [
      "9.0\n"
     ]
    }
   ],
   "source": [
    "print(c)"
   ]
  },
  {
   "cell_type": "markdown",
   "metadata": {
    "colab_type": "text",
    "id": "DcOH5VFXg7R2"
   },
   "source": [
    "É importante ressaltar que as operações aritméticas devem ser realizadas entre variáveis numéricas (int, float...). Se tentarmos, por exemplo, realizar uma soma de um número do tipo int e um número string o código retornará erro."
   ]
  },
  {
   "cell_type": "code",
   "execution_count": 41,
   "metadata": {
    "colab": {
     "base_uri": "https://localhost:8080/",
     "height": 51
    },
    "colab_type": "code",
    "id": "7ug6_Rk9AVDp",
    "outputId": "50a95002-817a-41af-bd5c-8d75e65d75b7"
   },
   "outputs": [
    {
     "name": "stdout",
     "output_type": "stream",
     "text": [
      "Digite um número2\n",
      "<class 'int'> <class 'str'>\n"
     ]
    }
   ],
   "source": [
    "numero = 1\n",
    "falso_numero = input(\"Digite um número\")\n",
    "print(type(numero),type(falso_numero))"
   ]
  },
  {
   "cell_type": "code",
   "execution_count": 46,
   "metadata": {
    "colab": {
     "base_uri": "https://localhost:8080/",
     "height": 164
    },
    "colab_type": "code",
    "id": "yx3XCGFxB2pK",
    "outputId": "ac24d3a4-775f-48d7-971d-8e5b336b0ccd"
   },
   "outputs": [
    {
     "ename": "TypeError",
     "evalue": "unsupported operand type(s) for +: 'int' and 'str'",
     "output_type": "error",
     "traceback": [
      "\u001b[1;31m---------------------------------------------------------------------------\u001b[0m",
      "\u001b[1;31mTypeError\u001b[0m                                 Traceback (most recent call last)",
      "\u001b[1;32m<ipython-input-46-4f20c960d5fa>\u001b[0m in \u001b[0;36m<module>\u001b[1;34m\u001b[0m\n\u001b[1;32m----> 1\u001b[1;33m \u001b[0mprint\u001b[0m\u001b[1;33m(\u001b[0m\u001b[1;34m\"Soma = \"\u001b[0m\u001b[1;33m,\u001b[0m \u001b[0mnumero\u001b[0m \u001b[1;33m+\u001b[0m \u001b[0mfalso_numero\u001b[0m\u001b[1;33m)\u001b[0m\u001b[1;33m\u001b[0m\u001b[1;33m\u001b[0m\u001b[0m\n\u001b[0m",
      "\u001b[1;31mTypeError\u001b[0m: unsupported operand type(s) for +: 'int' and 'str'"
     ]
    }
   ],
   "source": [
    "print(\"Soma = \", numero + falso_numero)"
   ]
  },
  {
   "cell_type": "code",
   "execution_count": 45,
   "metadata": {},
   "outputs": [
    {
     "name": "stdout",
     "output_type": "stream",
     "text": [
      "Soma =  3\n"
     ]
    }
   ],
   "source": [
    "print(\"Soma = \", numero + int(falso_numero))"
   ]
  },
  {
   "cell_type": "markdown",
   "metadata": {
    "colab_type": "text",
    "id": "9jh3nO9c8qE_"
   },
   "source": [
    "#### Precedencia de operações"
   ]
  },
  {
   "cell_type": "markdown",
   "metadata": {
    "colab_type": "text",
    "id": "G5g3QfSEkw-g"
   },
   "source": [
    "O Python executa as operações matématicas de acordo com a prioridade que essas operações possuem. No exemplo abaixo, o mesmo conjunto de operações pode obter diferentes resultados de acordo com a ordem que aparecem ou com a inserção de parênteses"
   ]
  },
  {
   "cell_type": "code",
   "execution_count": 47,
   "metadata": {
    "colab": {
     "base_uri": "https://localhost:8080/",
     "height": 68
    },
    "colab_type": "code",
    "id": "nPOpLp9aPzk3",
    "outputId": "94085c73-e3d4-4d33-a5f4-e16e4b035948"
   },
   "outputs": [
    {
     "name": "stdout",
     "output_type": "stream",
     "text": [
      "11\n",
      "11\n"
     ]
    }
   ],
   "source": [
    "print(2*3+5)\n",
    "print(5+2*3)"
   ]
  },
  {
   "cell_type": "code",
   "execution_count": 48,
   "metadata": {},
   "outputs": [
    {
     "name": "stdout",
     "output_type": "stream",
     "text": [
      "16\n"
     ]
    }
   ],
   "source": [
    "print(2*(3+5))"
   ]
  },
  {
   "cell_type": "markdown",
   "metadata": {
    "colab_type": "text",
    "id": "bOPv2Tr8Pzk7"
   },
   "source": [
    "## 3.Operadores lógicos e relacionais; estruturas condicionais"
   ]
  },
  {
   "cell_type": "markdown",
   "metadata": {
    "colab_type": "text",
    "id": "_VI4j579Pzk8"
   },
   "source": [
    "#### 3.1 Operadores lógicos"
   ]
  },
  {
   "cell_type": "markdown",
   "metadata": {
    "colab_type": "text",
    "id": "Il4Ztt4GPJhE"
   },
   "source": [
    "Os operadores lógicos usadados em Python são **AND**, **OR** e **NOT**. "
   ]
  },
  {
   "cell_type": "markdown",
   "metadata": {
    "colab_type": "text",
    "id": "SUppMDqh6SLT"
   },
   "source": [
    "Dados dois valores booleanos (verdadeiros ou falso) a e b, o operador AND retorna True quando **ambos forem True**."
   ]
  },
  {
   "cell_type": "code",
   "execution_count": 50,
   "metadata": {
    "colab": {
     "base_uri": "https://localhost:8080/",
     "height": 34
    },
    "colab_type": "code",
    "id": "TYhuc8k9Pzk9",
    "outputId": "825e7516-505f-4599-85fd-562aa07d325b"
   },
   "outputs": [
    {
     "name": "stdout",
     "output_type": "stream",
     "text": [
      "<class 'bool'>\n"
     ]
    }
   ],
   "source": [
    "a= True\n",
    "b= False\n",
    "print(type(a))"
   ]
  },
  {
   "cell_type": "markdown",
   "metadata": {
    "colab_type": "text",
    "id": "U75j5mOi6wVX"
   },
   "source": [
    "Já o operador OR retorna True quando **apenas um** dos dois valores booleanos for True"
   ]
  },
  {
   "cell_type": "code",
   "execution_count": 51,
   "metadata": {
    "colab": {
     "base_uri": "https://localhost:8080/",
     "height": 34
    },
    "colab_type": "code",
    "id": "J1zPcuksPzlC",
    "outputId": "fd917e8c-32e5-4432-ce4e-e2c4d31c62f6"
   },
   "outputs": [
    {
     "data": {
      "text/plain": [
       "False"
      ]
     },
     "execution_count": 51,
     "metadata": {},
     "output_type": "execute_result"
    }
   ],
   "source": [
    "a and b\n"
   ]
  },
  {
   "cell_type": "code",
   "execution_count": 52,
   "metadata": {},
   "outputs": [
    {
     "data": {
      "text/plain": [
       "True"
      ]
     },
     "execution_count": 52,
     "metadata": {},
     "output_type": "execute_result"
    }
   ],
   "source": [
    "a or b"
   ]
  },
  {
   "cell_type": "markdown",
   "metadata": {
    "colab_type": "text",
    "id": "PHHXwgyJ765E"
   },
   "source": [
    "Por último, o operador NOT apenas **muda o valor** do argumento"
   ]
  },
  {
   "cell_type": "code",
   "execution_count": 53,
   "metadata": {
    "colab": {
     "base_uri": "https://localhost:8080/",
     "height": 34
    },
    "colab_type": "code",
    "id": "Dime1_Y9PzlG",
    "outputId": "c2b97fe7-6802-4c7d-de96-dc410cd1336e"
   },
   "outputs": [
    {
     "data": {
      "text/plain": [
       "True"
      ]
     },
     "execution_count": 53,
     "metadata": {},
     "output_type": "execute_result"
    }
   ],
   "source": [
    "a and not b"
   ]
  },
  {
   "cell_type": "markdown",
   "metadata": {
    "colab_type": "text",
    "id": "g01hpErLPzlL"
   },
   "source": [
    "#### 3.2 Expressões relacionais"
   ]
  },
  {
   "cell_type": "markdown",
   "metadata": {
    "colab_type": "text",
    "id": "kvXRVAwhpwJN"
   },
   "source": [
    "As expressões relacionais ou expressões lógicas são expressões que possuem valores booleanos (verdadeiro ou falso) e são compostas por operadores como igual a, maior que, menor que, diferente de, etc."
   ]
  },
  {
   "cell_type": "code",
   "execution_count": 54,
   "metadata": {
    "colab": {},
    "colab_type": "code",
    "id": "_NImPpqMpnHR"
   },
   "outputs": [],
   "source": [
    "a=3 \n",
    "b=4"
   ]
  },
  {
   "cell_type": "code",
   "execution_count": 55,
   "metadata": {
    "colab": {
     "base_uri": "https://localhost:8080/",
     "height": 68
    },
    "colab_type": "code",
    "id": "4HsLcN02ptZY",
    "outputId": "22ee3c3b-0416-4986-fd21-d771b300f5f3"
   },
   "outputs": [],
   "source": [
    "c = a<b\n",
    "d = a>b\n",
    "e = a==b"
   ]
  },
  {
   "cell_type": "code",
   "execution_count": 56,
   "metadata": {
    "colab": {
     "base_uri": "https://localhost:8080/",
     "height": 102
    },
    "colab_type": "code",
    "id": "9Ej7ZVYuPzlM",
    "outputId": "19049e44-6fe9-4a0f-9476-d689bdd61f79"
   },
   "outputs": [
    {
     "name": "stdout",
     "output_type": "stream",
     "text": [
      "True False False\n"
     ]
    }
   ],
   "source": [
    "print(c,d,e)"
   ]
  },
  {
   "cell_type": "code",
   "execution_count": null,
   "metadata": {
    "colab": {
     "base_uri": "https://localhost:8080/",
     "height": 68
    },
    "colab_type": "code",
    "id": "kxUW-9Gno24T",
    "outputId": "10a6e3a0-9f43-4242-f2c9-ef757c3e2300"
   },
   "outputs": [],
   "source": []
  },
  {
   "cell_type": "markdown",
   "metadata": {
    "colab_type": "text",
    "id": "c4RkxIaMPzlS"
   },
   "source": [
    "#### 3.3 Estruturas condicionais If, else e elif"
   ]
  },
  {
   "cell_type": "markdown",
   "metadata": {
    "colab_type": "text",
    "id": "XuNM46HOP5Yv"
   },
   "source": [
    "As estruturas condicionais são usadas quando queremos mudar o fluxo da execução do programa. As principais são **if**, **elif** e **else**"
   ]
  },
  {
   "cell_type": "code",
   "execution_count": 57,
   "metadata": {
    "colab": {
     "base_uri": "https://localhost:8080/",
     "height": 34
    },
    "colab_type": "code",
    "id": "zmCpijKpPzlT",
    "outputId": "cfdd4b77-4ce6-462f-c976-18a9543179c3"
   },
   "outputs": [
    {
     "name": "stdout",
     "output_type": "stream",
     "text": [
      "voce tem 25 anos!\n"
     ]
    }
   ],
   "source": [
    "idade = 25\n",
    "if (idade == 25):\n",
    "    print(\"voce tem 25 anos!\")"
   ]
  },
  {
   "cell_type": "code",
   "execution_count": 58,
   "metadata": {
    "colab": {
     "base_uri": "https://localhost:8080/",
     "height": 34
    },
    "colab_type": "code",
    "id": "5tCLNTbWT6bP",
    "outputId": "e9f7ab9d-681a-4189-bda7-0225fd1682b5"
   },
   "outputs": [
    {
     "name": "stdout",
     "output_type": "stream",
     "text": [
      "Seu voto é obrigatório\n"
     ]
    }
   ],
   "source": [
    "if (idade >= 18 and idade <70):\n",
    "    print(\"Seu voto é obrigatório\")"
   ]
  },
  {
   "cell_type": "code",
   "execution_count": 59,
   "metadata": {
    "colab": {
     "base_uri": "https://localhost:8080/",
     "height": 34
    },
    "colab_type": "code",
    "id": "C1TGM8_ePzlZ",
    "outputId": "c5a9ae7c-f8c9-47bb-c768-de4189f9ab3c"
   },
   "outputs": [
    {
     "name": "stdout",
     "output_type": "stream",
     "text": [
      "Não vota\n"
     ]
    }
   ],
   "source": [
    "idade = 10\n",
    "if (idade >= 18 and idade <70):\n",
    "    print(\"Seu voto é obrigatório\")\n",
    "else:\n",
    "    print(\"Não vota\")"
   ]
  },
  {
   "cell_type": "code",
   "execution_count": 61,
   "metadata": {
    "colab": {
     "base_uri": "https://localhost:8080/",
     "height": 34
    },
    "colab_type": "code",
    "id": "CXwfo9ZpPzld",
    "outputId": "0520733d-9b22-4f02-bb2c-adaf624e4e3e"
   },
   "outputs": [
    {
     "name": "stdout",
     "output_type": "stream",
     "text": [
      "Voto Facultativo\n"
     ]
    }
   ],
   "source": [
    "idade = 80\n",
    "if (idade >= 18 and idade <70):\n",
    "    print(\"Seu voto é obrigatório\")\n",
    "elif(idade >= 70):\n",
    "    print(\"Voto Facultativo\")\n",
    "else:\n",
    "    print(\"Não vota\")"
   ]
  },
  {
   "cell_type": "markdown",
   "metadata": {
    "colab_type": "text",
    "id": "zLlZp88EPzlh"
   },
   "source": [
    "## 4. Trabalhando com Strings"
   ]
  },
  {
   "cell_type": "markdown",
   "metadata": {
    "colab_type": "text",
    "id": "oyDREl7UPzli"
   },
   "source": [
    "#### 4.1 Strings"
   ]
  },
  {
   "cell_type": "markdown",
   "metadata": {
    "colab_type": "text",
    "id": "k1GAknpE_qeP"
   },
   "source": [
    "Apesar de termos criados variáveis do tipo String anteriormente, as strings são estruturas que merecem um pouco mais de atenção. O conteúdo que a variável receberá deve ser declarado entre aspas."
   ]
  },
  {
   "cell_type": "code",
   "execution_count": 62,
   "metadata": {
    "colab": {},
    "colab_type": "code",
    "id": "cw6BXYFkPzlj"
   },
   "outputs": [],
   "source": [
    "curso = \"fundamentos essenciais para python\""
   ]
  },
  {
   "cell_type": "markdown",
   "metadata": {
    "colab_type": "text",
    "id": "vpyXWXMP8qIx"
   },
   "source": [
    "#### 4.2 Acessando elementos da string"
   ]
  },
  {
   "cell_type": "markdown",
   "metadata": {
    "colab_type": "text",
    "id": "7R50yGD882mP"
   },
   "source": [
    "Muitas vezes, quando temos uma string, queremos acessar apenas uma das letras ou uma pequena parte do texto. Ao fazermos isso utilizamos o acesso direto por índice. "
   ]
  },
  {
   "cell_type": "code",
   "execution_count": 63,
   "metadata": {
    "colab": {
     "base_uri": "https://localhost:8080/",
     "height": 85
    },
    "colab_type": "code",
    "id": "loIrRY8LV1N8",
    "outputId": "e58e126a-07c0-4422-ce7c-5bf4bdaa00ec"
   },
   "outputs": [
    {
     "name": "stdout",
     "output_type": "stream",
     "text": [
      "f\n"
     ]
    }
   ],
   "source": [
    "print(curso[0])"
   ]
  },
  {
   "cell_type": "markdown",
   "metadata": {
    "colab_type": "text",
    "id": "kM7E0ZqM-q85"
   },
   "source": [
    "O Python também permite o acesso por meio de índices negativos."
   ]
  },
  {
   "cell_type": "code",
   "execution_count": 64,
   "metadata": {
    "colab": {
     "base_uri": "https://localhost:8080/",
     "height": 119
    },
    "colab_type": "code",
    "id": "0oTNKjoSWFTU",
    "outputId": "90eee0fc-136d-4364-9023-fb5faea09c3b"
   },
   "outputs": [
    {
     "name": "stdout",
     "output_type": "stream",
     "text": [
      "n\n"
     ]
    }
   ],
   "source": [
    "print(curso[-1])"
   ]
  },
  {
   "cell_type": "markdown",
   "metadata": {
    "colab_type": "text",
    "id": "Wk3yZatu_SHa"
   },
   "source": [
    "Em algumas situações não queremos apenas um único elemento da string, mas sim um pedaço maior dela. A linguagem permite o acesso em _slice_, ou seja, acessar uma parte maior da string. Existem várias formas de acessar um pedaço de uma string como reverso, da parte até o final, misto, exclusivamente negativo e com saltos negativos e múltiplos."
   ]
  },
  {
   "cell_type": "code",
   "execution_count": 66,
   "metadata": {
    "colab": {
     "base_uri": "https://localhost:8080/",
     "height": 34
    },
    "colab_type": "code",
    "id": "3wx1tTV8WhjB",
    "outputId": "fa6eb929-39fa-4c03-ebfb-0a1493cdf7b3"
   },
   "outputs": [
    {
     "name": "stdout",
     "output_type": "stream",
     "text": [
      "fundamentos\n"
     ]
    }
   ],
   "source": [
    "print(curso[:11])"
   ]
  },
  {
   "cell_type": "code",
   "execution_count": 69,
   "metadata": {
    "colab": {
     "base_uri": "https://localhost:8080/",
     "height": 34
    },
    "colab_type": "code",
    "id": "IkHZAqVQWv1A",
    "outputId": "bcae60fd-55ce-4288-afa9-1858caf70b11"
   },
   "outputs": [
    {
     "name": "stdout",
     "output_type": "stream",
     "text": [
      "python\n"
     ]
    }
   ],
   "source": [
    "print(curso[-6:])"
   ]
  },
  {
   "cell_type": "code",
   "execution_count": 72,
   "metadata": {
    "colab": {
     "base_uri": "https://localhost:8080/",
     "height": 34
    },
    "colab_type": "code",
    "id": "2xcdC0N_W0ud",
    "outputId": "40e0954f-df19-4acb-999d-38f229ef8055"
   },
   "outputs": [
    {
     "name": "stdout",
     "output_type": "stream",
     "text": [
      "senciais para python\n"
     ]
    }
   ],
   "source": [
    "print(curso[14:])"
   ]
  },
  {
   "cell_type": "code",
   "execution_count": 73,
   "metadata": {
    "colab": {
     "base_uri": "https://localhost:8080/",
     "height": 34
    },
    "colab_type": "code",
    "id": "5OLEDxSkDf5H",
    "outputId": "98131fba-79ba-4018-fd11-b2db2c295065"
   },
   "outputs": [
    {
     "name": "stdout",
     "output_type": "stream",
     "text": [
      "essenciais para \n"
     ]
    }
   ],
   "source": [
    "print(curso[12:-6])"
   ]
  },
  {
   "cell_type": "code",
   "execution_count": 74,
   "metadata": {
    "colab": {
     "base_uri": "https://localhost:8080/",
     "height": 34
    },
    "colab_type": "code",
    "id": "7pzGSP69D_YQ",
    "outputId": "c86381f3-c2c2-4e42-ca3e-19eeaf24563a"
   },
   "outputs": [
    {
     "name": "stdout",
     "output_type": "stream",
     "text": [
      " para \n"
     ]
    }
   ],
   "source": [
    "print(curso[-12:-6])"
   ]
  },
  {
   "cell_type": "code",
   "execution_count": 77,
   "metadata": {
    "colab": {
     "base_uri": "https://localhost:8080/",
     "height": 34
    },
    "colab_type": "code",
    "id": "apHbpnt8W-7r",
    "outputId": "00102605-b576-415c-f4cd-4908fd461798"
   },
   "outputs": [
    {
     "name": "stdout",
     "output_type": "stream",
     "text": [
      "udmno s\n"
     ]
    }
   ],
   "source": [
    "print(curso[1:15:2])"
   ]
  },
  {
   "cell_type": "code",
   "execution_count": 78,
   "metadata": {
    "colab": {
     "base_uri": "https://localhost:8080/",
     "height": 34
    },
    "colab_type": "code",
    "id": "Onf6q-JLPrTE",
    "outputId": "a229cdf5-6458-4017-b729-1be18413d63a"
   },
   "outputs": [
    {
     "name": "stdout",
     "output_type": "stream",
     "text": [
      "nohtyp arap siaicnesse sotnemadnuf\n"
     ]
    }
   ],
   "source": [
    "print(curso[::-1])"
   ]
  },
  {
   "cell_type": "code",
   "execution_count": 79,
   "metadata": {
    "colab": {
     "base_uri": "https://localhost:8080/",
     "height": 34
    },
    "colab_type": "code",
    "id": "YDqcpA4tXDRf",
    "outputId": "62d86226-8abf-4378-93a8-737421a596ec"
   },
   "outputs": [
    {
     "name": "stdout",
     "output_type": "stream",
     "text": [
      "fdeoeeisa tn\n"
     ]
    }
   ],
   "source": [
    "print(curso[::3])"
   ]
  },
  {
   "cell_type": "markdown",
   "metadata": {
    "colab_type": "text",
    "id": "y_LcxfpyPzln"
   },
   "source": [
    "#### 4.3 Operadores em strings"
   ]
  },
  {
   "cell_type": "markdown",
   "metadata": {
    "colab_type": "text",
    "id": "9QsJdnmiC-_g"
   },
   "source": [
    "Também podemos realizar operações com as strings, porém essas operações possuem uma função diferente das aritméticas, apesar do sinal ser o mesmo. \n",
    "\n",
    "O sinal de '+', nas strings, é usado para concatenar duas strings diferentes em uma única string"
   ]
  },
  {
   "cell_type": "code",
   "execution_count": 82,
   "metadata": {
    "colab": {
     "base_uri": "https://localhost:8080/",
     "height": 34
    },
    "colab_type": "code",
    "id": "CueESqDQPzlo",
    "outputId": "e0e7e526-ab36-4c95-90f0-e8af2e835c15"
   },
   "outputs": [
    {
     "name": "stdout",
     "output_type": "stream",
     "text": [
      "Maria é responsavel pelo setor comercial\n"
     ]
    }
   ],
   "source": [
    "resp = \"Maria é responsavel pelo setor\"\n",
    "setor = \"comercial\"\n",
    "\n",
    "print(resp + \" \" +setor)"
   ]
  },
  {
   "cell_type": "code",
   "execution_count": 84,
   "metadata": {
    "colab": {
     "base_uri": "https://localhost:8080/",
     "height": 34
    },
    "colab_type": "code",
    "id": "jwCfR8S1fybn",
    "outputId": "ee9749c6-efe1-4c78-89c0-0f3848430849"
   },
   "outputs": [
    {
     "name": "stdout",
     "output_type": "stream",
     "text": [
      "João tem 18 anos\n"
     ]
    }
   ],
   "source": [
    "nome = \"João\"\n",
    "idade = 18\n",
    "\n",
    "print(nome + \" tem \" + str(idade) + \" anos\")"
   ]
  },
  {
   "cell_type": "markdown",
   "metadata": {
    "colab_type": "text",
    "id": "J8QwUI3RG20D"
   },
   "source": [
    "Com as Strings também é possível usar o sinal de ' * ', que possui uma ideia de repetição de string."
   ]
  },
  {
   "cell_type": "code",
   "execution_count": 86,
   "metadata": {
    "colab": {
     "base_uri": "https://localhost:8080/",
     "height": 68
    },
    "colab_type": "code",
    "id": "EXynbzY1F9XS",
    "outputId": "6b2addfa-4c5e-4c89-bd60-817f6b291039"
   },
   "outputs": [
    {
     "data": {
      "text/plain": [
       "'JoãoJoãoJoão'"
      ]
     },
     "execution_count": 86,
     "metadata": {},
     "output_type": "execute_result"
    }
   ],
   "source": [
    "nome*3"
   ]
  },
  {
   "cell_type": "markdown",
   "metadata": {
    "colab_type": "text",
    "id": "tx9-tffgJXik"
   },
   "source": [
    "Apesar dos sinais em comum, como ' + ' e ' * ', os outros sinais aritméticos não funcionam para operações com strings "
   ]
  },
  {
   "cell_type": "code",
   "execution_count": 87,
   "metadata": {
    "colab": {
     "base_uri": "https://localhost:8080/",
     "height": 181
    },
    "colab_type": "code",
    "id": "SVdEc8eLF9uI",
    "outputId": "3cd323a0-2728-40ad-c2ae-7cb66a831cf3"
   },
   "outputs": [
    {
     "ename": "TypeError",
     "evalue": "unsupported operand type(s) for /: 'str' and 'str'",
     "output_type": "error",
     "traceback": [
      "\u001b[1;31m---------------------------------------------------------------------------\u001b[0m",
      "\u001b[1;31mTypeError\u001b[0m                                 Traceback (most recent call last)",
      "\u001b[1;32m<ipython-input-87-394f3ba77031>\u001b[0m in \u001b[0;36m<module>\u001b[1;34m\u001b[0m\n\u001b[0;32m      1\u001b[0m \u001b[0mnome2\u001b[0m \u001b[1;33m=\u001b[0m \u001b[1;34m\"Maria\"\u001b[0m\u001b[1;33m\u001b[0m\u001b[1;33m\u001b[0m\u001b[0m\n\u001b[1;32m----> 2\u001b[1;33m \u001b[0mprint\u001b[0m\u001b[1;33m(\u001b[0m\u001b[0mnome\u001b[0m\u001b[1;33m/\u001b[0m\u001b[0mnome2\u001b[0m\u001b[1;33m)\u001b[0m\u001b[1;33m\u001b[0m\u001b[1;33m\u001b[0m\u001b[0m\n\u001b[0m",
      "\u001b[1;31mTypeError\u001b[0m: unsupported operand type(s) for /: 'str' and 'str'"
     ]
    }
   ],
   "source": [
    "nome2 = \"Maria\"\n",
    "print(nome/nome2)"
   ]
  },
  {
   "cell_type": "markdown",
   "metadata": {
    "colab_type": "text",
    "id": "Kb7xerSuCUbe"
   },
   "source": [
    "#Podemos, também, ver qual o tipo da string, qual o tamnho e se alguma letra ou palavra se contra dentro da minha string, qual "
   ]
  },
  {
   "cell_type": "code",
   "execution_count": 88,
   "metadata": {
    "colab": {
     "base_uri": "https://localhost:8080/",
     "height": 51
    },
    "colab_type": "code",
    "id": "eeVb6mk0RJp5",
    "outputId": "4ad35131-5c1c-4eb1-98a3-167f8e6aea72"
   },
   "outputs": [
    {
     "name": "stdout",
     "output_type": "stream",
     "text": [
      "<class 'str'>\n",
      "4\n"
     ]
    }
   ],
   "source": [
    "print(type(nome))\n",
    "print(len(nome))"
   ]
  },
  {
   "cell_type": "code",
   "execution_count": 90,
   "metadata": {
    "colab": {
     "base_uri": "https://localhost:8080/",
     "height": 34
    },
    "colab_type": "code",
    "id": "5dEnbvXPRKD-",
    "outputId": "a346003c-af76-47be-cf4e-b63e6b601460"
   },
   "outputs": [
    {
     "data": {
      "text/plain": [
       "True"
      ]
     },
     "execution_count": 90,
     "metadata": {},
     "output_type": "execute_result"
    }
   ],
   "source": [
    "\"python\" in curso"
   ]
  },
  {
   "cell_type": "code",
   "execution_count": 91,
   "metadata": {
    "colab": {
     "base_uri": "https://localhost:8080/",
     "height": 34
    },
    "colab_type": "code",
    "id": "0FerefGwhOxh",
    "outputId": "e288052f-5c4d-4a38-fc6a-ba46101e370d"
   },
   "outputs": [
    {
     "data": {
      "text/plain": [
       "False"
      ]
     },
     "execution_count": 91,
     "metadata": {},
     "output_type": "execute_result"
    }
   ],
   "source": [
    "\"u\" in nome"
   ]
  },
  {
   "cell_type": "code",
   "execution_count": 92,
   "metadata": {
    "colab": {
     "base_uri": "https://localhost:8080/",
     "height": 34
    },
    "colab_type": "code",
    "id": "JLJYeJaIDBKR",
    "outputId": "dd9ff322-1210-4836-9088-27e1ebd0572f"
   },
   "outputs": [
    {
     "data": {
      "text/plain": [
       "False"
      ]
     },
     "execution_count": 92,
     "metadata": {},
     "output_type": "execute_result"
    }
   ],
   "source": [
    "\"a\" in nome"
   ]
  },
  {
   "cell_type": "markdown",
   "metadata": {
    "colab_type": "text",
    "id": "DpnDct4WPzly"
   },
   "source": [
    "#### 4.3 Métodos de String"
   ]
  },
  {
   "cell_type": "markdown",
   "metadata": {
    "colab_type": "text",
    "id": "qc188KexTAcI"
   },
   "source": [
    "As strings possuem diversos métodos (funções) úteis quando precisamos manipulá-las. Nesta parte, mostraremos as mais utilizadas, caso queira saber mais sobre as funções aqui está o link para a documentação oficial: [Documentação Python](https://docs.python.org/2.5/lib/string-methods.html)"
   ]
  },
  {
   "cell_type": "code",
   "execution_count": 93,
   "metadata": {},
   "outputs": [],
   "source": [
    "curso?"
   ]
  },
  {
   "cell_type": "markdown",
   "metadata": {
    "colab_type": "text",
    "id": "2P_34Cf3EUon"
   },
   "source": [
    "**Count**"
   ]
  },
  {
   "cell_type": "code",
   "execution_count": 95,
   "metadata": {
    "colab": {
     "base_uri": "https://localhost:8080/",
     "height": 34
    },
    "colab_type": "code",
    "id": "RhiesKS4PzmC",
    "outputId": "04bcae7b-e787-4e03-df14-7d91c11c1963"
   },
   "outputs": [
    {
     "data": {
      "text/plain": [
       "4"
      ]
     },
     "execution_count": 95,
     "metadata": {},
     "output_type": "execute_result"
    }
   ],
   "source": [
    "curso.count(\"a\")"
   ]
  },
  {
   "cell_type": "markdown",
   "metadata": {
    "colab_type": "text",
    "id": "AkP4hwKZEanx"
   },
   "source": [
    "**Find**"
   ]
  },
  {
   "cell_type": "code",
   "execution_count": 96,
   "metadata": {
    "colab": {
     "base_uri": "https://localhost:8080/",
     "height": 34
    },
    "colab_type": "code",
    "id": "vtPX-kWxPzmG",
    "outputId": "2d43b178-1f70-4612-d8b0-f7a4239ebf5a"
   },
   "outputs": [
    {
     "data": {
      "text/plain": [
       "23"
      ]
     },
     "execution_count": 96,
     "metadata": {},
     "output_type": "execute_result"
    }
   ],
   "source": [
    "curso.find(\"para\")"
   ]
  },
  {
   "cell_type": "markdown",
   "metadata": {
    "colab_type": "text",
    "id": "-sgAq-ykEeWr"
   },
   "source": [
    "**Replace**"
   ]
  },
  {
   "cell_type": "code",
   "execution_count": 98,
   "metadata": {
    "colab": {
     "base_uri": "https://localhost:8080/",
     "height": 34
    },
    "colab_type": "code",
    "id": "yC-nU-94PzmK",
    "outputId": "78846b60-2ea7-4437-84b8-695333e5da0f"
   },
   "outputs": [
    {
     "data": {
      "text/plain": [
       "'fundamentos essenciais para java'"
      ]
     },
     "execution_count": 98,
     "metadata": {},
     "output_type": "execute_result"
    }
   ],
   "source": [
    "curso.replace(\"python\", \"java\")"
   ]
  },
  {
   "cell_type": "markdown",
   "metadata": {
    "colab_type": "text",
    "id": "GQZzzWN7EhoC"
   },
   "source": [
    "**Upper**"
   ]
  },
  {
   "cell_type": "code",
   "execution_count": 100,
   "metadata": {
    "colab": {
     "base_uri": "https://localhost:8080/",
     "height": 34
    },
    "colab_type": "code",
    "id": "PhomdLyDPzmQ",
    "outputId": "484b4af8-700f-441f-f360-0c8f4b8cf5d8"
   },
   "outputs": [
    {
     "data": {
      "text/plain": [
       "'FUNDAMENTOS ESSENCIAIS PARA PYTHON'"
      ]
     },
     "execution_count": 100,
     "metadata": {},
     "output_type": "execute_result"
    }
   ],
   "source": [
    "curso.upper()"
   ]
  },
  {
   "cell_type": "markdown",
   "metadata": {
    "colab_type": "text",
    "id": "M6wakdqBEk59"
   },
   "source": [
    "**Lower**"
   ]
  },
  {
   "cell_type": "code",
   "execution_count": 101,
   "metadata": {
    "colab": {
     "base_uri": "https://localhost:8080/",
     "height": 34
    },
    "colab_type": "code",
    "id": "7HySwgr0PzmV",
    "outputId": "12de28ee-5b7b-4780-f9b2-46ffbddbeeb5"
   },
   "outputs": [
    {
     "data": {
      "text/plain": [
       "'fundamentos essenciais para python'"
      ]
     },
     "execution_count": 101,
     "metadata": {},
     "output_type": "execute_result"
    }
   ],
   "source": [
    "curso.lower()"
   ]
  },
  {
   "cell_type": "markdown",
   "metadata": {
    "colab_type": "text",
    "id": "iaYX--H4Enft"
   },
   "source": [
    "**Capitalize**"
   ]
  },
  {
   "cell_type": "code",
   "execution_count": 102,
   "metadata": {
    "colab": {
     "base_uri": "https://localhost:8080/",
     "height": 34
    },
    "colab_type": "code",
    "id": "eqoHqNcAPzmZ",
    "outputId": "c2e6639b-0490-469d-bc78-8e65b2940f4e"
   },
   "outputs": [
    {
     "data": {
      "text/plain": [
       "'Fundamentos essenciais para python'"
      ]
     },
     "execution_count": 102,
     "metadata": {},
     "output_type": "execute_result"
    }
   ],
   "source": [
    "curso.capitalize()"
   ]
  },
  {
   "cell_type": "markdown",
   "metadata": {
    "colab_type": "text",
    "id": "-dZLB0dyEqtq"
   },
   "source": [
    "**Split**"
   ]
  },
  {
   "cell_type": "code",
   "execution_count": 104,
   "metadata": {
    "colab": {
     "base_uri": "https://localhost:8080/",
     "height": 34
    },
    "colab_type": "code",
    "id": "9AU2YEBWPzmd",
    "outputId": "de749bc0-a4dd-497a-c61a-adb08e264278"
   },
   "outputs": [
    {
     "data": {
      "text/plain": [
       "['fundamento', ' e', '', 'enciai', ' para python']"
      ]
     },
     "execution_count": 104,
     "metadata": {},
     "output_type": "execute_result"
    }
   ],
   "source": [
    "curso.split(\"s\")"
   ]
  },
  {
   "cell_type": "markdown",
   "metadata": {
    "colab_type": "text",
    "id": "vI1VcAJ-EtRy"
   },
   "source": [
    "**Join**"
   ]
  },
  {
   "cell_type": "code",
   "execution_count": 105,
   "metadata": {
    "colab": {
     "base_uri": "https://localhost:8080/",
     "height": 34
    },
    "colab_type": "code",
    "id": "Xs1Eq-BdPzmh",
    "outputId": "72b462f8-70b6-452f-af7a-daa410bb12c0"
   },
   "outputs": [
    {
     "data": {
      "text/plain": [
       "'f-u-n-d-a-m-e-n-t-o-s- -e-s-s-e-n-c-i-a-i-s- -p-a-r-a- -p-y-t-h-o-n'"
      ]
     },
     "execution_count": 105,
     "metadata": {},
     "output_type": "execute_result"
    }
   ],
   "source": [
    "\"-\".join(curso)"
   ]
  },
  {
   "cell_type": "code",
   "execution_count": 108,
   "metadata": {},
   "outputs": [],
   "source": [
    "split1 = curso.split()\n",
    "split2 = curso.split(\"s\")"
   ]
  },
  {
   "cell_type": "code",
   "execution_count": 109,
   "metadata": {},
   "outputs": [
    {
     "data": {
      "text/plain": [
       "'fundamentos.essenciais.para.python'"
      ]
     },
     "execution_count": 109,
     "metadata": {},
     "output_type": "execute_result"
    }
   ],
   "source": [
    "\".\".join(split1)"
   ]
  },
  {
   "cell_type": "code",
   "execution_count": 110,
   "metadata": {},
   "outputs": [
    {
     "data": {
      "text/plain": [
       "'fundamentoS eSSenciaiS para python'"
      ]
     },
     "execution_count": 110,
     "metadata": {},
     "output_type": "execute_result"
    }
   ],
   "source": [
    "\"S\".join(split2)"
   ]
  },
  {
   "cell_type": "markdown",
   "metadata": {
    "colab_type": "text",
    "id": "acegKueYPzml"
   },
   "source": [
    "**Strip**"
   ]
  },
  {
   "cell_type": "code",
   "execution_count": 115,
   "metadata": {
    "colab": {},
    "colab_type": "code",
    "id": "mEGHrCoHPzmm"
   },
   "outputs": [],
   "source": [
    "nova_frase = \"   Fundamentos para python    \""
   ]
  },
  {
   "cell_type": "code",
   "execution_count": 116,
   "metadata": {
    "colab": {
     "base_uri": "https://localhost:8080/",
     "height": 34
    },
    "colab_type": "code",
    "id": "DwIbIHAaPzms",
    "outputId": "129c0832-33c1-45c3-d7fb-656a3fae20fd"
   },
   "outputs": [
    {
     "data": {
      "text/plain": [
       "'Fundamentos para python'"
      ]
     },
     "execution_count": 116,
     "metadata": {},
     "output_type": "execute_result"
    }
   ],
   "source": [
    "nova_frase.strip()"
   ]
  },
  {
   "cell_type": "code",
   "execution_count": 117,
   "metadata": {
    "colab": {
     "base_uri": "https://localhost:8080/",
     "height": 34
    },
    "colab_type": "code",
    "id": "Gi-u8g2DPzmx",
    "outputId": "05a18bbd-33cb-4927-f999-01d307615da1"
   },
   "outputs": [
    {
     "data": {
      "text/plain": [
       "'Fundamentos para python    '"
      ]
     },
     "execution_count": 117,
     "metadata": {},
     "output_type": "execute_result"
    }
   ],
   "source": [
    "nova_frase.lstrip()"
   ]
  },
  {
   "cell_type": "code",
   "execution_count": 118,
   "metadata": {
    "colab": {
     "base_uri": "https://localhost:8080/",
     "height": 34
    },
    "colab_type": "code",
    "id": "4ICjkqXwPzm0",
    "outputId": "5b62d222-5353-4468-b4b4-446d0b6396e6"
   },
   "outputs": [
    {
     "data": {
      "text/plain": [
       "'   Fundamentos para python'"
      ]
     },
     "execution_count": 118,
     "metadata": {},
     "output_type": "execute_result"
    }
   ],
   "source": [
    "nova_frase.rstrip()"
   ]
  },
  {
   "cell_type": "markdown",
   "metadata": {
    "colab_type": "text",
    "id": "vEv018hvPzlt"
   },
   "source": [
    "#### 4.4 Inserção e formatação de substrings"
   ]
  },
  {
   "cell_type": "markdown",
   "metadata": {
    "colab_type": "text",
    "id": "PvmL2I1W4SDI"
   },
   "source": [
    "A formatação de strings no Python é, atualmente, feita através do método **format()** . É um metodo de formatação de strings que permite concatenar elementos dentro de uma string através de formatação posicional"
   ]
  },
  {
   "cell_type": "code",
   "execution_count": 120,
   "metadata": {
    "colab": {
     "base_uri": "https://localhost:8080/",
     "height": 34
    },
    "colab_type": "code",
    "id": "4d9qN1lpPzlu",
    "outputId": "0fa808fa-5589-4b85-f315-10bc2a72a1ec"
   },
   "outputs": [
    {
     "data": {
      "text/plain": [
       "'José é responsavel pelo setor RH'"
      ]
     },
     "execution_count": 120,
     "metadata": {},
     "output_type": "execute_result"
    }
   ],
   "source": [
    "nome = \" Luiz\"\n",
    "nome2 = \"José\"\n",
    "setor = \"RH\"\n",
    "texto = \"{} é responsavel pelo setor {}\".format(nome2,setor)\n",
    "\n",
    "texto"
   ]
  },
  {
   "cell_type": "code",
   "execution_count": 122,
   "metadata": {
    "colab": {
     "base_uri": "https://localhost:8080/",
     "height": 34
    },
    "colab_type": "code",
    "id": "W2R6p210gXl4",
    "outputId": "6be2ad34-d2ee-4f86-caa7-1eac2ff58f42"
   },
   "outputs": [
    {
     "data": {
      "text/plain": [
       "'valor 12.46 com 2 casas decimais'"
      ]
     },
     "execution_count": 122,
     "metadata": {},
     "output_type": "execute_result"
    }
   ],
   "source": [
    "valor = 12.45786\n",
    "\n",
    "texto2 = \"valor {:.2f} com 2 casas decimais\".format(valor)\n",
    "texto2"
   ]
  },
  {
   "cell_type": "markdown",
   "metadata": {
    "colab_type": "text",
    "id": "GQkeo_v0Pzm6"
   },
   "source": [
    "## 5. Estrutura de dados"
   ]
  },
  {
   "cell_type": "markdown",
   "metadata": {
    "colab_type": "text",
    "id": "9vC3eqpQPzm6"
   },
   "source": [
    "#### 5.1 Listas"
   ]
  },
  {
   "cell_type": "markdown",
   "metadata": {
    "colab_type": "text",
    "id": "nessenxNV0Ar"
   },
   "source": [
    "Quando queremos armazenar uma sequencia de elementos usamos as **listas**. A lista é uma estrutura de dados composta por itens organizados de forma linear e cada um desses itens pode ser acessado através de um índice, que indica a posição do elemento na lista"
   ]
  },
  {
   "cell_type": "markdown",
   "metadata": {
    "colab_type": "text",
    "id": "hYqF9WX1FJGP"
   },
   "source": [
    "**Criação**\n",
    "\n",
    "As listas são inicializadas entre colchetes **\"[ ]\"**"
   ]
  },
  {
   "cell_type": "code",
   "execution_count": 124,
   "metadata": {
    "colab": {
     "base_uri": "https://localhost:8080/",
     "height": 34
    },
    "colab_type": "code",
    "id": "J_lZiErvPzm7",
    "outputId": "c80ec043-2ded-43e1-dfcc-da4e8fcd7c12"
   },
   "outputs": [
    {
     "data": {
      "text/plain": [
       "list"
      ]
     },
     "execution_count": 124,
     "metadata": {},
     "output_type": "execute_result"
    }
   ],
   "source": [
    "listaSetores = [\"Comercial\", \"Rh\", \"Financeira\", \"Adm\", \"Operacional\"]\n",
    "listaSetores\n",
    "type(listaSetores)"
   ]
  },
  {
   "cell_type": "code",
   "execution_count": 132,
   "metadata": {
    "colab": {},
    "colab_type": "code",
    "id": "F2q3oCEzUMlb"
   },
   "outputs": [
    {
     "data": {
      "text/plain": [
       "[10, 4, 5, 10.3, 2]"
      ]
     },
     "execution_count": 132,
     "metadata": {},
     "output_type": "execute_result"
    }
   ],
   "source": [
    "listaNum= [10,4,5,10.3,2]\n",
    "listaNum"
   ]
  },
  {
   "cell_type": "code",
   "execution_count": 128,
   "metadata": {
    "colab": {},
    "colab_type": "code",
    "id": "CrtxZbqXWYND"
   },
   "outputs": [
    {
     "data": {
      "text/plain": [
       "[10, 'Comercial', 4, 'Rh', 10.3]"
      ]
     },
     "execution_count": 128,
     "metadata": {},
     "output_type": "execute_result"
    }
   ],
   "source": [
    "listaHeterogenea = [10,\"Comercial\", 4, \"Rh\",10.3]\n",
    "listaHeterogenea"
   ]
  },
  {
   "cell_type": "markdown",
   "metadata": {
    "colab_type": "text",
    "id": "b1FmbcXCkLDQ"
   },
   "source": [
    "As funções nativas vistas anteriormente também podem ser usadas para listas, como o len() e o type()"
   ]
  },
  {
   "cell_type": "code",
   "execution_count": 129,
   "metadata": {
    "colab": {
     "base_uri": "https://localhost:8080/",
     "height": 34
    },
    "colab_type": "code",
    "id": "HMdz6DKBPznA",
    "outputId": "95dc7611-39b3-4ae1-caf4-811a59da5c09"
   },
   "outputs": [
    {
     "data": {
      "text/plain": [
       "list"
      ]
     },
     "execution_count": 129,
     "metadata": {},
     "output_type": "execute_result"
    }
   ],
   "source": [
    "type(listaHeterogenea)"
   ]
  },
  {
   "cell_type": "code",
   "execution_count": 130,
   "metadata": {
    "colab": {
     "base_uri": "https://localhost:8080/",
     "height": 34
    },
    "colab_type": "code",
    "id": "AbKRENiMPznE",
    "outputId": "9e305b44-7f85-4dc6-ea88-707709cb1116"
   },
   "outputs": [
    {
     "name": "stdout",
     "output_type": "stream",
     "text": [
      "5\n"
     ]
    }
   ],
   "source": [
    "print(len(listaSetores))"
   ]
  },
  {
   "cell_type": "markdown",
   "metadata": {
    "colab_type": "text",
    "id": "7G5vcHLUGQw9"
   },
   "source": [
    "**Acesso**"
   ]
  },
  {
   "cell_type": "markdown",
   "metadata": {},
   "source": []
  },
  {
   "cell_type": "markdown",
   "metadata": {
    "colab_type": "text",
    "id": "vf_onR7-Hxha"
   },
   "source": [
    "Assim como as Strings, as listas possuem várias formas de acesso por índice."
   ]
  },
  {
   "cell_type": "code",
   "execution_count": 133,
   "metadata": {
    "colab": {
     "base_uri": "https://localhost:8080/",
     "height": 34
    },
    "colab_type": "code",
    "id": "GubRMEa4HBeP",
    "outputId": "a1edffb6-bcbe-4e0e-a19a-d4218426b718"
   },
   "outputs": [
    {
     "data": {
      "text/plain": [
       "10.3"
      ]
     },
     "execution_count": 133,
     "metadata": {},
     "output_type": "execute_result"
    }
   ],
   "source": [
    "listaNum[3]"
   ]
  },
  {
   "cell_type": "code",
   "execution_count": 134,
   "metadata": {
    "colab": {
     "base_uri": "https://localhost:8080/",
     "height": 34
    },
    "colab_type": "code",
    "id": "LvUqapAcHA0E",
    "outputId": "a10ab4a5-8a60-4da6-b25f-d0e87f487948"
   },
   "outputs": [
    {
     "data": {
      "text/plain": [
       "[10, 4, 5, 10.3, 2]"
      ]
     },
     "execution_count": 134,
     "metadata": {},
     "output_type": "execute_result"
    }
   ],
   "source": [
    "listaNum"
   ]
  },
  {
   "cell_type": "code",
   "execution_count": 135,
   "metadata": {
    "colab": {
     "base_uri": "https://localhost:8080/",
     "height": 34
    },
    "colab_type": "code",
    "id": "eQzWTE_ZHAg1",
    "outputId": "ffe92059-3b62-4eec-ce9e-992b8ff0f6a1"
   },
   "outputs": [
    {
     "data": {
      "text/plain": [
       "'Adm'"
      ]
     },
     "execution_count": 135,
     "metadata": {},
     "output_type": "execute_result"
    }
   ],
   "source": [
    "listaSetores[-2]"
   ]
  },
  {
   "cell_type": "code",
   "execution_count": 136,
   "metadata": {
    "colab": {
     "base_uri": "https://localhost:8080/",
     "height": 34
    },
    "colab_type": "code",
    "id": "ybGiMFopHAJf",
    "outputId": "fbcb0336-d60a-4ed8-bb24-1600c75319fb"
   },
   "outputs": [
    {
     "data": {
      "text/plain": [
       "['Comercial', 'Rh', 'Financeira']"
      ]
     },
     "execution_count": 136,
     "metadata": {},
     "output_type": "execute_result"
    }
   ],
   "source": [
    "listaSetores[:-2]"
   ]
  },
  {
   "cell_type": "code",
   "execution_count": 137,
   "metadata": {
    "colab": {
     "base_uri": "https://localhost:8080/",
     "height": 34
    },
    "colab_type": "code",
    "id": "U2YULBxBLWn0",
    "outputId": "98dcbf2e-8e1e-4611-f776-a236820dfea7"
   },
   "outputs": [
    {
     "data": {
      "text/plain": [
       "(str, int)"
      ]
     },
     "execution_count": 137,
     "metadata": {},
     "output_type": "execute_result"
    }
   ],
   "source": [
    "type(listaSetores[1]), type(listaNum[1])"
   ]
  },
  {
   "cell_type": "code",
   "execution_count": 139,
   "metadata": {
    "colab": {
     "base_uri": "https://localhost:8080/",
     "height": 34
    },
    "colab_type": "code",
    "id": "NucZwOw7MFGr",
    "outputId": "f3849dc7-9624-4ac3-d50f-da99f6686f02"
   },
   "outputs": [
    {
     "data": {
      "text/plain": [
       "3"
      ]
     },
     "execution_count": 139,
     "metadata": {},
     "output_type": "execute_result"
    }
   ],
   "source": [
    "len(listaSetores[::2])"
   ]
  },
  {
   "cell_type": "markdown",
   "metadata": {
    "colab_type": "text",
    "id": "Dag7oSLrGWYe"
   },
   "source": [
    "**Operadores**"
   ]
  },
  {
   "cell_type": "markdown",
   "metadata": {
    "colab_type": "text",
    "id": "0BTKXP4yKsn_"
   },
   "source": [
    "Em algumas situações precisamos juntar (concatenar) duas listas. Para isso podemos usar o operador **'+'**"
   ]
  },
  {
   "cell_type": "code",
   "execution_count": 142,
   "metadata": {
    "colab": {},
    "colab_type": "code",
    "id": "4ldyX6XtZ6rC"
   },
   "outputs": [
    {
     "name": "stdout",
     "output_type": "stream",
     "text": [
      "[1, 2, 3, 4]\n",
      "[5, 3, 6.2, 'último']\n"
     ]
    }
   ],
   "source": [
    "l1 = [1,2,3,4]\n",
    "l2 = [5,3,6.2,\"último\"]\n",
    "\n",
    "print(l1)\n",
    "print(l2)"
   ]
  },
  {
   "cell_type": "code",
   "execution_count": 143,
   "metadata": {
    "colab": {
     "base_uri": "https://localhost:8080/",
     "height": 34
    },
    "colab_type": "code",
    "id": "Wh6iQw7aZ_Dl",
    "outputId": "6442b5da-7b70-4061-84ce-92690d7c44b4"
   },
   "outputs": [
    {
     "data": {
      "text/plain": [
       "[1, 2, 3, 4, 5, 3, 6.2, 'último']"
      ]
     },
     "execution_count": 143,
     "metadata": {},
     "output_type": "execute_result"
    }
   ],
   "source": [
    "l1+l2"
   ]
  },
  {
   "cell_type": "markdown",
   "metadata": {
    "colab_type": "text",
    "id": "wRl89XHdLTOw"
   },
   "source": [
    "Podemos, também, usar operadores similares às situações das strings. No exemplo abaixo, a l1 foi repetida 3 vezes ao usarmos o operador **' * '**"
   ]
  },
  {
   "cell_type": "code",
   "execution_count": 144,
   "metadata": {
    "colab": {
     "base_uri": "https://localhost:8080/",
     "height": 51
    },
    "colab_type": "code",
    "id": "AyLhmbJ2LTyJ",
    "outputId": "1833b804-a6c6-44dc-c8e3-13e90bf774b1"
   },
   "outputs": [
    {
     "name": "stdout",
     "output_type": "stream",
     "text": [
      "l1 3 vezes [1, 2, 3, 4, 1, 2, 3, 4, 1, 2, 3, 4]\n"
     ]
    }
   ],
   "source": [
    "print(\"l1 3 vezes\",l1*3)"
   ]
  },
  {
   "cell_type": "markdown",
   "metadata": {
    "colab_type": "text",
    "id": "Teh6omdXGhiv"
   },
   "source": [
    "**Métodos de manipulação de listas**"
   ]
  },
  {
   "cell_type": "markdown",
   "metadata": {
    "colab_type": "text",
    "id": "Di2OPQr2NGFt"
   },
   "source": [
    "É importante ressaltar que as listas são estruturas de dados mutáveis, ou seja, podemos remover, adicionar e mudar qualquer elemento dela"
   ]
  },
  {
   "cell_type": "code",
   "execution_count": 145,
   "metadata": {
    "colab": {
     "base_uri": "https://localhost:8080/",
     "height": 51
    },
    "colab_type": "code",
    "id": "8aQ1TuQfNFU3",
    "outputId": "a00636c5-e88c-45e9-89be-7c6ec5dcc134"
   },
   "outputs": [
    {
     "data": {
      "text/plain": [
       "[10, 4, 5, 10.3, 2]"
      ]
     },
     "execution_count": 145,
     "metadata": {},
     "output_type": "execute_result"
    }
   ],
   "source": [
    "listaNum"
   ]
  },
  {
   "cell_type": "code",
   "execution_count": 146,
   "metadata": {},
   "outputs": [
    {
     "name": "stdout",
     "output_type": "stream",
     "text": [
      "Lista original [10, 4, 5, 10.3, 2]\n",
      "lista modificada [35, 4, 5, 10.3, -6]\n"
     ]
    }
   ],
   "source": [
    "print(\"Lista original\", listaNum)\n",
    "listaNum[0]= 35\n",
    "listaNum[-1]= -6\n",
    "print(\"lista modificada\", listaNum)"
   ]
  },
  {
   "cell_type": "markdown",
   "metadata": {
    "colab_type": "text",
    "id": "pOsa6P4kOh2C"
   },
   "source": [
    "As listas apresentam diversas funções que são utilizadas para manipulá-las. Nos próximos códigos vamos demonstrar como usá-los, mas, caso queira ver maiores detalhamentos veja a [documentação oficial](https://docs.python.org/pt-br/3/tutorial/datastructures.html)."
   ]
  },
  {
   "cell_type": "markdown",
   "metadata": {
    "colab_type": "text",
    "id": "F2hZPoLdPuSy"
   },
   "source": [
    "*Remove*"
   ]
  },
  {
   "cell_type": "code",
   "execution_count": 152,
   "metadata": {
    "colab": {
     "base_uri": "https://localhost:8080/",
     "height": 34
    },
    "colab_type": "code",
    "id": "iQhDfnhsPznI",
    "outputId": "cdf5f37b-8f85-4556-c217-5165c9eb10f0"
   },
   "outputs": [
    {
     "data": {
      "text/plain": [
       "['Rh', 'Financeira', 'Adm', 'Operacional']"
      ]
     },
     "execution_count": 152,
     "metadata": {},
     "output_type": "execute_result"
    }
   ],
   "source": [
    "listaSetores = [\"Comercial\", \"Rh\", \"Financeira\", \"Adm\", \"Operacional\"]\n",
    "listaSetores.remove(\"Comercial\")\n",
    "listaSetores"
   ]
  },
  {
   "cell_type": "code",
   "execution_count": null,
   "metadata": {},
   "outputs": [],
   "source": [
    "listaSetores = listaSetores[:-1]\n",
    "listaSetores"
   ]
  },
  {
   "cell_type": "markdown",
   "metadata": {
    "colab_type": "text",
    "id": "PaMbhJgDP1ru"
   },
   "source": [
    "*Append*"
   ]
  },
  {
   "cell_type": "code",
   "execution_count": 155,
   "metadata": {
    "colab": {
     "base_uri": "https://localhost:8080/",
     "height": 34
    },
    "colab_type": "code",
    "id": "6wKUKAOKSarz",
    "outputId": "b4e903b6-d908-4e85-ca36-fc5a3e5234fb"
   },
   "outputs": [
    {
     "data": {
      "text/plain": [
       "['Rh', 'Financeira', 'Comercial']"
      ]
     },
     "execution_count": 155,
     "metadata": {},
     "output_type": "execute_result"
    }
   ],
   "source": [
    "listaSetores.append(\"Comercial\")\n",
    "listaSetores"
   ]
  },
  {
   "cell_type": "markdown",
   "metadata": {
    "colab_type": "text",
    "id": "uniXdrUxP4CU"
   },
   "source": [
    "*Pop*"
   ]
  },
  {
   "cell_type": "code",
   "execution_count": 156,
   "metadata": {
    "colab": {
     "base_uri": "https://localhost:8080/",
     "height": 34
    },
    "colab_type": "code",
    "id": "FEwAEAJOSo7_",
    "outputId": "25dce8be-2c20-4922-d18f-bb0565ab1f27"
   },
   "outputs": [
    {
     "data": {
      "text/plain": [
       "['Rh', 'Financeira']"
      ]
     },
     "execution_count": 156,
     "metadata": {},
     "output_type": "execute_result"
    }
   ],
   "source": [
    "listaSetores.pop()\n",
    "listaSetores"
   ]
  },
  {
   "cell_type": "code",
   "execution_count": 157,
   "metadata": {
    "colab": {
     "base_uri": "https://localhost:8080/",
     "height": 34
    },
    "colab_type": "code",
    "id": "y5G_sBVDTtG3",
    "outputId": "1ec54d52-5930-42fa-ac62-01e53e26784f"
   },
   "outputs": [
    {
     "data": {
      "text/plain": [
       "['Rh']"
      ]
     },
     "execution_count": 157,
     "metadata": {},
     "output_type": "execute_result"
    }
   ],
   "source": [
    "listaSetores.pop(1)\n",
    "listaSetores"
   ]
  },
  {
   "cell_type": "markdown",
   "metadata": {
    "colab_type": "text",
    "id": "_v4xTH7QP6tv"
   },
   "source": [
    "*Sort*"
   ]
  },
  {
   "cell_type": "code",
   "execution_count": 158,
   "metadata": {
    "colab": {
     "base_uri": "https://localhost:8080/",
     "height": 34
    },
    "colab_type": "code",
    "id": "iR6hABXhT7XV",
    "outputId": "eacf676c-7d01-475f-ad15-f417bbdd4017"
   },
   "outputs": [
    {
     "data": {
      "text/plain": [
       "['Adm', 'Comercial', 'Financeira', 'Operacional', 'Rh']"
      ]
     },
     "execution_count": 158,
     "metadata": {},
     "output_type": "execute_result"
    }
   ],
   "source": [
    "listaSetores = [\"Comercial\", \"Rh\", \"Financeira\", \"Adm\", \"Operacional\"]\n",
    "listaSetores.sort()\n",
    "listaSetores"
   ]
  },
  {
   "cell_type": "code",
   "execution_count": 159,
   "metadata": {
    "colab": {
     "base_uri": "https://localhost:8080/",
     "height": 34
    },
    "colab_type": "code",
    "id": "gihJZrjtb26L",
    "outputId": "7eca664c-e725-4d09-e2d2-35137fb6feb3"
   },
   "outputs": [
    {
     "data": {
      "text/plain": [
       "[-6, 4, 5, 10.3, 35]"
      ]
     },
     "execution_count": 159,
     "metadata": {},
     "output_type": "execute_result"
    }
   ],
   "source": [
    "listaNum.sort()\n",
    "listaNum"
   ]
  },
  {
   "cell_type": "markdown",
   "metadata": {
    "colab_type": "text",
    "id": "dEO6Vv27PznM"
   },
   "source": [
    "#### 5.2 Tuplas"
   ]
  },
  {
   "cell_type": "markdown",
   "metadata": {
    "colab_type": "text",
    "id": "QxjQT7xlX6zA"
   },
   "source": [
    "**Criação**"
   ]
  },
  {
   "cell_type": "markdown",
   "metadata": {
    "colab_type": "text",
    "id": "SjWM1FZRQCta"
   },
   "source": [
    "Além das listas, uma importante estrutura de dados é a **Tupla** . Uma tupla \n",
    "consiste em uma sequência de dados separados por vírgula sempre envolvidos por **\"( )\"**. "
   ]
  },
  {
   "cell_type": "code",
   "execution_count": 160,
   "metadata": {
    "colab": {
     "base_uri": "https://localhost:8080/",
     "height": 34
    },
    "colab_type": "code",
    "id": "ELY9JcT_PznN",
    "outputId": "235070d3-5e80-46ca-9710-163f174f0440"
   },
   "outputs": [
    {
     "data": {
      "text/plain": [
       "(12, 15, 6, 25, -10)"
      ]
     },
     "execution_count": 160,
     "metadata": {},
     "output_type": "execute_result"
    }
   ],
   "source": [
    "tuplaNum = (12,15,6,25,-10)\n",
    "tuplaNum"
   ]
  },
  {
   "cell_type": "code",
   "execution_count": 161,
   "metadata": {
    "colab": {
     "base_uri": "https://localhost:8080/",
     "height": 34
    },
    "colab_type": "code",
    "id": "j1ock7EhR4WG",
    "outputId": "d91fe5e7-7456-44c4-feeb-d54142712691"
   },
   "outputs": [
    {
     "data": {
      "text/plain": [
       "(15, 10, 'tupla', 3.17, 'python')"
      ]
     },
     "execution_count": 161,
     "metadata": {},
     "output_type": "execute_result"
    }
   ],
   "source": [
    "tuplaHeterogenea = (15,10,\"tupla\",3.17,\"python\")\n",
    "tuplaHeterogenea"
   ]
  },
  {
   "cell_type": "markdown",
   "metadata": {
    "colab_type": "text",
    "id": "Lx3DWzRBS1Te"
   },
   "source": [
    "Apesar da similaridade de tuplas e listas, elas são utilizadas em situações diferentes com diferentes propósitos. A grande diferença é que as tuplas são **imutáveis**. "
   ]
  },
  {
   "cell_type": "code",
   "execution_count": 162,
   "metadata": {
    "colab": {
     "base_uri": "https://localhost:8080/",
     "height": 163
    },
    "colab_type": "code",
    "id": "eANj7XbZWAfS",
    "outputId": "9303b66e-4772-4681-891f-379f5275bb03"
   },
   "outputs": [
    {
     "ename": "TypeError",
     "evalue": "'tuple' object does not support item assignment",
     "output_type": "error",
     "traceback": [
      "\u001b[1;31m---------------------------------------------------------------------------\u001b[0m",
      "\u001b[1;31mTypeError\u001b[0m                                 Traceback (most recent call last)",
      "\u001b[1;32m<ipython-input-162-d3c28940e9e8>\u001b[0m in \u001b[0;36m<module>\u001b[1;34m\u001b[0m\n\u001b[1;32m----> 1\u001b[1;33m \u001b[0mtuplaNum\u001b[0m\u001b[1;33m[\u001b[0m\u001b[1;36m0\u001b[0m\u001b[1;33m]\u001b[0m \u001b[1;33m=\u001b[0m \u001b[1;36m18\u001b[0m\u001b[1;33m\u001b[0m\u001b[1;33m\u001b[0m\u001b[0m\n\u001b[0m",
      "\u001b[1;31mTypeError\u001b[0m: 'tuple' object does not support item assignment"
     ]
    }
   ],
   "source": [
    "tuplaNum[0] = 18"
   ]
  },
  {
   "cell_type": "markdown",
   "metadata": {
    "colab_type": "text",
    "id": "mPOYlnBiZt2L"
   },
   "source": [
    "**Acesso**"
   ]
  },
  {
   "cell_type": "markdown",
   "metadata": {
    "colab_type": "text",
    "id": "cun2WB5Kafsa"
   },
   "source": [
    "O acesso nas tuplas é dado de forma similar às listas e strings. Assim como elas, temos diversas formas de acessar os elementos das tuplas"
   ]
  },
  {
   "cell_type": "code",
   "execution_count": 163,
   "metadata": {
    "colab": {
     "base_uri": "https://localhost:8080/",
     "height": 34
    },
    "colab_type": "code",
    "id": "4tDaoUBXZwLq",
    "outputId": "d788b64e-4c67-48e6-ac4e-53ab33a63b5f"
   },
   "outputs": [
    {
     "data": {
      "text/plain": [
       "12"
      ]
     },
     "execution_count": 163,
     "metadata": {},
     "output_type": "execute_result"
    }
   ],
   "source": [
    "tuplaNum[0]"
   ]
  },
  {
   "cell_type": "code",
   "execution_count": 164,
   "metadata": {
    "colab": {
     "base_uri": "https://localhost:8080/",
     "height": 34
    },
    "colab_type": "code",
    "id": "exW43FT-aPxi",
    "outputId": "2784b0a2-3b08-45c9-f5de-94d54112c8bb"
   },
   "outputs": [
    {
     "data": {
      "text/plain": [
       "(12, 15, 6)"
      ]
     },
     "execution_count": 164,
     "metadata": {},
     "output_type": "execute_result"
    }
   ],
   "source": [
    "tuplaNum[:3]"
   ]
  },
  {
   "cell_type": "markdown",
   "metadata": {
    "colab_type": "text",
    "id": "41MagSwLcKCk"
   },
   "source": [
    "**Desempacotamento**"
   ]
  },
  {
   "cell_type": "markdown",
   "metadata": {
    "colab_type": "text",
    "id": "sbJu4wusbNrk"
   },
   "source": [
    "O Python tem um mecanismo de atribuição múltipla de variáveis retirando elementos de tuplas. Esse mecanismo é chamado de desempacotamento"
   ]
  },
  {
   "cell_type": "code",
   "execution_count": 165,
   "metadata": {
    "colab": {},
    "colab_type": "code",
    "id": "a85YCT7PbAQR"
   },
   "outputs": [
    {
     "data": {
      "text/plain": [
       "('python', 'voitto', 2020, 12345, 10)"
      ]
     },
     "execution_count": 165,
     "metadata": {},
     "output_type": "execute_result"
    }
   ],
   "source": [
    "curso = (\"python\",\"voitto\",2020,12345,10)\n",
    "curso"
   ]
  },
  {
   "cell_type": "code",
   "execution_count": 166,
   "metadata": {
    "colab": {},
    "colab_type": "code",
    "id": "ZLvhu0T_dhnI"
   },
   "outputs": [],
   "source": [
    "nomeDoCurso,empresa,anodeCriacao,codigo,nota = curso"
   ]
  },
  {
   "cell_type": "code",
   "execution_count": 167,
   "metadata": {
    "colab": {
     "base_uri": "https://localhost:8080/",
     "height": 34
    },
    "colab_type": "code",
    "id": "_ffwfT-qegi3",
    "outputId": "bfcabf37-2050-469e-e463-4a00b2475d39"
   },
   "outputs": [
    {
     "data": {
      "text/plain": [
       "'python'"
      ]
     },
     "execution_count": 167,
     "metadata": {},
     "output_type": "execute_result"
    }
   ],
   "source": [
    "nomeDoCurso"
   ]
  },
  {
   "cell_type": "code",
   "execution_count": 168,
   "metadata": {},
   "outputs": [
    {
     "data": {
      "text/plain": [
       "'voitto'"
      ]
     },
     "execution_count": 168,
     "metadata": {},
     "output_type": "execute_result"
    }
   ],
   "source": [
    "empresa"
   ]
  },
  {
   "cell_type": "code",
   "execution_count": 169,
   "metadata": {},
   "outputs": [],
   "source": [
    "nc,em,_, _, _ = curso"
   ]
  },
  {
   "cell_type": "code",
   "execution_count": 170,
   "metadata": {},
   "outputs": [
    {
     "data": {
      "text/plain": [
       "'python'"
      ]
     },
     "execution_count": 170,
     "metadata": {},
     "output_type": "execute_result"
    }
   ],
   "source": [
    "nc"
   ]
  },
  {
   "cell_type": "markdown",
   "metadata": {
    "colab_type": "text",
    "id": "3MRKX2XJepqZ"
   },
   "source": [
    "Esse mecanismo citado economizou 5 linhas de comandos de atribuição. O único requisito é que a quantidade de variáveis à esqueda seja igual ao número de elementos da tupla"
   ]
  },
  {
   "cell_type": "markdown",
   "metadata": {
    "colab_type": "text",
    "id": "N4TrH1vZYjWC"
   },
   "source": [
    "**Operações**"
   ]
  },
  {
   "cell_type": "markdown",
   "metadata": {
    "colab_type": "text",
    "id": "i1agQbhwgv04"
   },
   "source": [
    "Assim como nas strings e listas, as tuplas também possuem os operadores de concatenação, **' + '**, e repetição,  **' * '**."
   ]
  },
  {
   "cell_type": "code",
   "execution_count": 171,
   "metadata": {
    "colab": {
     "base_uri": "https://localhost:8080/",
     "height": 34
    },
    "colab_type": "code",
    "id": "9PDJet_3Yn2S",
    "outputId": "06fdae6a-f0b4-4241-b9ed-4ebe7298319f"
   },
   "outputs": [
    {
     "name": "stdout",
     "output_type": "stream",
     "text": [
      "(12, 15, 6, 25, -10)\n",
      "(15, 10, 'tupla', 3.17, 'python')\n"
     ]
    }
   ],
   "source": [
    "print(tuplaNum)\n",
    "print(tuplaHeterogenea)"
   ]
  },
  {
   "cell_type": "code",
   "execution_count": 172,
   "metadata": {
    "colab": {
     "base_uri": "https://localhost:8080/",
     "height": 34
    },
    "colab_type": "code",
    "id": "A0GCpHeVYoVe",
    "outputId": "2f41bc56-7a28-442f-a95b-2b972042c3fa"
   },
   "outputs": [
    {
     "data": {
      "text/plain": [
       "(12, 15, 6, 25, -10, 15, 10, 'tupla', 3.17, 'python')"
      ]
     },
     "execution_count": 172,
     "metadata": {},
     "output_type": "execute_result"
    }
   ],
   "source": [
    "tuplaNum + tuplaHeterogenea"
   ]
  },
  {
   "cell_type": "markdown",
   "metadata": {
    "colab_type": "text",
    "id": "IcdXOurXYpKB"
   },
   "source": [
    "**Extensão sobre tuplas**"
   ]
  },
  {
   "cell_type": "markdown",
   "metadata": {
    "colab_type": "text",
    "id": "ll3Y6GDMgPfk"
   },
   "source": [
    "Se você realmente precisar alterar algum elemento na tupla é possivel concaternar a tupla antiga com o que o item que desejamos e atribuir a uma nova tupla"
   ]
  },
  {
   "cell_type": "code",
   "execution_count": 173,
   "metadata": {
    "colab": {
     "base_uri": "https://localhost:8080/",
     "height": 34
    },
    "colab_type": "code",
    "id": "xKQy04fJZdmb",
    "outputId": "30d26358-7443-4dcf-b5aa-9b591f1a0e5e"
   },
   "outputs": [
    {
     "data": {
      "text/plain": [
       "(12, 15, 6, 25, -10, 5)"
      ]
     },
     "execution_count": 173,
     "metadata": {},
     "output_type": "execute_result"
    }
   ],
   "source": [
    "tuplaNum= tuplaNum + (5, )\n",
    "tuplaNum"
   ]
  },
  {
   "cell_type": "code",
   "execution_count": 174,
   "metadata": {},
   "outputs": [
    {
     "data": {
      "text/plain": [
       "(12, 15, 6, 25, -10, 5, 1, 2)"
      ]
     },
     "execution_count": 174,
     "metadata": {},
     "output_type": "execute_result"
    }
   ],
   "source": [
    "tuplaNum = tuplaNum + (1,2)\n",
    "tuplaNum"
   ]
  },
  {
   "cell_type": "markdown",
   "metadata": {
    "colab_type": "text",
    "id": "FEa-2cPiWkPg"
   },
   "source": [
    "Apesar de serem imutáveis, é possível criar uma tupla de listas e mudar os elementos dentro da lista, uma vez que ela é uma estrutura mutável"
   ]
  },
  {
   "cell_type": "code",
   "execution_count": 175,
   "metadata": {
    "colab": {
     "base_uri": "https://localhost:8080/",
     "height": 34
    },
    "colab_type": "code",
    "id": "52v1pc_WPznW",
    "outputId": "c712ca56-724b-475a-e1be-7d4963906f0f"
   },
   "outputs": [
    {
     "data": {
      "text/plain": [
       "([1, 2, 3], ['a', 'b', 'c'], -2.1, 'olá')"
      ]
     },
     "execution_count": 175,
     "metadata": {},
     "output_type": "execute_result"
    }
   ],
   "source": [
    "minha_tupla = ([1,2,3],[\"a\",\"b\",\"c\"],-2.1, \"olá\")\n",
    "minha_tupla"
   ]
  },
  {
   "cell_type": "code",
   "execution_count": 176,
   "metadata": {
    "colab": {
     "base_uri": "https://localhost:8080/",
     "height": 34
    },
    "colab_type": "code",
    "id": "EaTZZqJ7Pznc",
    "outputId": "c1065618-2d26-442d-ae3a-cc52d8f201fb"
   },
   "outputs": [
    {
     "data": {
      "text/plain": [
       "list"
      ]
     },
     "execution_count": 176,
     "metadata": {},
     "output_type": "execute_result"
    }
   ],
   "source": [
    "type(minha_tupla[0])"
   ]
  },
  {
   "cell_type": "markdown",
   "metadata": {
    "colab_type": "text",
    "id": "claGwrytig7R"
   },
   "source": [
    "Se, ainda, a alteração for muito extensa podemos transformar nossa tupla em lista e, então, realizar as alterações"
   ]
  },
  {
   "cell_type": "code",
   "execution_count": 177,
   "metadata": {},
   "outputs": [
    {
     "data": {
      "text/plain": [
       "([1, 2, 3, 4], ['a', 'b', 'c'], -2.1, 'olá')"
      ]
     },
     "execution_count": 177,
     "metadata": {},
     "output_type": "execute_result"
    }
   ],
   "source": [
    "minha_tupla[0].append(4)\n",
    "minha_tupla"
   ]
  },
  {
   "cell_type": "code",
   "execution_count": 178,
   "metadata": {},
   "outputs": [
    {
     "data": {
      "text/plain": [
       "[12, 15, 6, 25, -10, 5, 1, 2]"
      ]
     },
     "execution_count": 178,
     "metadata": {},
     "output_type": "execute_result"
    }
   ],
   "source": [
    "minha_lista = list(tuplaNum)\n",
    "minha_lista"
   ]
  },
  {
   "cell_type": "code",
   "execution_count": 179,
   "metadata": {},
   "outputs": [
    {
     "data": {
      "text/plain": [
       "[12, 15, 6, 25, -10, 5, 1, 2, 55]"
      ]
     },
     "execution_count": 179,
     "metadata": {},
     "output_type": "execute_result"
    }
   ],
   "source": [
    "minha_lista.append(55)\n",
    "minha_lista"
   ]
  },
  {
   "cell_type": "code",
   "execution_count": 180,
   "metadata": {},
   "outputs": [
    {
     "data": {
      "text/plain": [
       "(12, 15, 6, 25, -10, 5, 1, 2, 55)"
      ]
     },
     "execution_count": 180,
     "metadata": {},
     "output_type": "execute_result"
    }
   ],
   "source": [
    "tuplaNum = tuple(minha_lista)\n",
    "tuplaNum"
   ]
  },
  {
   "cell_type": "code",
   "execution_count": null,
   "metadata": {
    "colab": {
     "base_uri": "https://localhost:8080/",
     "height": 34
    },
    "colab_type": "code",
    "id": "8A3EnNBli4Xr",
    "outputId": "6a7b10f6-fba1-411e-d5ca-91942e1edf0b"
   },
   "outputs": [],
   "source": []
  },
  {
   "cell_type": "code",
   "execution_count": null,
   "metadata": {
    "colab": {
     "base_uri": "https://localhost:8080/",
     "height": 34
    },
    "colab_type": "code",
    "id": "T3reez4Ui36a",
    "outputId": "21ab87f9-a3cf-48fa-bf7e-6a66f141202d"
   },
   "outputs": [],
   "source": []
  },
  {
   "cell_type": "markdown",
   "metadata": {
    "colab_type": "text",
    "id": "6c87NcfePzng"
   },
   "source": [
    "#### 5.3 Dicionários"
   ]
  },
  {
   "cell_type": "markdown",
   "metadata": {
    "colab_type": "text",
    "id": "9PyVrKFpkH8u"
   },
   "source": [
    "Outra estrutura de dados muito utilizada é o **Dicionário**. Diferentemente das outras estruturas citadas anteriormente, que são indexadas por inteiros, os dicionários são indexados por chaves _(keys)_, que podem ser qualquer tipo imutável (strings, inteiros, etc).\n"
   ]
  },
  {
   "cell_type": "markdown",
   "metadata": {
    "colab_type": "text",
    "id": "HIqUwtcHhpM5"
   },
   "source": [
    "**Criação**"
   ]
  },
  {
   "cell_type": "markdown",
   "metadata": {
    "colab_type": "text",
    "id": "juH4CLf3qHeu"
   },
   "source": [
    "Os dicionários são delimitados por  **'{ }'**  e contém uma lista de pares chave: valor separados por vírgulas"
   ]
  },
  {
   "cell_type": "code",
   "execution_count": 181,
   "metadata": {
    "colab": {
     "base_uri": "https://localhost:8080/",
     "height": 102
    },
    "colab_type": "code",
    "id": "e5_DYzUyPznh",
    "outputId": "d7431e13-677f-44e8-bdd7-ed5dc814f2f2"
   },
   "outputs": [
    {
     "data": {
      "text/plain": [
       "{'Comercial': 'Maria',\n",
       " 'RH': 'Luiz',\n",
       " 'Financeiro': 'João',\n",
       " 'Adm': 'Luiz',\n",
       " 'Operacional': 'Ana'}"
      ]
     },
     "execution_count": 181,
     "metadata": {},
     "output_type": "execute_result"
    }
   ],
   "source": [
    "dicionarioSetores = {\"Comercial\": \"Maria\", \"RH\": \"Luiz\", \"Financeiro\": \"João\",\"Adm\": \"Luiz\",\n",
    "                    \"Operacional\": \"Ana\"}\n",
    "dicionarioSetores"
   ]
  },
  {
   "cell_type": "code",
   "execution_count": 183,
   "metadata": {
    "colab": {
     "base_uri": "https://localhost:8080/",
     "height": 34
    },
    "colab_type": "code",
    "id": "WvfOOm3_a-ZA",
    "outputId": "70faf4aa-b308-4bb7-906a-6c76515fd7fc"
   },
   "outputs": [
    {
     "data": {
      "text/plain": [
       "{'a': 1, 2: 'b', 2.1: 8.9, 'g': [1, 2, 3]}"
      ]
     },
     "execution_count": 183,
     "metadata": {},
     "output_type": "execute_result"
    }
   ],
   "source": [
    "dicionario2 = {\"a\":1,2:\"b\",2.1:8.9,\"g\":[1,2,3]}\n",
    "dicionario2"
   ]
  },
  {
   "cell_type": "markdown",
   "metadata": {
    "colab_type": "text",
    "id": "zi1cTqDXhsa1"
   },
   "source": [
    "**Acesso**"
   ]
  },
  {
   "cell_type": "markdown",
   "metadata": {
    "colab_type": "text",
    "id": "VpkJ0I1nq9n0"
   },
   "source": [
    "Ao contrário das listas e tuplas, que possuem acesso por índices, os elementos de um dicionário são acessados através de chaves "
   ]
  },
  {
   "cell_type": "code",
   "execution_count": 185,
   "metadata": {
    "colab": {
     "base_uri": "https://localhost:8080/",
     "height": 34
    },
    "colab_type": "code",
    "id": "I9TYzLDWPznk",
    "outputId": "4aa53bd3-236e-4c6c-a0a7-7e942d3e20e6"
   },
   "outputs": [
    {
     "data": {
      "text/plain": [
       "'Luiz'"
      ]
     },
     "execution_count": 185,
     "metadata": {},
     "output_type": "execute_result"
    }
   ],
   "source": [
    "dicionarioSetores[\"RH\"]"
   ]
  },
  {
   "cell_type": "code",
   "execution_count": 186,
   "metadata": {
    "colab": {
     "base_uri": "https://localhost:8080/",
     "height": 34
    },
    "colab_type": "code",
    "id": "T0Xw8Acbsub7",
    "outputId": "7628de5e-36a7-46dc-8005-8c68bb960e93"
   },
   "outputs": [
    {
     "data": {
      "text/plain": [
       "'b'"
      ]
     },
     "execution_count": 186,
     "metadata": {},
     "output_type": "execute_result"
    }
   ],
   "source": [
    "dicionario2[2]"
   ]
  },
  {
   "cell_type": "markdown",
   "metadata": {
    "colab_type": "text",
    "id": "SSAHTo8dh_CO"
   },
   "source": [
    "**Operações**"
   ]
  },
  {
   "cell_type": "markdown",
   "metadata": {
    "colab_type": "text",
    "id": "Qfox66zjstNm"
   },
   "source": [
    "As principais operações que podem ser feitas em um dicionário envolvem armazenar e recuperar valores a partir das chaves. Podemos excluir um valor a partir da operação _del_ e verificar a existência de uma chave com a operação _in_"
   ]
  },
  {
   "cell_type": "code",
   "execution_count": 187,
   "metadata": {
    "colab": {
     "base_uri": "https://localhost:8080/",
     "height": 34
    },
    "colab_type": "code",
    "id": "xb1l8P4rPzno",
    "outputId": "29a6118a-518c-4a19-a6c3-19dc517106b3"
   },
   "outputs": [
    {
     "data": {
      "text/plain": [
       "5"
      ]
     },
     "execution_count": 187,
     "metadata": {},
     "output_type": "execute_result"
    }
   ],
   "source": [
    "dicionarioSetores\n",
    "type(dicionarioSetores)\n",
    "len(dicionarioSetores)"
   ]
  },
  {
   "cell_type": "code",
   "execution_count": 188,
   "metadata": {
    "colab": {
     "base_uri": "https://localhost:8080/",
     "height": 34
    },
    "colab_type": "code",
    "id": "fpYUmTPkt3pz",
    "outputId": "987a172b-1dd7-49ca-d65c-b5927e4be747"
   },
   "outputs": [
    {
     "data": {
      "text/plain": [
       "True"
      ]
     },
     "execution_count": 188,
     "metadata": {},
     "output_type": "execute_result"
    }
   ],
   "source": [
    "\"RH\" in dicionarioSetores"
   ]
  },
  {
   "cell_type": "markdown",
   "metadata": {
    "colab_type": "text",
    "id": "Zelh6aHRt8-3"
   },
   "source": [
    "Observe que a verificação de existência vale apenas para __chaves__ e não para __valores__"
   ]
  },
  {
   "cell_type": "code",
   "execution_count": 189,
   "metadata": {
    "colab": {
     "base_uri": "https://localhost:8080/",
     "height": 119
    },
    "colab_type": "code",
    "id": "nHqxWJT0Pzns",
    "outputId": "135a3085-a475-4a09-ef0e-2630050ecda0"
   },
   "outputs": [
    {
     "data": {
      "text/plain": [
       "False"
      ]
     },
     "execution_count": 189,
     "metadata": {},
     "output_type": "execute_result"
    }
   ],
   "source": [
    "\"Maria\" in dicionarioSetores"
   ]
  },
  {
   "cell_type": "code",
   "execution_count": 190,
   "metadata": {
    "colab": {
     "base_uri": "https://localhost:8080/",
     "height": 85
    },
    "colab_type": "code",
    "id": "ysH_RHxCPzny",
    "outputId": "3fd8d1be-d97d-463a-b6ba-ac5e08bde4b3"
   },
   "outputs": [
    {
     "data": {
      "text/plain": [
       "True"
      ]
     },
     "execution_count": 190,
     "metadata": {},
     "output_type": "execute_result"
    }
   ],
   "source": [
    "\"Executivo\" not in dicionarioSetores"
   ]
  },
  {
   "cell_type": "code",
   "execution_count": 191,
   "metadata": {},
   "outputs": [
    {
     "data": {
      "text/plain": [
       "{'Comercial': 'Maria',\n",
       " 'Financeiro': 'João',\n",
       " 'Adm': 'Luiz',\n",
       " 'Operacional': 'Ana'}"
      ]
     },
     "execution_count": 191,
     "metadata": {},
     "output_type": "execute_result"
    }
   ],
   "source": [
    "del dicionarioSetores[\"RH\"]\n",
    "dicionarioSetores"
   ]
  },
  {
   "cell_type": "code",
   "execution_count": 192,
   "metadata": {},
   "outputs": [
    {
     "data": {
      "text/plain": [
       "dict_keys(['Comercial', 'Financeiro', 'Adm', 'Operacional'])"
      ]
     },
     "execution_count": 192,
     "metadata": {},
     "output_type": "execute_result"
    }
   ],
   "source": [
    "dicionarioSetores.keys()"
   ]
  },
  {
   "cell_type": "code",
   "execution_count": 193,
   "metadata": {},
   "outputs": [
    {
     "data": {
      "text/plain": [
       "dict_values(['Maria', 'João', 'Luiz', 'Ana'])"
      ]
     },
     "execution_count": 193,
     "metadata": {},
     "output_type": "execute_result"
    }
   ],
   "source": [
    "dicionarioSetores.values()"
   ]
  },
  {
   "cell_type": "code",
   "execution_count": 194,
   "metadata": {},
   "outputs": [
    {
     "data": {
      "text/plain": [
       "dict_items([('Comercial', 'Maria'), ('Financeiro', 'João'), ('Adm', 'Luiz'), ('Operacional', 'Ana')])"
      ]
     },
     "execution_count": 194,
     "metadata": {},
     "output_type": "execute_result"
    }
   ],
   "source": [
    "dicionarioSetores.items()"
   ]
  },
  {
   "cell_type": "markdown",
   "metadata": {
    "colab_type": "text",
    "id": "-6pYbhV7cRHR"
   },
   "source": [
    "#### 5.4 Conjuntos"
   ]
  },
  {
   "cell_type": "markdown",
   "metadata": {
    "colab_type": "text",
    "id": "8EE8fOY-u6Pn"
   },
   "source": [
    "Por último, o Python também apresenta uma estrutura chamada __set__, usada para representação de conjuntos. É uma estrutura desordenada e sem repetição de elementos. "
   ]
  },
  {
   "cell_type": "markdown",
   "metadata": {
    "colab_type": "text",
    "id": "cNOynWB6uQvU"
   },
   "source": [
    "__Criação__"
   ]
  },
  {
   "cell_type": "markdown",
   "metadata": {
    "colab_type": "text",
    "id": "Xn2lgnf9vOLR"
   },
   "source": [
    "Para criá-los podemos usar apenas __'{ }'__ ou chamar o construtor __set()__"
   ]
  },
  {
   "cell_type": "code",
   "execution_count": 195,
   "metadata": {
    "colab": {
     "base_uri": "https://localhost:8080/",
     "height": 34
    },
    "colab_type": "code",
    "id": "TGdN1tgHbRUf",
    "outputId": "e5d750d6-0918-4b88-dcc6-b5f4e4ae7361"
   },
   "outputs": [
    {
     "data": {
      "text/plain": [
       "{'banana', 'maça', 'mexerica', 'morango', 'uva'}"
      ]
     },
     "execution_count": 195,
     "metadata": {},
     "output_type": "execute_result"
    }
   ],
   "source": [
    "frutas = {\"banana\",\"maça\", \"mexerica\", \"morango\",\"morango\",\"banana\",\"uva\",\"uva\"}\n",
    "frutas"
   ]
  },
  {
   "cell_type": "code",
   "execution_count": 198,
   "metadata": {
    "colab": {
     "base_uri": "https://localhost:8080/",
     "height": 34
    },
    "colab_type": "code",
    "id": "Lkn00pLhcIwa",
    "outputId": "a79bb958-f81a-4bbf-8358-cd47ff4ef0a1"
   },
   "outputs": [
    {
     "data": {
      "text/plain": [
       "[1, 1, 1, 2, 2, 2, 1, 1, 1, 3, 3, 3, 4, 4, 43, 4, 3, 5, 5]"
      ]
     },
     "execution_count": 198,
     "metadata": {},
     "output_type": "execute_result"
    }
   ],
   "source": [
    "lista = [1,1,1,2,2,2,1,1,1,3,3,3,4,4,43,4,3,5,5]\n",
    "lista"
   ]
  },
  {
   "cell_type": "code",
   "execution_count": 200,
   "metadata": {},
   "outputs": [
    {
     "data": {
      "text/plain": [
       "{1, 2, 3, 4, 5, 43}"
      ]
     },
     "execution_count": 200,
     "metadata": {},
     "output_type": "execute_result"
    }
   ],
   "source": [
    "set_lista = set(lista)\n",
    "set_lista"
   ]
  },
  {
   "cell_type": "code",
   "execution_count": 201,
   "metadata": {},
   "outputs": [
    {
     "ename": "TypeError",
     "evalue": "'set' object is not subscriptable",
     "output_type": "error",
     "traceback": [
      "\u001b[1;31m---------------------------------------------------------------------------\u001b[0m",
      "\u001b[1;31mTypeError\u001b[0m                                 Traceback (most recent call last)",
      "\u001b[1;32m<ipython-input-201-077f8913b514>\u001b[0m in \u001b[0;36m<module>\u001b[1;34m\u001b[0m\n\u001b[1;32m----> 1\u001b[1;33m \u001b[0mset_lista\u001b[0m\u001b[1;33m[\u001b[0m\u001b[1;36m0\u001b[0m\u001b[1;33m]\u001b[0m\u001b[1;33m\u001b[0m\u001b[1;33m\u001b[0m\u001b[0m\n\u001b[0m",
      "\u001b[1;31mTypeError\u001b[0m: 'set' object is not subscriptable"
     ]
    }
   ],
   "source": [
    "set_lista[0]"
   ]
  },
  {
   "cell_type": "markdown",
   "metadata": {
    "colab_type": "text",
    "id": "WWheVi0MuYBT"
   },
   "source": [
    "__Operações__"
   ]
  },
  {
   "cell_type": "markdown",
   "metadata": {
    "colab_type": "text",
    "id": "158xKpXIwWFo"
   },
   "source": [
    "Assim como nos dicionários, podemos verificar a existência de um elemento no conjunto. Porém não é possível deletar nenhum elemento"
   ]
  },
  {
   "cell_type": "code",
   "execution_count": 202,
   "metadata": {
    "colab": {
     "base_uri": "https://localhost:8080/",
     "height": 34
    },
    "colab_type": "code",
    "id": "VqrrEStSwnb1",
    "outputId": "0429850a-3220-4429-9851-10a51924a426"
   },
   "outputs": [
    {
     "data": {
      "text/plain": [
       "True"
      ]
     },
     "execution_count": 202,
     "metadata": {},
     "output_type": "execute_result"
    }
   ],
   "source": [
    "\"banana\" in  frutas"
   ]
  },
  {
   "cell_type": "code",
   "execution_count": 203,
   "metadata": {
    "colab": {
     "base_uri": "https://localhost:8080/",
     "height": 163
    },
    "colab_type": "code",
    "id": "p-Ybq2kEw6Nb",
    "outputId": "43c706ed-1f08-4773-b41f-3326b8326e16"
   },
   "outputs": [
    {
     "data": {
      "text/plain": [
       "True"
      ]
     },
     "execution_count": 203,
     "metadata": {},
     "output_type": "execute_result"
    }
   ],
   "source": [
    "\"abacaxi\" not in frutas"
   ]
  },
  {
   "cell_type": "markdown",
   "metadata": {
    "colab_type": "text",
    "id": "wziiRLyFw9_8"
   },
   "source": [
    "Os conjuntos também suportam operações matemáticas como união, interseção, diferença e diferença simétrica."
   ]
  },
  {
   "cell_type": "code",
   "execution_count": 204,
   "metadata": {
    "colab": {},
    "colab_type": "code",
    "id": "6unBjWiFyDe9"
   },
   "outputs": [
    {
     "name": "stdout",
     "output_type": "stream",
     "text": [
      "{1, 2, 3, 4, 5} {1, 2, 7, 8, 9, 10, 11}\n"
     ]
    }
   ],
   "source": [
    "a = {1,2,3,4,5}\n",
    "b = {1,7,2,8,10,9,11}\n",
    "print(a,b)"
   ]
  },
  {
   "cell_type": "markdown",
   "metadata": {
    "colab_type": "text",
    "id": "f5yZHZwgxh0-"
   },
   "source": [
    "_União_"
   ]
  },
  {
   "cell_type": "code",
   "execution_count": 205,
   "metadata": {
    "colab": {
     "base_uri": "https://localhost:8080/",
     "height": 34
    },
    "colab_type": "code",
    "id": "SmnDBoVKxs4d",
    "outputId": "aab2177f-e461-400d-ef23-15af2337cb4e"
   },
   "outputs": [
    {
     "data": {
      "text/plain": [
       "{1, 2, 3, 4, 5, 7, 8, 9, 10, 11}"
      ]
     },
     "execution_count": 205,
     "metadata": {},
     "output_type": "execute_result"
    }
   ],
   "source": [
    "a.union(b)"
   ]
  },
  {
   "cell_type": "markdown",
   "metadata": {
    "colab_type": "text",
    "id": "UAnTOIfVxkhF"
   },
   "source": [
    "_Interseção_"
   ]
  },
  {
   "cell_type": "code",
   "execution_count": 206,
   "metadata": {
    "colab": {
     "base_uri": "https://localhost:8080/",
     "height": 34
    },
    "colab_type": "code",
    "id": "WfFBl2qBxtk6",
    "outputId": "29fcc9f0-8b72-4d16-de70-6ee7c1c06592"
   },
   "outputs": [
    {
     "data": {
      "text/plain": [
       "{1, 2}"
      ]
     },
     "execution_count": 206,
     "metadata": {},
     "output_type": "execute_result"
    }
   ],
   "source": [
    "a.intersection(b)"
   ]
  },
  {
   "cell_type": "markdown",
   "metadata": {
    "colab_type": "text",
    "id": "AfVPh-ePxkNT"
   },
   "source": [
    "_Diferença_"
   ]
  },
  {
   "cell_type": "code",
   "execution_count": 210,
   "metadata": {
    "colab": {
     "base_uri": "https://localhost:8080/",
     "height": 34
    },
    "colab_type": "code",
    "id": "UB2tUThgxuac",
    "outputId": "fb5756bc-4db9-4af9-809e-c0ed9029ed48"
   },
   "outputs": [
    {
     "name": "stdout",
     "output_type": "stream",
     "text": [
      "{3, 4, 5} {7, 8, 9, 10, 11}\n"
     ]
    }
   ],
   "source": [
    "df1 = a.difference(b)\n",
    "df2 = b.difference(a)\n",
    "\n",
    "print(df1,df2)"
   ]
  },
  {
   "cell_type": "markdown",
   "metadata": {
    "colab_type": "text",
    "id": "5kv5s60gxj9J"
   },
   "source": [
    "_Diferença simétrica_"
   ]
  },
  {
   "cell_type": "code",
   "execution_count": 208,
   "metadata": {
    "colab": {
     "base_uri": "https://localhost:8080/",
     "height": 34
    },
    "colab_type": "code",
    "id": "xxeteJNKxvLU",
    "outputId": "cdec0f9c-e1ce-4ecf-dcc7-ac4b7f3668ff"
   },
   "outputs": [
    {
     "data": {
      "text/plain": [
       "{3, 4, 5, 7, 8, 9, 10, 11}"
      ]
     },
     "execution_count": 208,
     "metadata": {},
     "output_type": "execute_result"
    }
   ],
   "source": [
    "a.symmetric_difference(b)"
   ]
  },
  {
   "cell_type": "code",
   "execution_count": 211,
   "metadata": {},
   "outputs": [
    {
     "data": {
      "text/plain": [
       "{0, 1, 2, 3, 4, 5, 43}"
      ]
     },
     "execution_count": 211,
     "metadata": {},
     "output_type": "execute_result"
    }
   ],
   "source": [
    "lista\n",
    "set_lista = set(lista)\n",
    "lista2 = list(set_lista)\n",
    "lista2.append(0)\n",
    "set_lista2 = set(lista2)\n",
    "set_lista2"
   ]
  },
  {
   "cell_type": "code",
   "execution_count": null,
   "metadata": {},
   "outputs": [],
   "source": []
  },
  {
   "cell_type": "code",
   "execution_count": null,
   "metadata": {},
   "outputs": [],
   "source": []
  },
  {
   "cell_type": "markdown",
   "metadata": {
    "colab_type": "text",
    "id": "ay2F30wEPzn1"
   },
   "source": [
    "## 6. Estruturas de repetição"
   ]
  },
  {
   "cell_type": "markdown",
   "metadata": {
    "colab_type": "text",
    "id": "mmzdPevG0gsR"
   },
   "source": [
    "Em alguma situações é preciso que um mesmo conjunto de instruções precise ser executado várias vezes em um mesmo código. Para isso, existem as estruturas de repetição (loops)"
   ]
  },
  {
   "cell_type": "markdown",
   "metadata": {
    "colab_type": "text",
    "id": "564uVudfPzn4"
   },
   "source": [
    "#### 6.1 Instrução For"
   ]
  },
  {
   "cell_type": "markdown",
   "metadata": {
    "colab_type": "text",
    "id": "7X4sA4d81Rho"
   },
   "source": [
    "Em Python, a estrutura For funciona diferente de outras linguagens. Aqui ela itera sobre itens de qualquer sequência "
   ]
  },
  {
   "cell_type": "code",
   "execution_count": 2,
   "metadata": {
    "colab": {
     "base_uri": "https://localhost:8080/",
     "height": 102
    },
    "colab_type": "code",
    "id": "iLGR3QqsPzn5",
    "outputId": "f972f53c-eb3f-41d4-d957-d05667577f09"
   },
   "outputs": [
    {
     "name": "stdout",
     "output_type": "stream",
     "text": [
      "Comercial\n",
      "RH\n",
      "financeiro\n",
      "adm\n",
      "operacional\n"
     ]
    }
   ],
   "source": [
    "listaSetores = [\"Comercial\",\"RH\",\"financeiro\",\"adm\", \"operacional\"]\n",
    "\n",
    "for setores in listaSetores:\n",
    "    print(setores)"
   ]
  },
  {
   "cell_type": "code",
   "execution_count": 3,
   "metadata": {
    "colab": {
     "base_uri": "https://localhost:8080/",
     "height": 102
    },
    "colab_type": "code",
    "id": "PalpaASwPzn-",
    "outputId": "0d6ffaed-5bc6-46f3-d6ec-5d57c7e9c918"
   },
   "outputs": [
    {
     "name": "stdout",
     "output_type": "stream",
     "text": [
      "M\n",
      "A\n",
      "R\n",
      "I\n",
      "A\n"
     ]
    }
   ],
   "source": [
    "nome= \"MARIA\"\n",
    "for n in nome:\n",
    "    print(n)"
   ]
  },
  {
   "cell_type": "code",
   "execution_count": null,
   "metadata": {},
   "outputs": [],
   "source": []
  },
  {
   "cell_type": "markdown",
   "metadata": {
    "colab_type": "text",
    "id": "4iWtQggTPzod"
   },
   "source": [
    "#### 6.2 Função range"
   ]
  },
  {
   "cell_type": "markdown",
   "metadata": {
    "colab_type": "text",
    "id": "n3r3akFCGuqV"
   },
   "source": [
    "Quando precisamos iterar sobre sequência numéricas a função nativa __range()__ é muito utilizada. Essa função cria uma lista numérica de acordo com o que é informado."
   ]
  },
  {
   "cell_type": "code",
   "execution_count": 5,
   "metadata": {
    "colab": {
     "base_uri": "https://localhost:8080/",
     "height": 34
    },
    "colab_type": "code",
    "id": "b8gXKtIWI99E",
    "outputId": "e7a7e3c1-fdd0-4536-f128-b91c6e1402d6"
   },
   "outputs": [
    {
     "data": {
      "text/plain": [
       "[0, 1, 2, 3, 4]"
      ]
     },
     "execution_count": 5,
     "metadata": {},
     "output_type": "execute_result"
    }
   ],
   "source": [
    "list(range(5))"
   ]
  },
  {
   "cell_type": "markdown",
   "metadata": {
    "colab_type": "text",
    "id": "aTx8GBvCJPGL"
   },
   "source": [
    "Podemos mudar o início da criação dessa lista. Ao invés dela começar no 0, podemos fazer com que comece no 1"
   ]
  },
  {
   "cell_type": "code",
   "execution_count": 7,
   "metadata": {
    "colab": {
     "base_uri": "https://localhost:8080/",
     "height": 34
    },
    "colab_type": "code",
    "id": "NlLn_2wuJYGP",
    "outputId": "24a53e9f-22d3-401d-eca7-a95d709eedfb"
   },
   "outputs": [
    {
     "data": {
      "text/plain": [
       "[2, 3, 4]"
      ]
     },
     "execution_count": 7,
     "metadata": {},
     "output_type": "execute_result"
    }
   ],
   "source": [
    "a= range(2,5)\n",
    "list(a)"
   ]
  },
  {
   "cell_type": "markdown",
   "metadata": {
    "colab_type": "text",
    "id": "6wHsugmrJ3qO"
   },
   "source": [
    "Além disso, também é possível criar listas com 'pulos'"
   ]
  },
  {
   "cell_type": "code",
   "execution_count": 8,
   "metadata": {
    "colab": {
     "base_uri": "https://localhost:8080/",
     "height": 34
    },
    "colab_type": "code",
    "id": "f-t531VXKqhT",
    "outputId": "58a05c55-1138-4023-b44b-7dfb277aadc1"
   },
   "outputs": [
    {
     "data": {
      "text/plain": [
       "[10, 12, 14, 16, 18]"
      ]
     },
     "execution_count": 8,
     "metadata": {},
     "output_type": "execute_result"
    }
   ],
   "source": [
    "b=range(10,20,2)\n",
    "list(b)"
   ]
  },
  {
   "cell_type": "markdown",
   "metadata": {
    "colab_type": "text",
    "id": "rKEIg7plMACM"
   },
   "source": [
    "**For + Range**"
   ]
  },
  {
   "cell_type": "code",
   "execution_count": 10,
   "metadata": {
    "colab": {
     "base_uri": "https://localhost:8080/",
     "height": 102
    },
    "colab_type": "code",
    "id": "vpcuE0QJG-p0",
    "outputId": "9f2a21c0-ff5f-4d43-f2d4-d3c9d890d62a"
   },
   "outputs": [
    {
     "name": "stdout",
     "output_type": "stream",
     "text": [
      "0\n",
      "1\n",
      "2\n",
      "3\n",
      "4\n"
     ]
    }
   ],
   "source": [
    "for i in range(5):\n",
    "    print(i)"
   ]
  },
  {
   "cell_type": "code",
   "execution_count": 14,
   "metadata": {
    "colab": {
     "base_uri": "https://localhost:8080/",
     "height": 187
    },
    "colab_type": "code",
    "id": "D-U4sYCwHSvX",
    "outputId": "dc54606a-f025-4713-e179-e1e171dbc0d6"
   },
   "outputs": [
    {
     "name": "stdout",
     "output_type": "stream",
     "text": [
      "2\n",
      "3\n",
      "4\n",
      "5\n",
      "6\n",
      "[2, 4, 6]\n",
      "[3, 5]\n"
     ]
    }
   ],
   "source": [
    "par =[]\n",
    "impar=[]\n",
    "for i in range(2,7):\n",
    "    if ((i%2) == 0):\n",
    "        par.append(i)\n",
    "    else:\n",
    "        impar.append(i)\n",
    "    print(i)\n",
    "print(par)\n",
    "print(impar)"
   ]
  },
  {
   "cell_type": "code",
   "execution_count": 16,
   "metadata": {
    "colab": {
     "base_uri": "https://localhost:8080/",
     "height": 187
    },
    "colab_type": "code",
    "id": "jVftuYwoPzod",
    "outputId": "2bfc576e-5d2c-47bb-d3ef-44f41e075bd4"
   },
   "outputs": [
    {
     "name": "stdout",
     "output_type": "stream",
     "text": [
      "0\n",
      "5\n",
      "10\n",
      "15\n",
      "20\n",
      "25\n",
      "30\n",
      "35\n",
      "40\n",
      "45\n",
      "50\n",
      "55\n",
      "60\n",
      "65\n",
      "70\n",
      "75\n",
      "80\n",
      "85\n",
      "90\n",
      "95\n",
      "19.0\n"
     ]
    }
   ],
   "source": [
    "for i in range(0,100,5):\n",
    "    a = i/5\n",
    "    print(i)\n",
    "print(a)"
   ]
  },
  {
   "cell_type": "code",
   "execution_count": 17,
   "metadata": {
    "colab": {
     "base_uri": "https://localhost:8080/",
     "height": 102
    },
    "colab_type": "code",
    "id": "XhyVPpbxR0zV",
    "outputId": "824899dc-86e5-4c41-fad9-9e3e032705af"
   },
   "outputs": [
    {
     "name": "stdout",
     "output_type": "stream",
     "text": [
      "Comercial\n",
      "RH\n",
      "financeiro\n",
      "adm\n",
      "operacional\n"
     ]
    }
   ],
   "source": [
    "for i in range(len(listaSetores)):\n",
    "    print(listaSetores[i])"
   ]
  },
  {
   "cell_type": "markdown",
   "metadata": {
    "colab_type": "text",
    "id": "Pm87qCGXF_R2"
   },
   "source": [
    "**Enumerate**"
   ]
  },
  {
   "cell_type": "markdown",
   "metadata": {
    "colab_type": "text",
    "id": "xdR_reLxOPLK"
   },
   "source": [
    "Em algumas situações precisamos enumerar os itens de uma lista. A função **enumerate()** adiciona um contador ao lado do item com o intuiuto de **numerar** o objeto"
   ]
  },
  {
   "cell_type": "code",
   "execution_count": 20,
   "metadata": {
    "colab": {
     "base_uri": "https://localhost:8080/",
     "height": 102
    },
    "colab_type": "code",
    "id": "w4XRC1OkOQUs",
    "outputId": "05d8f432-98a1-4389-87df-01c42238c38d"
   },
   "outputs": [
    {
     "data": {
      "text/plain": [
       "[(0, 'Comercial'),\n",
       " (1, 'RH'),\n",
       " (2, 'financeiro'),\n",
       " (3, 'adm'),\n",
       " (4, 'operacional')]"
      ]
     },
     "execution_count": 20,
     "metadata": {},
     "output_type": "execute_result"
    }
   ],
   "source": [
    "list(enumerate(listaSetores))"
   ]
  },
  {
   "cell_type": "code",
   "execution_count": 22,
   "metadata": {
    "colab": {
     "base_uri": "https://localhost:8080/",
     "height": 34
    },
    "colab_type": "code",
    "id": "LuVV5O9clKx1",
    "outputId": "b8062717-e416-4914-d834-409c2b4ec148"
   },
   "outputs": [
    {
     "name": "stdout",
     "output_type": "stream",
     "text": [
      "financeiro\n"
     ]
    }
   ],
   "source": [
    "for a,b in enumerate(listaSetores):\n",
    "    if (a==2):\n",
    "        print(b)"
   ]
  },
  {
   "cell_type": "markdown",
   "metadata": {
    "colab_type": "text",
    "id": "U3S1gA7RPzoJ"
   },
   "source": [
    "#### 6.3 While"
   ]
  },
  {
   "cell_type": "markdown",
   "metadata": {
    "colab_type": "text",
    "id": "uKm5McNpP-WV"
   },
   "source": [
    "A estrutura de repetição **While** executa um certo bloco de códigos enquanto uma condição for __verdadeira__. Para isso, normalmente é feita uma inicialização da variável que passará pela condição e determinará o fim do while"
   ]
  },
  {
   "cell_type": "code",
   "execution_count": 24,
   "metadata": {
    "colab": {
     "base_uri": "https://localhost:8080/",
     "height": 102
    },
    "colab_type": "code",
    "id": "-7byFkPBPzoN",
    "outputId": "8531ae2f-2e92-4493-85ce-ec2ab2271725"
   },
   "outputs": [
    {
     "name": "stdout",
     "output_type": "stream",
     "text": [
      "0\n",
      "10\n",
      "20\n",
      "30\n",
      "40\n",
      "50\n",
      "60\n",
      "70\n",
      "80\n",
      "90\n"
     ]
    }
   ],
   "source": [
    "i = 0\n",
    "\n",
    "while(i < 100):\n",
    "    print(i)\n",
    "    i = i+10"
   ]
  },
  {
   "cell_type": "code",
   "execution_count": 25,
   "metadata": {},
   "outputs": [
    {
     "name": "stdout",
     "output_type": "stream",
     "text": [
      "Comercial\n",
      "RH\n",
      "financeiro\n",
      "adm\n",
      "operacional\n"
     ]
    }
   ],
   "source": [
    "i=0\n",
    "\n",
    "while(i<len(listaSetores)):\n",
    "    print(listaSetores[i])\n",
    "    i += 1"
   ]
  },
  {
   "cell_type": "markdown",
   "metadata": {
    "colab_type": "text",
    "id": "DBqV7sdDXfCt"
   },
   "source": [
    "Um detalhe muito importante ao usar o while é a parte da atualização da variável que ficará na condição dele. Caso essa variável não seja atualizada é possível criar um **loop infinito** "
   ]
  },
  {
   "cell_type": "code",
   "execution_count": null,
   "metadata": {
    "colab": {},
    "colab_type": "code",
    "id": "1uu_9IExYFyw"
   },
   "outputs": [],
   "source": []
  },
  {
   "cell_type": "markdown",
   "metadata": {
    "colab_type": "text",
    "id": "0z2Ld1yPPzoQ"
   },
   "source": [
    "#### 6.4 Interrupção de loops\n"
   ]
  },
  {
   "cell_type": "markdown",
   "metadata": {
    "colab_type": "text",
    "id": "4r97C-dJUuqe"
   },
   "source": [
    "**Break**"
   ]
  },
  {
   "cell_type": "markdown",
   "metadata": {
    "colab_type": "text",
    "id": "9sTemvw1Zwk6"
   },
   "source": [
    "A instrução break termina com a interação do loop e passa para as linhas de código que existem, ou não, depois do for ou do while"
   ]
  },
  {
   "cell_type": "code",
   "execution_count": 26,
   "metadata": {
    "colab": {
     "base_uri": "https://localhost:8080/",
     "height": 102
    },
    "colab_type": "code",
    "id": "YQ2FjbDHPzoQ",
    "outputId": "51d4dc7c-6251-436d-c45d-ab29073cb667"
   },
   "outputs": [
    {
     "name": "stdout",
     "output_type": "stream",
     "text": [
      "Comercial antes do if\n",
      "Comercial depois do if\n",
      "RH antes do if\n",
      "RH depois do if\n",
      "financeiro antes do if\n"
     ]
    }
   ],
   "source": [
    "for setor in listaSetores:\n",
    "    print(setor, \"antes do if\")\n",
    "    if setor == \"financeiro\":\n",
    "        break\n",
    "    print(setor,\"depois do if\")"
   ]
  },
  {
   "cell_type": "code",
   "execution_count": 27,
   "metadata": {
    "colab": {
     "base_uri": "https://localhost:8080/",
     "height": 104
    },
    "colab_type": "code",
    "id": "GZlS3r6nWqgW",
    "outputId": "ab3fe021-d077-43a5-c64d-6023d7bc3211"
   },
   "outputs": [
    {
     "name": "stdout",
     "output_type": "stream",
     "text": [
      "Comercial antes do if\n",
      "Comercial depois do if\n",
      "RH antes do if\n",
      "RH depois do if\n",
      "financeiro antes do if\n"
     ]
    }
   ],
   "source": [
    "i =0\n",
    "while i <len(listaSetores):\n",
    "    print(listaSetores[i], \"antes do if\")\n",
    "    if listaSetores[i] == \"financeiro\":\n",
    "        break\n",
    "    print(listaSetores[i],\"depois do if\")\n",
    "    \n",
    "    i = i+1"
   ]
  },
  {
   "cell_type": "markdown",
   "metadata": {
    "colab_type": "text",
    "id": "bsVKAS8eaYmq"
   },
   "source": [
    "É possível também usar o break para quebrarmos loops infinitos"
   ]
  },
  {
   "cell_type": "code",
   "execution_count": 28,
   "metadata": {
    "colab": {
     "base_uri": "https://localhost:8080/",
     "height": 104
    },
    "colab_type": "code",
    "id": "SZbc7hjKnAXc",
    "outputId": "5706cf46-4202-491c-fd3f-fb8171bcf498"
   },
   "outputs": [
    {
     "name": "stdout",
     "output_type": "stream",
     "text": [
      "r\n",
      "r\n",
      "r\n",
      "r\n",
      "r\n"
     ]
    }
   ],
   "source": [
    "i = 0\n",
    "while True:\n",
    "    print(\"r\")\n",
    "    i += 1\n",
    "    \n",
    "    if(i==5):\n",
    "        break"
   ]
  },
  {
   "cell_type": "markdown",
   "metadata": {
    "colab_type": "text",
    "id": "68rj-athWuIZ"
   },
   "source": [
    "**Continue**"
   ]
  },
  {
   "cell_type": "markdown",
   "metadata": {
    "colab_type": "text",
    "id": "QODmXCi4ajER"
   },
   "source": [
    "A instrução **continue** interrompe a execução do ciclo de repetição sem interromper a execução do laço de repetição, ao contrário do break, que interrompe todo o laço."
   ]
  },
  {
   "cell_type": "code",
   "execution_count": 32,
   "metadata": {
    "colab": {
     "base_uri": "https://localhost:8080/",
     "height": 208
    },
    "colab_type": "code",
    "id": "yCKnW2UubTfT",
    "outputId": "1841112a-b5fd-477b-e485-bd50d8c3ff92"
   },
   "outputs": [
    {
     "name": "stdout",
     "output_type": "stream",
     "text": [
      "1 antes do if\n",
      "1 depois do if\n",
      "2 antes do if\n",
      "2 depois do if\n",
      "3 antes do if\n",
      "3 depois do if\n",
      "4 antes do if\n",
      "\n",
      "\n",
      "5 antes do if\n",
      "5 depois do if\n",
      "6 antes do if\n",
      "6 depois do if\n",
      "7 antes do if\n",
      "7 depois do if\n"
     ]
    }
   ],
   "source": [
    "x = 0\n",
    "\n",
    "while(x<=6):\n",
    "    x = x+1\n",
    "    \n",
    "    print(x,\"antes do if\")\n",
    "    if (x==4):\n",
    "        print(\"\\n\")\n",
    "        continue\n",
    "    print(x,\"depois do if\")\n",
    "    \n",
    "    "
   ]
  },
  {
   "cell_type": "code",
   "execution_count": 33,
   "metadata": {
    "colab": {
     "base_uri": "https://localhost:8080/",
     "height": 85
    },
    "colab_type": "code",
    "id": "19K9sfAZPzoU",
    "outputId": "93a1a67a-f9f9-4080-8185-b42858624f6f"
   },
   "outputs": [
    {
     "name": "stdout",
     "output_type": "stream",
     "text": [
      "M\n",
      "a\n",
      "r\n",
      "a\n"
     ]
    }
   ],
   "source": [
    "nome = \"Maria\"\n",
    "for n in nome:\n",
    "    if n== \"i\":\n",
    "        continue\n",
    "    print(n)"
   ]
  },
  {
   "cell_type": "markdown",
   "metadata": {
    "colab_type": "text",
    "id": "Cp9IAGlnWvL4"
   },
   "source": [
    "**Pass**"
   ]
  },
  {
   "cell_type": "markdown",
   "metadata": {
    "colab_type": "text",
    "id": "AHv97eE5byzG"
   },
   "source": [
    "O **pass** é uma operação nula. Quando ela é chamada nada acontece. É útil quando uma instrução é necessária sintaticamente, mas nenhum código precisa ser executado."
   ]
  },
  {
   "cell_type": "code",
   "execution_count": 35,
   "metadata": {
    "colab": {},
    "colab_type": "code",
    "id": "BET2bjyadxVJ"
   },
   "outputs": [
    {
     "data": {
      "text/plain": [
       "'b'"
      ]
     },
     "execution_count": 35,
     "metadata": {},
     "output_type": "execute_result"
    }
   ],
   "source": [
    "seq = {'a','a','b','b'}\n",
    "for i in seq:\n",
    "    pass\n",
    "\n",
    "i"
   ]
  },
  {
   "cell_type": "markdown",
   "metadata": {
    "colab_type": "text",
    "id": "zlyoqKdsenVw"
   },
   "source": [
    "Observe que o código acima não executa nada e o pass serve apenas de _placeholder_"
   ]
  },
  {
   "cell_type": "markdown",
   "metadata": {
    "colab_type": "text",
    "id": "eqy1zYLOkZz6"
   },
   "source": [
    "#### 6.5 List Comprehension"
   ]
  },
  {
   "cell_type": "markdown",
   "metadata": {
    "colab_type": "text",
    "id": "Vgmymb00fFUI"
   },
   "source": [
    "O **list comprehension** fornece uma maneira sucinta de criar listas. Uma aplicação comum é quando queremos criar novas listas em que cada elemento é o resultado de alguma operação aplicada a cada elemento de uma outra lista."
   ]
  },
  {
   "cell_type": "markdown",
   "metadata": {
    "colab_type": "text",
    "id": "xrgBb_UWHPfV"
   },
   "source": [
    "Vamos criar uma lista contendo os valores quadráticos de 0 a 9\n",
    "\n",
    "Resultado: [0x0, 1x1, 2x2, ..., 9x9] = [0, 1, 4, 9, 16, 25, 36, 49, 64, 81]\n"
   ]
  },
  {
   "cell_type": "code",
   "execution_count": 36,
   "metadata": {
    "colab": {
     "base_uri": "https://localhost:8080/",
     "height": 34
    },
    "colab_type": "code",
    "id": "gABEn6TFfF3L",
    "outputId": "1dd4883d-376d-4a3f-c57c-c38c914c6a5d"
   },
   "outputs": [
    {
     "data": {
      "text/plain": [
       "[0, 1, 4, 9, 16, 25, 36, 49, 64, 81]"
      ]
     },
     "execution_count": 36,
     "metadata": {},
     "output_type": "execute_result"
    }
   ],
   "source": [
    "quadrados =[]\n",
    "\n",
    "for x in range(10):\n",
    "    quadrados.append(x**2)\n",
    "    \n",
    "quadrados"
   ]
  },
  {
   "cell_type": "code",
   "execution_count": 37,
   "metadata": {
    "colab": {
     "base_uri": "https://localhost:8080/",
     "height": 34
    },
    "colab_type": "code",
    "id": "5QvBM3wrG4Bv",
    "outputId": "361ae5fc-f334-485f-cf17-17e9f8cf3272"
   },
   "outputs": [
    {
     "data": {
      "text/plain": [
       "[0, 1, 4, 9, 16, 25, 36, 49, 64, 81]"
      ]
     },
     "execution_count": 37,
     "metadata": {},
     "output_type": "execute_result"
    }
   ],
   "source": [
    "quadrados = [x**2 for x in range(10)]\n",
    "quadrados"
   ]
  },
  {
   "cell_type": "markdown",
   "metadata": {
    "colab_type": "text",
    "id": "J7PcJ98uIKbY"
   },
   "source": [
    "E se a nossa lista só pudesse conter os valores quadráticos dos valores pares de 0 a 9? \n",
    "\n",
    "Resultado: [0x0, 2x2, 4x4, ..., 8x8] = [0, 4, 16, 36, 64]\n"
   ]
  },
  {
   "cell_type": "code",
   "execution_count": 39,
   "metadata": {
    "colab": {
     "base_uri": "https://localhost:8080/",
     "height": 34
    },
    "colab_type": "code",
    "id": "_PaVvhZmItA8",
    "outputId": "a68dc109-3ff4-43e5-c84f-a704a4d192d7"
   },
   "outputs": [
    {
     "data": {
      "text/plain": [
       "[0, 4, 16, 36, 64]"
      ]
     },
     "execution_count": 39,
     "metadata": {},
     "output_type": "execute_result"
    }
   ],
   "source": [
    "quadrados2 =[]\n",
    "\n",
    "for x in range(10):\n",
    "    if (x%2 ==0):\n",
    "        quadrados2.append(x**2)\n",
    "    \n",
    "quadrados2"
   ]
  },
  {
   "cell_type": "code",
   "execution_count": 41,
   "metadata": {
    "colab": {
     "base_uri": "https://localhost:8080/",
     "height": 34
    },
    "colab_type": "code",
    "id": "tV1YtRBaItf_",
    "outputId": "a11f040b-e843-40f8-88b7-86d129453c62"
   },
   "outputs": [
    {
     "data": {
      "text/plain": [
       "[0, 4, 16, 36, 64]"
      ]
     },
     "execution_count": 41,
     "metadata": {},
     "output_type": "execute_result"
    }
   ],
   "source": [
    "quadrados2 = [x**2 for x in range(10) if x%2 == 0]\n",
    "quadrados2"
   ]
  },
  {
   "cell_type": "markdown",
   "metadata": {
    "colab_type": "text",
    "id": "I9hNN-UbPzoh"
   },
   "source": [
    "## 7. Funções"
   ]
  },
  {
   "cell_type": "markdown",
   "metadata": {
    "colab_type": "text",
    "id": "2kkLamT7KK43"
   },
   "source": [
    "Podemos definir **função**, em programação, como uma sequência de comandos que executa uma determinada tarefa e que possui um nome. Assim como na questão das variáveis, você pode criar qualquer nome para a função, menos as palavras reservadas e sem caracteres especiais"
   ]
  },
  {
   "cell_type": "markdown",
   "metadata": {
    "colab_type": "text",
    "id": "NcZLuV_Pl_dJ"
   },
   "source": [
    "Fazer os exemplos dizendo olá, o do circulo e passando uma lista como parâmetro"
   ]
  },
  {
   "cell_type": "markdown",
   "metadata": {
    "colab_type": "text",
    "id": "PCy3YBp9oCHd"
   },
   "source": [
    "#### 7.1 Funções"
   ]
  },
  {
   "cell_type": "code",
   "execution_count": 42,
   "metadata": {
    "colab": {},
    "colab_type": "code",
    "id": "DZR1ez4uh0TY"
   },
   "outputs": [],
   "source": [
    "def minha_funcao():\n",
    "    print(\"Olá\")"
   ]
  },
  {
   "cell_type": "code",
   "execution_count": 43,
   "metadata": {
    "colab": {
     "base_uri": "https://localhost:8080/",
     "height": 34
    },
    "colab_type": "code",
    "id": "K1MIdLSwPdR3",
    "outputId": "98d98a94-b45c-417a-de7b-e1a1b2e743f0"
   },
   "outputs": [
    {
     "name": "stdout",
     "output_type": "stream",
     "text": [
      "Olá\n"
     ]
    }
   ],
   "source": [
    "minha_funcao()"
   ]
  },
  {
   "cell_type": "markdown",
   "metadata": {
    "colab_type": "text",
    "id": "UgTqsgOmP5Sz"
   },
   "source": [
    "**Parâmetros**"
   ]
  },
  {
   "cell_type": "markdown",
   "metadata": {
    "colab_type": "text",
    "id": "kbdxLs8UQTRO"
   },
   "source": [
    "Enquanto algumas função não precisam de nenhuma informação prévia para serem executadas outras precisam. Essas informações são chamadas de **parâmetros**. Vários tipos de estruturas podem ser passados como parâmetros, como variáveis, listas, dicionário e até outras funções"
   ]
  },
  {
   "cell_type": "markdown",
   "metadata": {
    "colab_type": "text",
    "id": "H-61QgYEg8LD"
   },
   "source": [
    "O exemplo abaixo mostrar uma função que calcula a área de um círculo de acordo com o valor do raio que foi passado como parâmetro"
   ]
  },
  {
   "cell_type": "code",
   "execution_count": 52,
   "metadata": {
    "colab": {},
    "colab_type": "code",
    "id": "AhcUUtBZP59K"
   },
   "outputs": [],
   "source": [
    "def funcaonome(nome):\n",
    "    print(\"Olá meu nome é\",nome)\n",
    "    \n",
    "def calcareacirc(raio):\n",
    "    pi = 3.1415\n",
    "    area = pi*raio**2\n",
    "    return pi,area"
   ]
  },
  {
   "cell_type": "code",
   "execution_count": 54,
   "metadata": {
    "colab": {
     "base_uri": "https://localhost:8080/",
     "height": 34
    },
    "colab_type": "code",
    "id": "weMObKHRSX-A",
    "outputId": "5de420a5-ff83-4426-8321-d63cde3437c5"
   },
   "outputs": [
    {
     "name": "stdout",
     "output_type": "stream",
     "text": [
      "k\n",
      "Olá meu nome é k\n",
      "3.1415\n"
     ]
    }
   ],
   "source": [
    "nome = input()\n",
    "raio = 2\n",
    "funcaonome(nome)\n",
    "\n",
    "[pi,area] = calcareacirc(raio)\n",
    "print(pi)"
   ]
  },
  {
   "cell_type": "markdown",
   "metadata": {
    "colab_type": "text",
    "id": "x9hQG5niSg5R"
   },
   "source": [
    "As funções também podem receber como parâmetro uma lista"
   ]
  },
  {
   "cell_type": "code",
   "execution_count": 55,
   "metadata": {
    "colab": {},
    "colab_type": "code",
    "id": "j4kaXs2GPzoh"
   },
   "outputs": [],
   "source": [
    "def imprimeSetores(listaSetores):\n",
    "    for setores in listaSetores:\n",
    "        print(setores)"
   ]
  },
  {
   "cell_type": "code",
   "execution_count": 57,
   "metadata": {
    "colab": {
     "base_uri": "https://localhost:8080/",
     "height": 102
    },
    "colab_type": "code",
    "id": "UBJ-x53-RzZz",
    "outputId": "2a98e3f4-8b62-4992-ffd7-1c5a9519521b"
   },
   "outputs": [
    {
     "name": "stdout",
     "output_type": "stream",
     "text": [
      "Comercial\n",
      "RH\n",
      "financeiro\n",
      "adm\n",
      "operacional\n"
     ]
    }
   ],
   "source": [
    "imprimeSetores(listaSetores)"
   ]
  },
  {
   "cell_type": "code",
   "execution_count": 59,
   "metadata": {},
   "outputs": [],
   "source": [
    "def pararloop(valor = 5):\n",
    "    for i in range(10):\n",
    "        if (i==valor):\n",
    "            break\n",
    "        print(i)"
   ]
  },
  {
   "cell_type": "code",
   "execution_count": 61,
   "metadata": {},
   "outputs": [
    {
     "name": "stdout",
     "output_type": "stream",
     "text": [
      "0\n",
      "1\n",
      "2\n",
      "3\n",
      "4\n",
      "5\n",
      "6\n",
      "7\n"
     ]
    }
   ],
   "source": [
    "pararloop(8)"
   ]
  },
  {
   "cell_type": "markdown",
   "metadata": {
    "colab_type": "text",
    "id": "C5TeudM8n6Qw"
   },
   "source": [
    "#### 7.2 Tipos de retorno"
   ]
  },
  {
   "cell_type": "markdown",
   "metadata": {
    "colab_type": "text",
    "id": "YXnRJz7zUo8m"
   },
   "source": [
    "Em algumas situações precisamos que a função realize uma determinada tarefa e, em seguida, nos retorne um valor."
   ]
  },
  {
   "cell_type": "markdown",
   "metadata": {
    "colab_type": "text",
    "id": "ntwE1RuZWKN7"
   },
   "source": [
    "**Retorno único**"
   ]
  },
  {
   "cell_type": "code",
   "execution_count": 69,
   "metadata": {
    "colab": {},
    "colab_type": "code",
    "id": "p5ds64wzUzsH"
   },
   "outputs": [],
   "source": [
    "def calcareacirc(raio =1):\n",
    "    pi=3.1415\n",
    "    area = pi* raio**2\n",
    "    return area"
   ]
  },
  {
   "cell_type": "code",
   "execution_count": 66,
   "metadata": {
    "colab": {},
    "colab_type": "code",
    "id": "b5uyIkLPL-vk"
   },
   "outputs": [
    {
     "data": {
      "text/plain": [
       "12.566"
      ]
     },
     "execution_count": 66,
     "metadata": {},
     "output_type": "execute_result"
    }
   ],
   "source": [
    "a = calcareacirc(2)\n",
    "a"
   ]
  },
  {
   "cell_type": "code",
   "execution_count": 70,
   "metadata": {
    "colab": {
     "base_uri": "https://localhost:8080/",
     "height": 34
    },
    "colab_type": "code",
    "id": "5UQKjoaWU1Am",
    "outputId": "c1f2a769-33fc-44de-fc04-998cacbff2a7"
   },
   "outputs": [
    {
     "data": {
      "text/plain": [
       "3.1415"
      ]
     },
     "execution_count": 70,
     "metadata": {},
     "output_type": "execute_result"
    }
   ],
   "source": [
    "calcareacirc()"
   ]
  },
  {
   "cell_type": "code",
   "execution_count": 71,
   "metadata": {
    "colab": {},
    "colab_type": "code",
    "id": "U24CbQpYVoPN"
   },
   "outputs": [],
   "source": [
    "def calcquadrado(a):\n",
    "    return a**2"
   ]
  },
  {
   "cell_type": "code",
   "execution_count": 73,
   "metadata": {
    "colab": {
     "base_uri": "https://localhost:8080/",
     "height": 34
    },
    "colab_type": "code",
    "id": "g_KSRvAuVouY",
    "outputId": "50bb5906-6161-4dce-ab0a-4c5d004cffce"
   },
   "outputs": [
    {
     "data": {
      "text/plain": [
       "9"
      ]
     },
     "execution_count": 73,
     "metadata": {},
     "output_type": "execute_result"
    }
   ],
   "source": [
    "b= calcquadrado(3)\n",
    "b"
   ]
  },
  {
   "cell_type": "markdown",
   "metadata": {
    "colab_type": "text",
    "id": "yq-zAk9bVVgr"
   },
   "source": [
    "Quando a função retorna algum valor podemos atribuir esse valor a uma variável"
   ]
  },
  {
   "cell_type": "code",
   "execution_count": null,
   "metadata": {
    "colab": {
     "base_uri": "https://localhost:8080/",
     "height": 34
    },
    "colab_type": "code",
    "id": "7bW53sh5Vcfa",
    "outputId": "38211d31-c841-46c5-9273-262e49704e88"
   },
   "outputs": [],
   "source": []
  },
  {
   "cell_type": "markdown",
   "metadata": {
    "colab_type": "text",
    "id": "kvp5u6-wWo7g"
   },
   "source": [
    "**Retorno múltiplos**"
   ]
  },
  {
   "cell_type": "markdown",
   "metadata": {
    "colab_type": "text",
    "id": "0rKSZA9ZW-X9"
   },
   "source": [
    "O Python também permite que as funções retornem mais de um valor ao serem executadas"
   ]
  },
  {
   "cell_type": "code",
   "execution_count": 74,
   "metadata": {
    "colab": {},
    "colab_type": "code",
    "id": "r4jHaTm2VcK3"
   },
   "outputs": [],
   "source": [
    "def opar(n1,n2):\n",
    "    soma = n1+n2\n",
    "    sub = n1-n2\n",
    "    return soma,sub"
   ]
  },
  {
   "cell_type": "code",
   "execution_count": 75,
   "metadata": {
    "colab": {
     "base_uri": "https://localhost:8080/",
     "height": 34
    },
    "colab_type": "code",
    "id": "IWnOa3SBn5qD",
    "outputId": "51a464d6-ed7a-4305-db64-84a0258439f4"
   },
   "outputs": [
    {
     "name": "stdout",
     "output_type": "stream",
     "text": [
      "(3, 1)\n"
     ]
    }
   ],
   "source": [
    "print(opar(2,1))"
   ]
  },
  {
   "cell_type": "code",
   "execution_count": null,
   "metadata": {},
   "outputs": [],
   "source": []
  },
  {
   "cell_type": "markdown",
   "metadata": {
    "colab_type": "text",
    "id": "aIWPrN-MYXuj"
   },
   "source": [
    "Observe que a função **operacoes_aritmeticas()** retorna os dois valores em forma de **tupla**. Com isso, podemos realizar o _desempacotamento_ desses valores"
   ]
  },
  {
   "cell_type": "code",
   "execution_count": 77,
   "metadata": {
    "colab": {
     "base_uri": "https://localhost:8080/",
     "height": 34
    },
    "colab_type": "code",
    "id": "5J7BnPnnZIiV",
    "outputId": "45cb7e0d-e83f-4553-99b5-3f21251e2ebd"
   },
   "outputs": [],
   "source": [
    "soma,subtracao = opar(10,2)\n",
    "\n",
    "soma1,sub1= opar(6,1)"
   ]
  },
  {
   "cell_type": "code",
   "execution_count": 78,
   "metadata": {
    "colab": {
     "base_uri": "https://localhost:8080/",
     "height": 34
    },
    "colab_type": "code",
    "id": "l8_q92wIZPtn",
    "outputId": "629ba673-0d87-4ec7-a28f-c6f11eb6dac4"
   },
   "outputs": [
    {
     "name": "stdout",
     "output_type": "stream",
     "text": [
      "12 8\n",
      "7 5\n"
     ]
    }
   ],
   "source": [
    "print(soma,subtracao)\n",
    "print(soma1,sub1)"
   ]
  },
  {
   "cell_type": "markdown",
   "metadata": {
    "colab_type": "text",
    "id": "uHpia8MqnyML"
   },
   "source": [
    "#### 7.3 Funções anônimas"
   ]
  },
  {
   "cell_type": "markdown",
   "metadata": {
    "colab_type": "text",
    "id": "FplSen_CZUeF"
   },
   "source": [
    "Em programação, uma função anônima é definida como uma função que não está vinculada a um identificador, ou seja, não possui um nome. O Python define as funções anônimas através da expressão **lambda**. \n",
    "\n",
    "Esse tipo de função é utilizado, principalmente, em situações que precisamos que uma função seja passada como parâmetro."
   ]
  },
  {
   "cell_type": "markdown",
   "metadata": {
    "colab_type": "text",
    "id": "136SxVI7hYB-"
   },
   "source": [
    "Observe o exemplo abaixo. Nele atribuímos à variável f uma função lambda que retorna o quadrado do valor x quadrado, como se fosse uma f(x) = x^2"
   ]
  },
  {
   "cell_type": "code",
   "execution_count": 79,
   "metadata": {
    "colab": {},
    "colab_type": "code",
    "id": "HjEJIYH-hCKt"
   },
   "outputs": [],
   "source": [
    "f = lambda x: x**2"
   ]
  },
  {
   "cell_type": "code",
   "execution_count": 80,
   "metadata": {
    "colab": {
     "base_uri": "https://localhost:8080/",
     "height": 34
    },
    "colab_type": "code",
    "id": "T4dL6r_ahB5D",
    "outputId": "3c8764a8-6ac8-4b64-bac9-1b2450fc8402"
   },
   "outputs": [
    {
     "data": {
      "text/plain": [
       "4"
      ]
     },
     "execution_count": 80,
     "metadata": {},
     "output_type": "execute_result"
    }
   ],
   "source": [
    "f(2)"
   ]
  },
  {
   "cell_type": "markdown",
   "metadata": {
    "colab_type": "text",
    "id": "FhQw-7YWh8qK"
   },
   "source": [
    "\n",
    "\n",
    "Podemos, também, aplicar a função f em uma lista "
   ]
  },
  {
   "cell_type": "code",
   "execution_count": 81,
   "metadata": {
    "colab": {
     "base_uri": "https://localhost:8080/",
     "height": 34
    },
    "colab_type": "code",
    "id": "hUvPmyYsjGJJ",
    "outputId": "f5dbff10-f5c5-4054-f088-9df2162990bc"
   },
   "outputs": [],
   "source": [
    "listaNume = [1,2,3,4,5]"
   ]
  },
  {
   "cell_type": "code",
   "execution_count": 82,
   "metadata": {
    "colab": {
     "base_uri": "https://localhost:8080/",
     "height": 102
    },
    "colab_type": "code",
    "id": "uQzsui5ljFgc",
    "outputId": "caa1e866-bfd4-400f-ff1d-a9106379e2dc"
   },
   "outputs": [
    {
     "name": "stdout",
     "output_type": "stream",
     "text": [
      "1\n",
      "4\n",
      "9\n",
      "16\n",
      "25\n"
     ]
    }
   ],
   "source": [
    "for i in listaNume:\n",
    "    print(f(i))"
   ]
  },
  {
   "cell_type": "markdown",
   "metadata": {
    "colab_type": "text",
    "id": "AgLZPODRlK52"
   },
   "source": [
    "Como falamos, o lambda é muito usado para ser passado como parâmetro para uma outra função"
   ]
  },
  {
   "cell_type": "code",
   "execution_count": 83,
   "metadata": {
    "colab": {},
    "colab_type": "code",
    "id": "L-AXOgTalX_3"
   },
   "outputs": [],
   "source": [
    "def funcao(listNum, f):\n",
    "    for i in listNum:\n",
    "        print(f(i))"
   ]
  },
  {
   "cell_type": "code",
   "execution_count": 84,
   "metadata": {
    "colab": {
     "base_uri": "https://localhost:8080/",
     "height": 102
    },
    "colab_type": "code",
    "id": "IHrzMKKElXXJ",
    "outputId": "d8f84cbf-b021-4e27-8d58-591dc4fd4e44"
   },
   "outputs": [
    {
     "name": "stdout",
     "output_type": "stream",
     "text": [
      "1\n",
      "4\n",
      "9\n",
      "16\n",
      "25\n"
     ]
    }
   ],
   "source": [
    "funcao(listaNume,f)"
   ]
  },
  {
   "cell_type": "markdown",
   "metadata": {
    "colab_type": "text",
    "id": "o7N9GIgGmkjY"
   },
   "source": [
    "Veja que podemos, também, passar outros tipos de funções que não foram atribuídas a variáveis"
   ]
  },
  {
   "cell_type": "code",
   "execution_count": 85,
   "metadata": {
    "colab": {
     "base_uri": "https://localhost:8080/",
     "height": 102
    },
    "colab_type": "code",
    "id": "UVJnegNMnDt2",
    "outputId": "69b6c198-389a-4e91-e954-4f70376da159"
   },
   "outputs": [
    {
     "name": "stdout",
     "output_type": "stream",
     "text": [
      "2\n",
      "4\n",
      "6\n",
      "8\n",
      "10\n"
     ]
    }
   ],
   "source": [
    "funcao(listaNume,lambda x: 2*x)"
   ]
  },
  {
   "cell_type": "code",
   "execution_count": 86,
   "metadata": {
    "colab": {
     "base_uri": "https://localhost:8080/",
     "height": 102
    },
    "colab_type": "code",
    "id": "P6L2dfTonSCK",
    "outputId": "f8877d1e-1914-4685-974f-e66269a5b7cd"
   },
   "outputs": [
    {
     "name": "stdout",
     "output_type": "stream",
     "text": [
      "-8\n",
      "-6\n",
      "-5\n",
      "-4\n"
     ]
    }
   ],
   "source": [
    "funcao([2,4,5,6],lambda x: x-10)"
   ]
  },
  {
   "cell_type": "markdown",
   "metadata": {
    "colab_type": "text",
    "id": "4rBsNIponfFL"
   },
   "source": [
    "Podemos usar, também, o lambda com list comprehension e retornar uma lista"
   ]
  },
  {
   "cell_type": "code",
   "execution_count": 87,
   "metadata": {
    "colab": {},
    "colab_type": "code",
    "id": "W6KR7U5MoTEo"
   },
   "outputs": [],
   "source": [
    "def funcao2(lista,f):\n",
    "    nova_lista = []\n",
    "    for i in lista:\n",
    "        nova_lista.append(f(i))\n",
    "    return nova_lista"
   ]
  },
  {
   "cell_type": "code",
   "execution_count": 90,
   "metadata": {
    "colab": {
     "base_uri": "https://localhost:8080/",
     "height": 34
    },
    "colab_type": "code",
    "id": "nb9NNuXxoStx",
    "outputId": "fb1d7d14-6e0b-4d06-d2d4-af5ca300ed75"
   },
   "outputs": [],
   "source": [
    "nl = funcao2(listaNume,f)"
   ]
  },
  {
   "cell_type": "code",
   "execution_count": 91,
   "metadata": {
    "colab": {
     "base_uri": "https://localhost:8080/",
     "height": 34
    },
    "colab_type": "code",
    "id": "Ro7eZc45pltg",
    "outputId": "0c3853c7-c336-4aa5-bf6f-a47979d326bb"
   },
   "outputs": [
    {
     "data": {
      "text/plain": [
       "[-1, 2, 7, 14, 23]"
      ]
     },
     "execution_count": 91,
     "metadata": {},
     "output_type": "execute_result"
    }
   ],
   "source": [
    "funcao2(nl, lambda x: x-2)"
   ]
  },
  {
   "cell_type": "code",
   "execution_count": 92,
   "metadata": {
    "colab": {},
    "colab_type": "code",
    "id": "BaNosdquu1O2"
   },
   "outputs": [],
   "source": [
    "def funcao3(lista,f):\n",
    "    return [f(i) for i in lista]"
   ]
  },
  {
   "cell_type": "code",
   "execution_count": 93,
   "metadata": {
    "colab": {
     "base_uri": "https://localhost:8080/",
     "height": 34
    },
    "colab_type": "code",
    "id": "CfhjS5QrqEiG",
    "outputId": "0bd2fcea-78b2-4ea4-9fee-873b7f08920f"
   },
   "outputs": [
    {
     "data": {
      "text/plain": [
       "[-1, 2, 7, 14, 23]"
      ]
     },
     "execution_count": 93,
     "metadata": {},
     "output_type": "execute_result"
    }
   ],
   "source": [
    "funcao3(nl, lambda x:x-2)"
   ]
  },
  {
   "cell_type": "markdown",
   "metadata": {
    "colab_type": "text",
    "id": "jwinNsB6Pzot"
   },
   "source": [
    "# 8. Introdução à Orientação a Objetos"
   ]
  },
  {
   "cell_type": "markdown",
   "metadata": {
    "colab_type": "text",
    "id": "4rS0X3PtyeQI"
   },
   "source": [
    "### 8.1 O que é orientação a objetos?"
   ]
  },
  {
   "cell_type": "markdown",
   "metadata": {
    "colab_type": "text",
    "id": "H6x8FzYUp9yj"
   },
   "source": [
    "A orientação a objetos é um paradigma de programação  baseado no conceito de \"objetos\" que podem conter dados na forma de atributos e procedimentos na forma de métodos. As propriedades e ações de nossos objetos são definidos em nossas Classes. Toda sua estrutura é feita com intuito de aproximar o mundo virtual do mundo real."
   ]
  },
  {
   "cell_type": "markdown",
   "metadata": {
    "colab_type": "text",
    "id": "MYGgFvhsPzou"
   },
   "source": [
    "### 8.2 O que são classes?"
   ]
  },
  {
   "cell_type": "markdown",
   "metadata": {},
   "source": [
    "#### 8.2.1 Definindo estruturas de classe"
   ]
  },
  {
   "cell_type": "markdown",
   "metadata": {
    "colab_type": "text",
    "id": "mnmyNpQxiVhm"
   },
   "source": [
    "As classes, em Programação Orientada a Objetos, são a forma de proporcionar uma melhor forma de organizar dados e ações de seu sistema, tudo em um lugar só. \n",
    "\n",
    "Quando criamos uma nova classe, nós estamos criando uma definição teórica sobre um conceito que nosso sistema vai precisar. \n",
    "\n",
    "Esses definições serão seguidas pelos Objetos dessa Classe. Veremos isso nas próximas lições."
   ]
  },
  {
   "cell_type": "markdown",
   "metadata": {
    "colab_type": "text",
    "id": "-nQS1Iui5GVO"
   },
   "source": [
    "No exemplo abaixo criaremos uma classe Carro"
   ]
  },
  {
   "cell_type": "code",
   "execution_count": 94,
   "metadata": {
    "colab": {},
    "colab_type": "code",
    "id": "-sNkXup3sgig"
   },
   "outputs": [],
   "source": [
    "class Carro():\n",
    "    pass"
   ]
  },
  {
   "cell_type": "markdown",
   "metadata": {},
   "source": [
    "##### **Método _ _init_ _ e parâmetro self**"
   ]
  },
  {
   "cell_type": "markdown",
   "metadata": {
    "colab_type": "text",
    "id": "_QIHHDFQspd6"
   },
   "source": [
    "Toda classe tem uma função especial chamada **__ init __**. Essa função é sempre o nosso primeiro contato com a classe.\n",
    "\n",
    "Vamos usá-la para definir a inicialização de nossa ideia de modelagem. \n",
    "\n",
    "Essa função **sempre** recebe um parâmetro especial que identifica a própria classe, o parâmetro **self**.  "
   ]
  },
  {
   "cell_type": "code",
   "execution_count": 95,
   "metadata": {
    "colab": {},
    "colab_type": "code",
    "id": "GEO5_sfCPzou"
   },
   "outputs": [],
   "source": [
    "class Carro():\n",
    "    \n",
    "    def __init__(self):\n",
    "        print(\"Eu sou um carro\")"
   ]
  },
  {
   "cell_type": "markdown",
   "metadata": {
    "colab_type": "text",
    "id": "bZFnPpIt0FRj"
   },
   "source": [
    "Perceba que quando eu chamo a nossa Classe, esse método é sempre executado.    "
   ]
  },
  {
   "cell_type": "code",
   "execution_count": 96,
   "metadata": {
    "colab": {
     "base_uri": "https://localhost:8080/",
     "height": 52
    },
    "colab_type": "code",
    "id": "P15TNh5QPzox",
    "outputId": "a3c8eb8b-7890-4e60-df34-c5a7dec17e58"
   },
   "outputs": [
    {
     "name": "stdout",
     "output_type": "stream",
     "text": [
      "Eu sou um carro\n"
     ]
    },
    {
     "data": {
      "text/plain": [
       "<__main__.Carro at 0x2478f6ea048>"
      ]
     },
     "execution_count": 96,
     "metadata": {},
     "output_type": "execute_result"
    }
   ],
   "source": [
    "Carro()"
   ]
  },
  {
   "cell_type": "markdown",
   "metadata": {
    "colab_type": "text",
    "id": "Ime4qxGoWuNg"
   },
   "source": [
    "### 8.3 Métodos e Atributos"
   ]
  },
  {
   "cell_type": "markdown",
   "metadata": {
    "colab_type": "text",
    "id": "qSbwh_uWw7Kg"
   },
   "source": [
    "#### 8.3.1 Definindo atributos na prática"
   ]
  },
  {
   "cell_type": "markdown",
   "metadata": {
    "colab_type": "text",
    "id": "H4kXfgco5Em7"
   },
   "source": [
    "Em POO, os atributos são elementos que definem as características de uma classe, também conhecidos como variáveis da classe. \n",
    "\n",
    "No exemplo da classe carro temos: marca, modelo, ano de fabricação e cor."
   ]
  },
  {
   "cell_type": "code",
   "execution_count": 97,
   "metadata": {
    "colab": {},
    "colab_type": "code",
    "id": "N0zqJ2GiPzoz"
   },
   "outputs": [],
   "source": [
    "class Carro():\n",
    "    def __init__(self, marca, modelo, ano, cor):\n",
    "        self.marca = marca\n",
    "        self.modelo = modelo\n",
    "        self.anodefabricacao = ano\n",
    "        self.cor = cor\n",
    "        "
   ]
  },
  {
   "cell_type": "markdown",
   "metadata": {
    "colab_type": "text",
    "id": "wE11LN5BxqD8"
   },
   "source": [
    "#### 8.3.2 Definindo métodos na prática"
   ]
  },
  {
   "cell_type": "markdown",
   "metadata": {
    "colab_type": "text",
    "id": "Vf3mphx91KHu"
   },
   "source": [
    "Um método é uma rotina que executa uma certa função. Eles são as ações que nossos objetos podem tomar.\n",
    "\n",
    "No exemplo da classe Carro vamos criar os métodos: ligarFarol, desligarFarol, acelerar, frear.\n",
    "\n",
    "Para nos auxiliar, vamos criar mais dois atributos: statusFarol (desligado ou ligado) e velocimetro (que mostra a velocidade do carro) "
   ]
  },
  {
   "cell_type": "markdown",
   "metadata": {},
   "source": [
    "##### **ligarFarol() e desligarFarol()** "
   ]
  },
  {
   "cell_type": "code",
   "execution_count": 99,
   "metadata": {
    "colab": {},
    "colab_type": "code",
    "id": "UALjQgcYPzo5"
   },
   "outputs": [],
   "source": [
    "class Carro():\n",
    "    def __init__(self, marca, modelo, ano, cor, statusFarol = \"desligado\"):\n",
    "        self.marca = marca\n",
    "        self.modelo = modelo\n",
    "        self.anodefabricacao = ano\n",
    "        self.cor = cor\n",
    "       \n",
    "        self.statusFarol = statusFarol\n",
    "        \n",
    "    def ligarFarol(self):\n",
    "        if(self.statusFarol == \"desligado\"):\n",
    "            self.statusFarol = \"ligado\"\n",
    "            print(\"Farol ligado\")\n",
    "        else:\n",
    "            print(\"O falor já está ligado\")\n",
    "            \n",
    "    def desligarFarol(self):\n",
    "        if(self.statusFarol == \"ligado\"):\n",
    "            self.statusFarol = \"desligado\"\n",
    "            print(\"Farol desligado\")\n",
    "        else:\n",
    "            print(\"O falor já está desligado\")\n",
    "\n",
    "    "
   ]
  },
  {
   "cell_type": "markdown",
   "metadata": {},
   "source": [
    "##### **acelerar() e frear()**"
   ]
  },
  {
   "cell_type": "code",
   "execution_count": 113,
   "metadata": {},
   "outputs": [],
   "source": [
    "class Carro():\n",
    "    def __init__(self, marca, modelo, ano, cor, statusFarol = \"desligado\"):\n",
    "        self.marca = marca\n",
    "        self.modelo = modelo\n",
    "        self.anodefabricacao = ano\n",
    "        self.cor = cor\n",
    "       \n",
    "        self.statusFarol = statusFarol\n",
    "        \n",
    "        self.velocimetro = 0\n",
    "        \n",
    "    def ligarFarol(self):\n",
    "        if(self.statusFarol == \"desligado\"):\n",
    "            self.statusFarol = \"ligado\"\n",
    "            print(\"Farol ligado\")\n",
    "        else:\n",
    "            print(\"O falor já está ligado\")\n",
    "            \n",
    "    def desligarFarol(self):\n",
    "        if(self.statusFarol == \"ligado\"):\n",
    "            self.statusFarol = \"desligado\"\n",
    "            print(\"Farol desligado\")\n",
    "        else:\n",
    "            print(\"O falor já está desligado\")\n",
    "            \n",
    "    def acelerar(self, acresVelocidade):\n",
    "        self.velocimetro = self.velocimetro + acresVelocidade\n",
    "        \n",
    "    def desacelerar(self, decresVelocidade = 5):\n",
    "        if (self.velocimetro > decresVelocidade):\n",
    "            self.velocimetro = self.velocimetro - decresVelocidade\n",
    "        else:\n",
    "            self.velocimetro = 0"
   ]
  },
  {
   "cell_type": "markdown",
   "metadata": {
    "colab_type": "text",
    "id": "uamINNpo6q0v"
   },
   "source": [
    "### 8.4 O que são objetos?"
   ]
  },
  {
   "cell_type": "markdown",
   "metadata": {},
   "source": [
    "#### 8.4.1 Instanciando objetos"
   ]
  },
  {
   "cell_type": "markdown",
   "metadata": {
    "colab_type": "text",
    "id": "EhmZGkTx9ndY"
   },
   "source": [
    "Quando falamos de objetos, estamos lidando com uma instância específica de uma classe. \n",
    "\n",
    "Eles representam entidades específicas do mundo real, como um determinado carro Gol de seu vizinho, ou o carro Fusca de seu pai.\n",
    "\n",
    "Criamos os objetos da seguinte forma:"
   ]
  },
  {
   "cell_type": "code",
   "execution_count": 115,
   "metadata": {
    "colab": {},
    "colab_type": "code",
    "id": "e7_t3vYXPzo7"
   },
   "outputs": [],
   "source": [
    "gol = Carro(\"wolks\", \"gol\", 2010, \"laranja\")\n",
    "fusca = Carro(\"wolks\", \"fusca\", 1990, \"azul claro\")\n",
    "uno = Carro(\"fiat\",\"uno\",2000, \"azul escuro\",statusFarol =  \"ligado\")\n",
    "gol2 = Carro(\"wolks\", \"gol\", 2010, \"laranja\")"
   ]
  },
  {
   "cell_type": "markdown",
   "metadata": {},
   "source": [
    "##### **Utilizando nossos objetos**"
   ]
  },
  {
   "cell_type": "markdown",
   "metadata": {
    "colab_type": "text",
    "id": "dCj7bVFOYD6S"
   },
   "source": [
    "Através dos objetos que podemos chamar as funções (métodos) que definimos em nossa classe. "
   ]
  },
  {
   "cell_type": "code",
   "execution_count": 116,
   "metadata": {
    "colab": {
     "base_uri": "https://localhost:8080/",
     "height": 34
    },
    "colab_type": "code",
    "id": "I48cqoMgPzo-",
    "outputId": "da1facfe-2722-4945-b583-62c023f3f9c8"
   },
   "outputs": [
    {
     "name": "stdout",
     "output_type": "stream",
     "text": [
      "0\n",
      "5\n"
     ]
    }
   ],
   "source": [
    "print(gol.velocimetro)\n",
    "gol.acelerar(5)\n",
    "print(gol.velocimetro)"
   ]
  },
  {
   "cell_type": "code",
   "execution_count": 118,
   "metadata": {
    "colab": {
     "base_uri": "https://localhost:8080/",
     "height": 34
    },
    "colab_type": "code",
    "id": "VZE6Mldd2a2D",
    "outputId": "f79bb718-fcc2-4317-aff1-75fe9212c5ee"
   },
   "outputs": [
    {
     "name": "stdout",
     "output_type": "stream",
     "text": [
      "0\n",
      "15\n"
     ]
    }
   ],
   "source": [
    "print(gol2.velocimetro)\n",
    "gol2.acelerar(15)\n",
    "print(gol2.velocimetro)"
   ]
  },
  {
   "cell_type": "markdown",
   "metadata": {
    "colab_type": "text",
    "id": "7ZmHFTjY6G6z"
   },
   "source": [
    "Veja que quando mudamos a variável de um objeto específico essa mesma variável do outro objeto não é mudada. \n",
    "\n",
    "Isso mostra como os objetos são independentes entre si"
   ]
  },
  {
   "cell_type": "code",
   "execution_count": 120,
   "metadata": {
    "colab": {
     "base_uri": "https://localhost:8080/",
     "height": 51
    },
    "colab_type": "code",
    "id": "eED7ssEM6ppA",
    "outputId": "6928e351-4c55-4eca-c251-b075e9401305"
   },
   "outputs": [
    {
     "data": {
      "text/plain": [
       "45"
      ]
     },
     "execution_count": 120,
     "metadata": {},
     "output_type": "execute_result"
    }
   ],
   "source": [
    "gol.acelerar(30)\n",
    "gol.velocimetro\n",
    "gol.desacelerar(20)\n",
    "gol.velocimetro"
   ]
  },
  {
   "cell_type": "code",
   "execution_count": 125,
   "metadata": {
    "colab": {
     "base_uri": "https://localhost:8080/",
     "height": 51
    },
    "colab_type": "code",
    "id": "OTRjuvFq60aN",
    "outputId": "18498d1b-dd66-4269-da44-a8d479ea3044"
   },
   "outputs": [
    {
     "name": "stdout",
     "output_type": "stream",
     "text": [
      "O falor já está desligado\n"
     ]
    }
   ],
   "source": [
    "fusca.desligarFarol()"
   ]
  },
  {
   "cell_type": "code",
   "execution_count": 129,
   "metadata": {
    "colab": {
     "base_uri": "https://localhost:8080/",
     "height": 221
    },
    "colab_type": "code",
    "id": "LeboHx3z22HT",
    "outputId": "11314c96-f147-487b-a2cf-18a817837679"
   },
   "outputs": [
    {
     "name": "stdout",
     "output_type": "stream",
     "text": [
      "Farol uno antes: desligado\n",
      "Farol fusca antes: ligado\n",
      "O falor já está desligado\n",
      "O falor já está ligado\n",
      "Farol uno depois: desligado\n",
      "Farol fusca depois: ligado\n"
     ]
    }
   ],
   "source": [
    "print(\"Farol uno antes:\",uno.statusFarol)\n",
    "print(\"Farol fusca antes:\",fusca.statusFarol)\n",
    "uno.desligarFarol()\n",
    "fusca.ligarFarol()\n",
    "print(\"Farol uno depois:\",uno.statusFarol)\n",
    "print(\"Farol fusca depois:\",fusca.statusFarol)\n"
   ]
  },
  {
   "cell_type": "code",
   "execution_count": 137,
   "metadata": {
    "colab": {
     "base_uri": "https://localhost:8080/",
     "height": 34
    },
    "colab_type": "code",
    "id": "SvBXCtWR5roJ",
    "outputId": "9dd89cb3-feae-4a2a-c05b-83f1b874cab6"
   },
   "outputs": [
    {
     "name": "stdout",
     "output_type": "stream",
     "text": [
      "20\n",
      "30\n",
      "15\n",
      "35\n"
     ]
    }
   ],
   "source": [
    "print(gol.velocimetro)\n",
    "print(gol2.velocimetro)\n",
    "gol.desacelerar()\n",
    "gol2.acelerar(5)\n",
    "print(gol.velocimetro)\n",
    "print(gol2.velocimetro)\n"
   ]
  },
  {
   "cell_type": "markdown",
   "metadata": {
    "colab_type": "text",
    "id": "uLLSyoUqtwwH"
   },
   "source": [
    "##### Interação com objetos"
   ]
  },
  {
   "cell_type": "markdown",
   "metadata": {
    "colab_type": "text",
    "id": "T7gaDrAnuNqK"
   },
   "source": [
    "Uma vez que criamos nossos objetos, todas as demais estruturas estudadas podem ser utilizadas para interagir e armazenar seus dados."
   ]
  },
  {
   "cell_type": "markdown",
   "metadata": {
    "colab_type": "text",
    "id": "zggoOJbM22nH"
   },
   "source": [
    "Vejamos como podemos criar uma lista de objetos da classe carro"
   ]
  },
  {
   "cell_type": "code",
   "execution_count": 139,
   "metadata": {},
   "outputs": [
    {
     "name": "stdout",
     "output_type": "stream",
     "text": [
      "Digite a marca:wolks\n",
      "Digite o modelo:gol\n",
      "Digite o ano de fabricação:2011\n",
      "Digite a cor:prata\n",
      "Digite a marca:fiat\n",
      "Digite o modelo:uno\n",
      "Digite o ano de fabricação:2003\n",
      "Digite a cor:preta\n",
      "Digite a marca:jeep\n",
      "Digite o modelo:renegade\n",
      "Digite o ano de fabricação:2015\n",
      "Digite a cor:branco\n"
     ]
    },
    {
     "data": {
      "text/plain": [
       "[<__main__.Carro at 0x2478fe536c8>,\n",
       " <__main__.Carro at 0x2478fe53948>,\n",
       " <__main__.Carro at 0x2478fe50b08>]"
      ]
     },
     "execution_count": 139,
     "metadata": {},
     "output_type": "execute_result"
    }
   ],
   "source": [
    "i = 0\n",
    "lista =[]\n",
    "\n",
    "while i <3 :\n",
    "    marca = input(\"Digite a marca:\")\n",
    "    modelo = input(\"Digite o modelo:\")\n",
    "    ano = int(input(\"Digite o ano de fabricação:\"))\n",
    "    cor = input(\"Digite a cor:\")\n",
    "    \n",
    "    carro = Carro(marca,modelo,ano,cor)\n",
    "    lista.append(carro)\n",
    "    \n",
    "    i = i+1\n",
    "    \n",
    "lista"
   ]
  },
  {
   "cell_type": "code",
   "execution_count": 140,
   "metadata": {},
   "outputs": [
    {
     "data": {
      "text/plain": [
       "'wolks'"
      ]
     },
     "execution_count": 140,
     "metadata": {},
     "output_type": "execute_result"
    }
   ],
   "source": [
    "lista[0].marca"
   ]
  },
  {
   "cell_type": "markdown",
   "metadata": {
    "colab_type": "text",
    "id": "mlAjBvLnr-FR"
   },
   "source": [
    "### 8.5 Encapsulamento"
   ]
  },
  {
   "cell_type": "markdown",
   "metadata": {
    "colab_type": "text",
    "id": "BBV4iWF-1hm8"
   },
   "source": [
    "O encapsulamento é a técnica que permite que detalhes e informações internas da classe permaneçam ocultas para usuário externos."
   ]
  },
  {
   "cell_type": "markdown",
   "metadata": {
    "colab_type": "text",
    "id": "43_0TI-56UkH"
   },
   "source": [
    "#### 8.5.1 Atributos privados"
   ]
  },
  {
   "cell_type": "markdown",
   "metadata": {
    "colab_type": "text",
    "id": "Z9Sk9OoH1kcW"
   },
   "source": [
    "Vamos adicionar a variavel **status** encapsulada para mostrar se o carro está ligado ou desligado. \n",
    "\n",
    "Realizamos o encapsulamento por meio da adição de dois underlines '__' na frente do nome da variável.\n",
    "\n",
    "Queremos proteger essa variável de usuários externos a nossa classe, pois consideramos que seja um valor que deve passar por tratamentos especííficos para variar seu valor (como verificar se a chave é realmente a chave do carro que está sendo ligado). \n"
   ]
  },
  {
   "cell_type": "code",
   "execution_count": 141,
   "metadata": {
    "colab": {},
    "colab_type": "code",
    "id": "GDIKXvwR71Oj"
   },
   "outputs": [],
   "source": [
    "class Carro():\n",
    "    def __init__(self, marca, modelo, ano, cor, statusFarol = \"desligado\"):\n",
    "        self.marca = marca\n",
    "        self.modelo = modelo\n",
    "        self.anodefabricacao = ano\n",
    "        self.cor = cor\n",
    "       \n",
    "        self.statusFarol = statusFarol\n",
    "        \n",
    "        self.velocimetro = 0\n",
    "        \n",
    "        self.__status = \"desligado\"\n",
    "        \n",
    "    def ligarFarol(self):\n",
    "        if(self.statusFarol == \"desligado\"):\n",
    "            self.statusFarol = \"ligado\"\n",
    "            print(\"Farol ligado\")\n",
    "        else:\n",
    "            print(\"O falor já está ligado\")\n",
    "            \n",
    "    def desligarFarol(self):\n",
    "        if(self.statusFarol == \"ligado\"):\n",
    "            self.statusFarol = \"desligado\"\n",
    "            print(\"Farol desligado\")\n",
    "        else:\n",
    "            print(\"O falor já está desligado\")\n",
    "            \n",
    "    def acelerar(self, acresVelocidade):\n",
    "        self.velocimetro = self.velocimetro + acresVelocidade\n",
    "        \n",
    "    def desacelerar(self, decresVelocidade = 5):\n",
    "        if (self.velocimetro > decresVelocidade):\n",
    "            self.velocimetro = self.velocimetro - decresVelocidade\n",
    "        else:\n",
    "            self.velocimetro = 0"
   ]
  },
  {
   "cell_type": "code",
   "execution_count": 142,
   "metadata": {
    "colab": {},
    "colab_type": "code",
    "id": "_TaJp6oNPzpw"
   },
   "outputs": [],
   "source": [
    "jeep = Carro(\"jeep\", \"renegate\", 2015, \"branco\")"
   ]
  },
  {
   "cell_type": "markdown",
   "metadata": {
    "colab_type": "text",
    "id": "zXiCIUvs9llg"
   },
   "source": [
    "Podemos perceber que, ao acessarmos a lista de métodos e atributos a nova variável status não aparece. Isso mostra que não é para usuários externos saberem que existe essa variável. "
   ]
  },
  {
   "cell_type": "code",
   "execution_count": null,
   "metadata": {},
   "outputs": [],
   "source": []
  },
  {
   "cell_type": "markdown",
   "metadata": {},
   "source": [
    "#### 8.5.2 Métodos get e set"
   ]
  },
  {
   "cell_type": "markdown",
   "metadata": {
    "colab_type": "text",
    "id": "uNsIubR4-rts"
   },
   "source": [
    "Apesar do usuário não poder acessar e modificar diretamente a variável igual no exemplo da variável velocímetro, podemos criar métodos do tipo **get** e **set** que servem para que o usuário possa ter acesso a essas variáveis."
   ]
  },
  {
   "cell_type": "code",
   "execution_count": 143,
   "metadata": {
    "colab": {},
    "colab_type": "code",
    "id": "XEUBrAQ62Irv"
   },
   "outputs": [],
   "source": [
    "class Carro():\n",
    "    def __init__(self, marca, modelo, ano, cor, statusFarol = \"desligado\"):\n",
    "        self.marca = marca\n",
    "        self.modelo = modelo\n",
    "        self.anodefabricacao = ano\n",
    "        self.cor = cor\n",
    "       \n",
    "        self.statusFarol = statusFarol\n",
    "        \n",
    "        self.velocimetro = 0\n",
    "        \n",
    "        self.__status = False # True para ligado e False para desligado\n",
    "        \n",
    "    def ligarFarol(self):\n",
    "        if(self.statusFarol == \"desligado\"):\n",
    "            self.statusFarol = \"ligado\"\n",
    "            print(\"Farol ligado\")\n",
    "        else:\n",
    "            print(\"O falor já está ligado\")\n",
    "            \n",
    "    def desligarFarol(self):\n",
    "        if(self.statusFarol == \"ligado\"):\n",
    "            self.statusFarol = \"desligado\"\n",
    "            print(\"Farol desligado\")\n",
    "        else:\n",
    "            print(\"O falor já está desligado\")\n",
    "            \n",
    "    def acelerar(self, acresVelocidade):\n",
    "        self.velocimetro = self.velocimetro + acresVelocidade\n",
    "        \n",
    "    def desacelerar(self, decresVelocidade = 5):\n",
    "        if (self.velocimetro > decresVelocidade):\n",
    "            self.velocimetro = self.velocimetro - decresVelocidade\n",
    "        else:\n",
    "            self.velocimetro = 0\n",
    "            \n",
    "    def getStatus(self): #pegar e retornar o valor da variável __status\n",
    "        return self.__status\n",
    "    \n",
    "    def setStatus(self, novo_status, chave):\n",
    "        if chave == 123456:\n",
    "            self.__status = novo_status\n",
    "        else:\n",
    "            print(\"O status não pode ser alterado\")"
   ]
  },
  {
   "cell_type": "code",
   "execution_count": 144,
   "metadata": {
    "colab": {},
    "colab_type": "code",
    "id": "t0yHwg8tABp-"
   },
   "outputs": [],
   "source": [
    "fox = Carro(\"wolks\", \"fox\", 2009, \"prata\")"
   ]
  },
  {
   "cell_type": "code",
   "execution_count": 145,
   "metadata": {
    "colab": {
     "base_uri": "https://localhost:8080/",
     "height": 34
    },
    "colab_type": "code",
    "id": "AISTluA4ABaP",
    "outputId": "931e461b-feda-4b81-cfd7-d0f4fd2a93be"
   },
   "outputs": [
    {
     "data": {
      "text/plain": [
       "False"
      ]
     },
     "execution_count": 145,
     "metadata": {},
     "output_type": "execute_result"
    }
   ],
   "source": [
    "fox.getStatus()"
   ]
  },
  {
   "cell_type": "code",
   "execution_count": 146,
   "metadata": {
    "colab": {
     "base_uri": "https://localhost:8080/",
     "height": 51
    },
    "colab_type": "code",
    "id": "hXkpYlreB9Ii",
    "outputId": "9cbc720e-65d0-4fe6-9285-3e94082bb6e2"
   },
   "outputs": [
    {
     "name": "stdout",
     "output_type": "stream",
     "text": [
      "O status não pode ser alterado\n"
     ]
    }
   ],
   "source": [
    "fox.setStatus(True, 123455)"
   ]
  },
  {
   "cell_type": "code",
   "execution_count": 148,
   "metadata": {
    "colab": {
     "base_uri": "https://localhost:8080/",
     "height": 34
    },
    "colab_type": "code",
    "id": "2hcBdaf32ald",
    "outputId": "1f8c4aea-840c-4a6d-a86c-1e10f28c1a21"
   },
   "outputs": [
    {
     "data": {
      "text/plain": [
       "True"
      ]
     },
     "execution_count": 148,
     "metadata": {},
     "output_type": "execute_result"
    }
   ],
   "source": [
    "fox.setStatus(True, 123456)\n",
    "fox.getStatus()"
   ]
  },
  {
   "cell_type": "markdown",
   "metadata": {
    "colab_type": "text",
    "id": "JXfw52Yt6Z9g"
   },
   "source": [
    "#### 8.5.3 Métodos privados"
   ]
  },
  {
   "cell_type": "markdown",
   "metadata": {
    "colab_type": "text",
    "id": "m1V70HID4OmI"
   },
   "source": [
    "Da mesma forma que podemos ter atributos privados (encapsulados), podemos ter métodos privados. \n",
    "\n",
    "Definimos esse tipo de método quando a função se trata de algo auxiliar que só deve ser utilizado no inteior da nossa classe. "
   ]
  },
  {
   "cell_type": "markdown",
   "metadata": {
    "colab_type": "text",
    "id": "ACkKASGq4mpL"
   },
   "source": [
    "Imagine um método privado que realiza a verificação da chave do carro. \n",
    "\n",
    "Vamos chamá-lo de \"verifica_chave()\"\n",
    "\n",
    "Realizamos o encapsulamento por meio da adição de dois underlines '__' na frente do nome do método."
   ]
  },
  {
   "cell_type": "code",
   "execution_count": 150,
   "metadata": {
    "colab": {},
    "colab_type": "code",
    "id": "oZqHIKoX4pxZ"
   },
   "outputs": [],
   "source": [
    "class Carro():\n",
    "    def __init__(self, marca, modelo, ano, cor, statusFarol = \"desligado\"):\n",
    "        self.marca = marca\n",
    "        self.modelo = modelo\n",
    "        self.anodefabricacao = ano\n",
    "        self.cor = cor\n",
    "       \n",
    "        self.statusFarol = statusFarol\n",
    "        \n",
    "        self.velocimetro = 0\n",
    "        \n",
    "        self.__status = False # True para ligado e False para desligado\n",
    "        \n",
    "    def ligarFarol(self):\n",
    "        if(self.statusFarol == \"desligado\"):\n",
    "            self.statusFarol = \"ligado\"\n",
    "            print(\"Farol ligado\")\n",
    "        else:\n",
    "            print(\"O falor já está ligado\")\n",
    "            \n",
    "    def desligarFarol(self):\n",
    "        if(self.statusFarol == \"ligado\"):\n",
    "            self.statusFarol = \"desligado\"\n",
    "            print(\"Farol desligado\")\n",
    "        else:\n",
    "            print(\"O falor já está desligado\")\n",
    "            \n",
    "    def acelerar(self, acresVelocidade):\n",
    "        self.velocimetro = self.velocimetro + acresVelocidade\n",
    "        \n",
    "    def desacelerar(self, decresVelocidade = 5):\n",
    "        if (self.velocimetro > decresVelocidade):\n",
    "            self.velocimetro = self.velocimetro - decresVelocidade\n",
    "        else:\n",
    "            self.velocimetro = 0\n",
    "            \n",
    "    def getStatus(self): #pegar e retornar o valor da variável __status\n",
    "        return self.__status\n",
    "    \n",
    "    def setStatus(self, novo_status, chave):\n",
    "        \n",
    "        chave_certa = self.__verifica_chave(chave)\n",
    "        \n",
    "        if chave_certa: #como é booleano ja verifica a chave_certa como true ou False no else\n",
    "            self.__status = novo_status\n",
    "        else:\n",
    "            print(\"O status não pode ser alterado\")\n",
    "            \n",
    "    def __verifica_chave(self,chave):\n",
    "        if chave == 123456:\n",
    "            return True\n",
    "        else:\n",
    "            return False"
   ]
  },
  {
   "cell_type": "markdown",
   "metadata": {
    "colab_type": "text",
    "id": "rycDwMIV6CaA"
   },
   "source": [
    "O método encapsulado não pode ser chamado fora da classe pelos objetos.\n",
    "\n",
    "Mas ele pode ser usado dentro da classe como uma função auxiliar protegida da classe."
   ]
  },
  {
   "cell_type": "code",
   "execution_count": 152,
   "metadata": {
    "colab": {
     "base_uri": "https://localhost:8080/",
     "height": 34
    },
    "colab_type": "code",
    "id": "H-T3Z61T62Tx",
    "outputId": "c8ab67d1-aae1-4774-f126-a906f9930740"
   },
   "outputs": [
    {
     "data": {
      "text/plain": [
       "False"
      ]
     },
     "execution_count": 152,
     "metadata": {},
     "output_type": "execute_result"
    }
   ],
   "source": [
    "fox = Carro(\"wolks\", \"fox\", 2009, \"prata\")\n",
    "fox.getStatus()"
   ]
  },
  {
   "cell_type": "code",
   "execution_count": 153,
   "metadata": {
    "colab": {
     "base_uri": "https://localhost:8080/",
     "height": 52
    },
    "colab_type": "code",
    "id": "p98tGRFT7F9D",
    "outputId": "51d2b936-8059-4d52-b658-65de0a5d6295"
   },
   "outputs": [
    {
     "name": "stdout",
     "output_type": "stream",
     "text": [
      "O status não pode ser alterado\n"
     ]
    }
   ],
   "source": [
    "fox.setStatus(True, 123455)"
   ]
  },
  {
   "cell_type": "code",
   "execution_count": 155,
   "metadata": {
    "colab": {
     "base_uri": "https://localhost:8080/",
     "height": 34
    },
    "colab_type": "code",
    "id": "rvkerIjb7KA2",
    "outputId": "1bd73450-6964-4090-bb38-9e241298613a"
   },
   "outputs": [
    {
     "data": {
      "text/plain": [
       "True"
      ]
     },
     "execution_count": 155,
     "metadata": {},
     "output_type": "execute_result"
    }
   ],
   "source": [
    "fox.setStatus(True, 123456)\n",
    "fox.getStatus()"
   ]
  },
  {
   "cell_type": "markdown",
   "metadata": {
    "colab_type": "text",
    "id": "m-MnCemhPzom"
   },
   "source": [
    "## 9. Bibliotecas"
   ]
  },
  {
   "cell_type": "markdown",
   "metadata": {
    "colab_type": "text",
    "id": "zh0hPLsPgNXp"
   },
   "source": [
    "O Python é muito conhecido pela sua enorme quantidade de bibliotecas que são usadas para facilitar o dia a dia da programação, uma vez que podem ser acessadas com sintaxe simples e de forma rápida."
   ]
  },
  {
   "cell_type": "markdown",
   "metadata": {
    "colab_type": "text",
    "id": "o4-p63jDrqyu"
   },
   "source": [
    "**Math**"
   ]
  },
  {
   "cell_type": "markdown",
   "metadata": {
    "colab_type": "text",
    "id": "HXlMMkyirs-2"
   },
   "source": [
    "Uma bibliotecas simples e muito utilizada no Python é a biblioteca _Math_. Com ela você pode realizar diversas operações matemáticas. \n",
    "Para começarmos a utilizá-la devemos, primeiro, importá-la através da palavra-chave **import**"
   ]
  },
  {
   "cell_type": "code",
   "execution_count": 156,
   "metadata": {
    "colab": {},
    "colab_type": "code",
    "id": "2dv8OtX_Pzop"
   },
   "outputs": [],
   "source": [
    "import math"
   ]
  },
  {
   "cell_type": "markdown",
   "metadata": {
    "colab_type": "text",
    "id": "vX0cWEeIsYeX"
   },
   "source": [
    "Um detalhe interessante do **import** é que, através dele, podemos dar \"apelidos\" às bibliotecas que importamos"
   ]
  },
  {
   "cell_type": "code",
   "execution_count": 157,
   "metadata": {
    "colab": {},
    "colab_type": "code",
    "id": "QK0n_QlTqgnb"
   },
   "outputs": [],
   "source": [
    "import math as mt"
   ]
  },
  {
   "cell_type": "markdown",
   "metadata": {
    "colab_type": "text",
    "id": "8knzgoxyt0Ml"
   },
   "source": [
    "Alguns desses apelidos são convenções no mundo da programação, como:"
   ]
  },
  {
   "cell_type": "code",
   "execution_count": 158,
   "metadata": {
    "colab": {},
    "colab_type": "code",
    "id": "zHwqe3S6tlev"
   },
   "outputs": [],
   "source": [
    "# Algumas bibliotecas\n",
    "\n",
    "import pandas as pd\n",
    "import numpy as np"
   ]
  },
  {
   "cell_type": "markdown",
   "metadata": {
    "colab_type": "text",
    "id": "p1XqZbY3uBKN"
   },
   "source": [
    "Além disso, podemos importar apenas a função, ou as funções, que queremos usar da biblioteca"
   ]
  },
  {
   "cell_type": "code",
   "execution_count": 160,
   "metadata": {
    "colab": {},
    "colab_type": "code",
    "id": "PaWnIZW4Pzor"
   },
   "outputs": [],
   "source": [
    "from math import sin"
   ]
  },
  {
   "cell_type": "code",
   "execution_count": 161,
   "metadata": {
    "colab": {},
    "colab_type": "code",
    "id": "IA8y7PTEqwYs"
   },
   "outputs": [],
   "source": [
    "from math import sin,cos"
   ]
  },
  {
   "cell_type": "markdown",
   "metadata": {
    "colab_type": "text",
    "id": "-PNXGsG6vBS9"
   },
   "source": [
    "Podemos importar todas as funcionalidades da biblioteca usando o *"
   ]
  },
  {
   "cell_type": "code",
   "execution_count": 162,
   "metadata": {
    "colab": {},
    "colab_type": "code",
    "id": "ZzK1u0-sqpJa"
   },
   "outputs": [],
   "source": [
    "from math import *"
   ]
  },
  {
   "cell_type": "markdown",
   "metadata": {
    "colab_type": "text",
    "id": "9oAXmpjDwCOM"
   },
   "source": [
    "Por fim, podemos fazer a importação de diversas bibliotecas através de um único import"
   ]
  },
  {
   "cell_type": "code",
   "execution_count": 163,
   "metadata": {
    "colab": {},
    "colab_type": "code",
    "id": "-FKtsPY-q6_L"
   },
   "outputs": [],
   "source": [
    "import math, matplotlib\n",
    "import scipy"
   ]
  },
  {
   "cell_type": "markdown",
   "metadata": {
    "colab_type": "text",
    "id": "BVd83Rf_wTRZ"
   },
   "source": [
    "**Usando as bibliotecas**"
   ]
  },
  {
   "cell_type": "code",
   "execution_count": 164,
   "metadata": {
    "colab": {
     "base_uri": "https://localhost:8080/",
     "height": 34
    },
    "colab_type": "code",
    "id": "0CFTqFtnwhY6",
    "outputId": "cbadc3cd-af6f-4207-eb26-0d142fd7f818"
   },
   "outputs": [],
   "source": [
    "import math"
   ]
  },
  {
   "cell_type": "code",
   "execution_count": null,
   "metadata": {
    "colab": {
     "base_uri": "https://localhost:8080/",
     "height": 34
    },
    "colab_type": "code",
    "id": "ARsxr0-cxQ7D",
    "outputId": "e5a4cc62-edd1-4ee5-acf2-a20cfb9a86ef"
   },
   "outputs": [],
   "source": [
    "math?"
   ]
  },
  {
   "cell_type": "code",
   "execution_count": 165,
   "metadata": {
    "colab": {
     "base_uri": "https://localhost:8080/",
     "height": 34
    },
    "colab_type": "code",
    "id": "6hsr5WLlwhD5",
    "outputId": "149db665-2377-4285-a849-ea500354f76e"
   },
   "outputs": [
    {
     "data": {
      "text/plain": [
       "3.141592653589793"
      ]
     },
     "execution_count": 165,
     "metadata": {},
     "output_type": "execute_result"
    }
   ],
   "source": [
    "math.pi"
   ]
  },
  {
   "cell_type": "code",
   "execution_count": 166,
   "metadata": {
    "colab": {
     "base_uri": "https://localhost:8080/",
     "height": 34
    },
    "colab_type": "code",
    "id": "9k56cSB_xUBw",
    "outputId": "09fee3cd-0b28-4580-a646-e72b4b79e5a3"
   },
   "outputs": [
    {
     "data": {
      "text/plain": [
       "1.2246467991473532e-16"
      ]
     },
     "execution_count": 166,
     "metadata": {},
     "output_type": "execute_result"
    }
   ],
   "source": [
    "math.sin(math.pi)"
   ]
  },
  {
   "cell_type": "code",
   "execution_count": 167,
   "metadata": {},
   "outputs": [
    {
     "data": {
      "text/plain": [
       "-1.0"
      ]
     },
     "execution_count": 167,
     "metadata": {},
     "output_type": "execute_result"
    }
   ],
   "source": [
    "math.cos(math.pi)"
   ]
  },
  {
   "cell_type": "code",
   "execution_count": 168,
   "metadata": {},
   "outputs": [
    {
     "data": {
      "text/plain": [
       "4.47213595499958"
      ]
     },
     "execution_count": 168,
     "metadata": {},
     "output_type": "execute_result"
    }
   ],
   "source": [
    "math.sqrt(20)"
   ]
  },
  {
   "cell_type": "code",
   "execution_count": 169,
   "metadata": {},
   "outputs": [],
   "source": [
    "math.factorial?"
   ]
  },
  {
   "cell_type": "code",
   "execution_count": 170,
   "metadata": {},
   "outputs": [],
   "source": [
    "from math import sin,cos"
   ]
  },
  {
   "cell_type": "code",
   "execution_count": 171,
   "metadata": {},
   "outputs": [
    {
     "data": {
      "text/plain": [
       "9.265358966049026e-05"
      ]
     },
     "execution_count": 171,
     "metadata": {},
     "output_type": "execute_result"
    }
   ],
   "source": [
    "sin(3.1415)"
   ]
  },
  {
   "cell_type": "code",
   "execution_count": 172,
   "metadata": {},
   "outputs": [
    {
     "data": {
      "text/plain": [
       "-0.9999999957076562"
      ]
     },
     "execution_count": 172,
     "metadata": {},
     "output_type": "execute_result"
    }
   ],
   "source": [
    "cos(3.1415)"
   ]
  },
  {
   "cell_type": "code",
   "execution_count": null,
   "metadata": {},
   "outputs": [],
   "source": []
  }
 ],
 "metadata": {
  "colab": {
   "collapsed_sections": [],
   "name": "exemplos_curso_introdutorio_feito(editado).ipynb",
   "provenance": []
  },
  "kernelspec": {
   "display_name": "Python 3",
   "language": "python",
   "name": "python3"
  },
  "language_info": {
   "codemirror_mode": {
    "name": "ipython",
    "version": 3
   },
   "file_extension": ".py",
   "mimetype": "text/x-python",
   "name": "python",
   "nbconvert_exporter": "python",
   "pygments_lexer": "ipython3",
   "version": "3.7.4"
  }
 },
 "nbformat": 4,
 "nbformat_minor": 1
}
